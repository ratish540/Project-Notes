{
 "cells": [
  {
   "cell_type": "markdown",
   "metadata": {
    "id": "ESjkFm6uLCTR"
   },
   "source": [
    "\n",
    "# **Web scraping**"
   ]
  },
  {
   "cell_type": "markdown",
   "metadata": {
    "id": "lRq0aiW6GLoy"
   },
   "source": [
    "\n",
    "Web scraping, also known as web harvesting or web data extraction, is a type of data scraping used to gather information from websites."
   ]
  },
  {
   "cell_type": "markdown",
   "metadata": {
    "id": "kNmGt4PIF5Hx"
   },
   "source": [
    "In this session, we will cover the following concepts with the help of a business use case:\n",
    "* Data acquisition through Web scraping"
   ]
  },
  {
   "cell_type": "markdown",
   "metadata": {
    "id": "jaVunSQ4PguP"
   },
   "source": [
    "- Warnings are given to developers to alert them about circumstances that are not necessarily exceptions. Warnings are not the same as errors. It shows some message but the program will run. The `filterwarnings()` function, defined in the `warning` module, is used to handle warnings (presented, disregarded, or raised to exceptions)."
   ]
  },
  {
   "cell_type": "code",
   "execution_count": null,
   "metadata": {
    "id": "dd7eIEAMLCTS"
   },
   "outputs": [],
   "source": [
    "import warnings\n",
    "warnings.filterwarnings(\"ignore\")"
   ]
  },
  {
   "cell_type": "markdown",
   "metadata": {
    "id": "HOOrQQo2LCTX"
   },
   "source": [
    "## **Health Care Rankings for Different European Countries** "
   ]
  },
  {
   "cell_type": "markdown",
   "metadata": {
    "id": "UynH0-5hLCTX"
   },
   "source": [
    "**Beautiful Soup** is a Python package that is used for web scraping. The urllib package is used to simplify the tasks of building, loading and parsing URLs. The Python datetime module supplies classes to work with date and time."
   ]
  },
  {
   "cell_type": "code",
   "execution_count": null,
   "metadata": {
    "id": "wl1EJ_1vLCTY"
   },
   "outputs": [],
   "source": [
    "import numpy as np\n",
    "import pandas as pd\n",
    "from bs4 import BeautifulSoup\n",
    "import requests\n",
    "import csv\n",
    "import re\n",
    "import urllib.request as urllib2\n",
    "from datetime import datetime\n",
    "import os\n",
    "import sys\n",
    "import matplotlib.pyplot as plt\n",
    "import matplotlib.image as mpimg"
   ]
  },
  {
   "cell_type": "markdown",
   "metadata": {
    "id": "aSMVDArJLCTd"
   },
   "source": [
    "- We are going to scrape data from Wikipedia. The data indicate rankings on different health indices such as patient rights and information, accessibility (waiting time for treatment), outcomes, range, the reach of services provided, prevention, and pharmaceuticals. The data are from the Euro Health Consumer index. In the following code, we read the data and use Beautiful Soup to convert the data into **bs4.BeautifulSoup** data."
   ]
  },
  {
   "cell_type": "code",
   "execution_count": null,
   "metadata": {
    "colab": {
     "base_uri": "https://localhost:8080/"
    },
    "executionInfo": {
     "elapsed": 1959,
     "status": "ok",
     "timestamp": 1620798644773,
     "user": {
      "displayName": "Nishant Singh",
      "photoUrl": "https://lh3.googleusercontent.com/a-/AOh14GjUQCrk-faKBPHBYQ7dZiV7cSiHeQ0NWSVihFrxwA=s64",
      "userId": "15030016934842181675"
     },
     "user_tz": -330
    },
    "id": "GiBXHuzQLCTd",
    "outputId": "7e7d4de2-7fa8-4c99-f6d4-3e08a14a81ec"
   },
   "outputs": [
    {
     "data": {
      "text/plain": [
       "bs4.BeautifulSoup"
      ]
     },
     "execution_count": 3,
     "metadata": {},
     "output_type": "execute_result"
    }
   ],
   "source": [
    "url = 'https://en.wikipedia.org/wiki/Healthcare_in_Europe' \n",
    "r = requests.get(url)\n",
    "HCE = BeautifulSoup(r.text)\n",
    "type(HCE)"
   ]
  },
  {
   "cell_type": "markdown",
   "metadata": {
    "id": "MXHy0m-tLCTh"
   },
   "source": [
    "- First, we must choose the table that we want to scrape. As many webpages have tables, we'll retrieve the exact table names from the HTML and store them in a list called `lst.`"
   ]
  },
  {
   "cell_type": "code",
   "execution_count": null,
   "metadata": {
    "id": "aNrfN943LCTi"
   },
   "outputs": [],
   "source": [
    "webpage = urllib2.urlopen(url)\n",
    "htmlpage= webpage.readlines()\n",
    "lst = []\n",
    "for line in htmlpage:\n",
    "    line = str(line).rstrip()\n",
    "    if re.search('table class', line) :\n",
    "        lst.append(line)"
   ]
  },
  {
   "cell_type": "code",
   "execution_count": null,
   "metadata": {
    "executionInfo": {
     "elapsed": 2640,
     "status": "aborted",
     "timestamp": 1620798645464,
     "user": {
      "displayName": "Nishant Singh",
      "photoUrl": "https://lh3.googleusercontent.com/a-/AOh14GjUQCrk-faKBPHBYQ7dZiV7cSiHeQ0NWSVihFrxwA=s64",
      "userId": "15030016934842181675"
     },
     "user_tz": -330
    },
    "id": "OAnApvWKLCTm",
    "outputId": "8812c5c2-c6c9-4b05-a178-140138e48581"
   },
   "outputs": [
    {
     "data": {
      "text/plain": [
       "5"
      ]
     },
     "execution_count": 5,
     "metadata": {},
     "output_type": "execute_result"
    }
   ],
   "source": [
    "len(lst)"
   ]
  },
  {
   "cell_type": "markdown",
   "metadata": {
    "id": "5V3y4rEdkAwi"
   },
   "source": [
    "- This list `lst` has a length of 5."
   ]
  },
  {
   "cell_type": "markdown",
   "metadata": {
    "id": "A916sQc8LCTp"
   },
   "source": [
    "- Now let us display `lst`."
   ]
  },
  {
   "cell_type": "code",
   "execution_count": null,
   "metadata": {
    "executionInfo": {
     "elapsed": 2637,
     "status": "aborted",
     "timestamp": 1620798645466,
     "user": {
      "displayName": "Nishant Singh",
      "photoUrl": "https://lh3.googleusercontent.com/a-/AOh14GjUQCrk-faKBPHBYQ7dZiV7cSiHeQ0NWSVihFrxwA=s64",
      "userId": "15030016934842181675"
     },
     "user_tz": -330
    },
    "id": "_t1Nok6LLCTq",
    "outputId": "45035ba2-b9a7-478c-f6d7-8877ca6591a4"
   },
   "outputs": [
    {
     "data": {
      "text/plain": [
       "['b\\'<table class=\"wikitable floatright sortable\" style=\"font-size: 90%\">\\\\n\\'',\n",
       " 'b\\'<div class=\"navbox-styles nomobile\"><style data-mw-deduplicate=\"TemplateStyles:r1061467846\">.mw-parser-output .navbox{box-sizing:border-box;border:1px solid #a2a9b1;width:100%;clear:both;font-size:88%;text-align:center;padding:1px;margin:1em auto 0}.mw-parser-output .navbox .navbox{margin-top:0}.mw-parser-output .navbox+.navbox,.mw-parser-output .navbox+.navbox-styles+.navbox{margin-top:-1px}.mw-parser-output .navbox-inner,.mw-parser-output .navbox-subgroup{width:100%}.mw-parser-output .navbox-group,.mw-parser-output .navbox-title,.mw-parser-output .navbox-abovebelow{padding:0.25em 1em;line-height:1.5em;text-align:center}.mw-parser-output .navbox-group{white-space:nowrap;text-align:right}.mw-parser-output .navbox,.mw-parser-output .navbox-subgroup{background-color:#fdfdfd}.mw-parser-output .navbox-list{line-height:1.5em;border-color:#fdfdfd}.mw-parser-output .navbox-list-with-group{text-align:left;border-left-width:2px;border-left-style:solid}.mw-parser-output tr+tr>.navbox-abovebelow,.mw-parser-output tr+tr>.navbox-group,.mw-parser-output tr+tr>.navbox-image,.mw-parser-output tr+tr>.navbox-list{border-top:2px solid #fdfdfd}.mw-parser-output .navbox-title{background-color:#ccf}.mw-parser-output .navbox-abovebelow,.mw-parser-output .navbox-group,.mw-parser-output .navbox-subgroup .navbox-title{background-color:#ddf}.mw-parser-output .navbox-subgroup .navbox-group,.mw-parser-output .navbox-subgroup .navbox-abovebelow{background-color:#e6e6ff}.mw-parser-output .navbox-even{background-color:#f7f7f7}.mw-parser-output .navbox-odd{background-color:transparent}.mw-parser-output .navbox .hlist td dl,.mw-parser-output .navbox .hlist td ol,.mw-parser-output .navbox .hlist td ul,.mw-parser-output .navbox td.hlist dl,.mw-parser-output .navbox td.hlist ol,.mw-parser-output .navbox td.hlist ul{padding:0.125em 0}.mw-parser-output .navbox .navbar{display:block;font-size:100%}.mw-parser-output .navbox-title .navbar{float:left;text-align:left;margin-right:0.5em}</style></div><div role=\"navigation\" class=\"navbox\" aria-labelledby=\"Healthcare_in_Europe\" style=\"padding:3px\"><table class=\"nowraplinks mw-collapsible autocollapse navbox-inner\" style=\"border-spacing:0;background:transparent;color:inherit\"><tbody><tr><th scope=\"col\" class=\"navbox-title\" colspan=\"2\"><style data-mw-deduplicate=\"TemplateStyles:r1063604349\">.mw-parser-output .navbar{display:inline;font-size:88%;font-weight:normal}.mw-parser-output .navbar-collapse{float:left;text-align:left}.mw-parser-output .navbar-boxtext{word-spacing:0}.mw-parser-output .navbar ul{display:inline-block;white-space:nowrap;line-height:inherit}.mw-parser-output .navbar-brackets::before{margin-right:-0.125em;content:\"[ \"}.mw-parser-output .navbar-brackets::after{margin-left:-0.125em;content:\" ]\"}.mw-parser-output .navbar li{word-spacing:-0.125em}.mw-parser-output .navbar a>span,.mw-parser-output .navbar a>abbr{text-decoration:inherit}.mw-parser-output .navbar-mini abbr{font-variant:small-caps;border-bottom:none;text-decoration:none;cursor:inherit}.mw-parser-output .navbar-ct-full{font-size:114%;margin:0 7em}.mw-parser-output .navbar-ct-mini{font-size:114%;margin:0 4em}</style><div class=\"navbar plainlinks hlist navbar-mini\"><ul><li class=\"nv-view\"><a href=\"/wiki/Template:Healthcare_in_Europe\" title=\"Template:Healthcare in Europe\"><abbr title=\"View this template\" style=\";;background:none transparent;border:none;box-shadow:none;padding:0;\">v</abbr></a></li><li class=\"nv-talk\"><a href=\"/wiki/Template_talk:Healthcare_in_Europe\" title=\"Template talk:Healthcare in Europe\"><abbr title=\"Discuss this template\" style=\";;background:none transparent;border:none;box-shadow:none;padding:0;\">t</abbr></a></li><li class=\"nv-edit\"><a class=\"external text\" href=\"https://en.wikipedia.org/w/index.php?title=Template:Healthcare_in_Europe&amp;action=edit\"><abbr title=\"Edit this template\" style=\";;background:none transparent;border:none;box-shadow:none;padding:0;\">e</abbr></a></li></ul></div><div id=\"Healthcare_in_Europe\" style=\"font-size:114%;margin:0 4em\"><a class=\"mw-selflink selflink\">Healthcare in Europe </a></div></th></tr><tr><th scope=\"row\" class=\"navbox-group\" style=\"width:1%\">Sovereign states</th><td class=\"navbox-list-with-group navbox-list navbox-odd hlist\" style=\"width:100%;padding:0\"><div style=\"padding:0 0.25em\">\\\\n\\'',\n",
       " 'b\\'<div class=\"navbox-styles nomobile\"><link rel=\"mw-deduplicated-inline-style\" href=\"mw-data:TemplateStyles:r1061467846\"/></div><div role=\"navigation\" class=\"navbox\" aria-labelledby=\"Health_in_Europe\" style=\"padding:3px\"><table class=\"nowraplinks mw-collapsible autocollapse navbox-inner\" style=\"border-spacing:0;background:transparent;color:inherit\"><tbody><tr><th scope=\"col\" class=\"navbox-title\" colspan=\"2\"><link rel=\"mw-deduplicated-inline-style\" href=\"mw-data:TemplateStyles:r1063604349\"/><div class=\"navbar plainlinks hlist navbar-mini\"><ul><li class=\"nv-view\"><a href=\"/wiki/Template:Europe_topic\" title=\"Template:Europe topic\"><abbr title=\"View this template\" style=\";;background:none transparent;border:none;box-shadow:none;padding:0;\">v</abbr></a></li><li class=\"nv-talk\"><a href=\"/wiki/Template_talk:Europe_topic\" title=\"Template talk:Europe topic\"><abbr title=\"Discuss this template\" style=\";;background:none transparent;border:none;box-shadow:none;padding:0;\">t</abbr></a></li><li class=\"nv-edit\"><a class=\"external text\" href=\"https://en.wikipedia.org/w/index.php?title=Template:Europe_topic&amp;action=edit\"><abbr title=\"Edit this template\" style=\";;background:none transparent;border:none;box-shadow:none;padding:0;\">e</abbr></a></li></ul></div><div id=\"Health_in_Europe\" style=\"font-size:114%;margin:0 4em\"><a href=\"/wiki/Health_in_Europe\" class=\"mw-redirect\" title=\"Health in Europe\">Health in Europe </a></div></th></tr><tr><th scope=\"row\" class=\"navbox-group\" style=\"width:1%\">Sovereign states</th><td class=\"navbox-list-with-group navbox-list navbox-odd hlist\" style=\"width:100%;padding:0\"><div style=\"padding:0 0.25em\">\\\\n\\'',\n",
       " 'b\\'<div class=\"navbox-styles nomobile\"><link rel=\"mw-deduplicated-inline-style\" href=\"mw-data:TemplateStyles:r1061467846\"/></div><div role=\"navigation\" class=\"navbox\" aria-labelledby=\"List_of_hospitals_in_Europe\" style=\"padding:3px\"><table class=\"nowraplinks mw-collapsible autocollapse navbox-inner\" style=\"border-spacing:0;background:transparent;color:inherit\"><tbody><tr><th scope=\"col\" class=\"navbox-title\" colspan=\"2\"><link rel=\"mw-deduplicated-inline-style\" href=\"mw-data:TemplateStyles:r1063604349\"/><div class=\"navbar plainlinks hlist navbar-mini\"><ul><li class=\"nv-view\"><a href=\"/wiki/Template:Europe_topic\" title=\"Template:Europe topic\"><abbr title=\"View this template\" style=\";;background:none transparent;border:none;box-shadow:none;padding:0;\">v</abbr></a></li><li class=\"nv-talk\"><a href=\"/wiki/Template_talk:Europe_topic\" title=\"Template talk:Europe topic\"><abbr title=\"Discuss this template\" style=\";;background:none transparent;border:none;box-shadow:none;padding:0;\">t</abbr></a></li><li class=\"nv-edit\"><a class=\"external text\" href=\"https://en.wikipedia.org/w/index.php?title=Template:Europe_topic&amp;action=edit\"><abbr title=\"Edit this template\" style=\";;background:none transparent;border:none;box-shadow:none;padding:0;\">e</abbr></a></li></ul></div><div id=\"List_of_hospitals_in_Europe\" style=\"font-size:114%;margin:0 4em\"><a href=\"/wiki/List_of_hospitals_in_Europe\" class=\"mw-redirect\" title=\"List of hospitals in Europe\">List of hospitals in Europe </a></div></th></tr><tr><th scope=\"row\" class=\"navbox-group\" style=\"width:1%\">Sovereign states</th><td class=\"navbox-list-with-group navbox-list navbox-odd hlist\" style=\"width:100%;padding:0\"><div style=\"padding:0 0.25em\">\\\\n\\'',\n",
       " 'b\\'<div class=\"navbox-styles nomobile\"><link rel=\"mw-deduplicated-inline-style\" href=\"mw-data:TemplateStyles:r1061467846\"/></div><div role=\"navigation\" class=\"navbox authority-control\" aria-labelledby=\"Authority_control:_National_libraries_frameless_&amp;#124;text-top_&amp;#124;10px_&amp;#124;alt=Edit_this_at_Wikidata_&amp;#124;link=https&amp;#58;//www.wikidata.org/wiki/Q5691262#identifiers&amp;#124;Edit_this_at_Wikidata\" style=\"padding:3px\"><table class=\"nowraplinks hlist navbox-inner\" style=\"border-spacing:0;background:transparent;color:inherit\"><tbody><tr><th id=\"Authority_control:_National_libraries_frameless_&amp;#124;text-top_&amp;#124;10px_&amp;#124;alt=Edit_this_at_Wikidata_&amp;#124;link=https&amp;#58;//www.wikidata.org/wiki/Q5691262#identifiers&amp;#124;Edit_this_at_Wikidata\" scope=\"row\" class=\"navbox-group\" style=\"width:1%\"><a href=\"/wiki/Help:Authority_control\" title=\"Help:Authority control\">Authority control: National libraries</a>  <a href=\"https://www.wikidata.org/wiki/Q5691262#identifiers\" title=\"Edit this at Wikidata\"><img alt=\"Edit this at Wikidata\" src=\"//upload.wikimedia.org/wikipedia/en/thumb/8/8a/OOjs_UI_icon_edit-ltr-progressive.svg/10px-OOjs_UI_icon_edit-ltr-progressive.svg.png\" decoding=\"async\" width=\"10\" height=\"10\" style=\"vertical-align: text-top\" srcset=\"//upload.wikimedia.org/wikipedia/en/thumb/8/8a/OOjs_UI_icon_edit-ltr-progressive.svg/15px-OOjs_UI_icon_edit-ltr-progressive.svg.png 1.5x, //upload.wikimedia.org/wikipedia/en/thumb/8/8a/OOjs_UI_icon_edit-ltr-progressive.svg/20px-OOjs_UI_icon_edit-ltr-progressive.svg.png 2x\" data-file-width=\"20\" data-file-height=\"20\" /></a></th><td class=\"navbox-list-with-group navbox-list navbox-odd\" style=\"width:100%;padding:0\"><div style=\"padding:0 0.25em\">\\\\n\\'']"
      ]
     },
     "execution_count": 6,
     "metadata": {},
     "output_type": "execute_result"
    }
   ],
   "source": [
    "lst"
   ]
  },
  {
   "cell_type": "markdown",
   "metadata": {
    "id": "926kX-OTLCTu"
   },
   "source": [
    "- We will scrape the first table, and use index 0 in `lst` to capture the first table name. Now, read the table using Beautiful Soup's `find` function. A simple option is to type the table name. You can simply select the name in `lst`, which in this case is \"wikitable floatright sortable\"."
   ]
  },
  {
   "cell_type": "code",
   "execution_count": null,
   "metadata": {
    "id": "dMq90BPlLCTv"
   },
   "outputs": [],
   "source": [
    "table=HCE.find('table', {'class', 'wikitable floatright sortable'})"
   ]
  },
  {
   "cell_type": "code",
   "execution_count": null,
   "metadata": {
    "id": "04mjhBStPguY",
    "outputId": "7a8da2fb-555f-4f56-adc6-8271be0aa00d"
   },
   "outputs": [
    {
     "data": {
      "text/plain": [
       "bs4.element.Tag"
      ]
     },
     "execution_count": 8,
     "metadata": {},
     "output_type": "execute_result"
    }
   ],
   "source": [
    "type(table)"
   ]
  },
  {
   "cell_type": "markdown",
   "metadata": {
    "id": "o0HhV0XsLCTy"
   },
   "source": [
    "- Alternatively, there is a way to automate this step by capturing the first data from the list and then stripping off the unnecessary characters like `^ \" *`."
   ]
  },
  {
   "cell_type": "code",
   "execution_count": null,
   "metadata": {
    "id": "CWbYJOodLCTy"
   },
   "outputs": [],
   "source": [
    "x=lst[0]\n",
    "extr=re.findall('\"([^\"]*)\"', x)\n",
    "table=HCE.find('table', {'class', extr[0]})"
   ]
  },
  {
   "cell_type": "code",
   "execution_count": null,
   "metadata": {
    "executionInfo": {
     "elapsed": 2622,
     "status": "aborted",
     "timestamp": 1620798645468,
     "user": {
      "displayName": "Nishant Singh",
      "photoUrl": "https://lh3.googleusercontent.com/a-/AOh14GjUQCrk-faKBPHBYQ7dZiV7cSiHeQ0NWSVihFrxwA=s64",
      "userId": "15030016934842181675"
     },
     "user_tz": -330
    },
    "id": "JLrMCD3iLCT1",
    "outputId": "594ce2ef-0d50-4095-fd8a-4289b7a5854a"
   },
   "outputs": [
    {
     "data": {
      "text/plain": [
       "bs4.element.Tag"
      ]
     },
     "execution_count": 10,
     "metadata": {},
     "output_type": "execute_result"
    }
   ],
   "source": [
    "type(table)"
   ]
  },
  {
   "cell_type": "markdown",
   "metadata": {
    "id": "bhSJLoxbLCT7"
   },
   "source": [
    "- Now, it would be good to read the header and row names separately, so later we can easily make a DataFrame."
   ]
  },
  {
   "cell_type": "code",
   "execution_count": null,
   "metadata": {
    "id": "LJEQ0l2jLCT8"
   },
   "outputs": [],
   "source": [
    "headers= [header.text for header in table.find_all('th')]"
   ]
  },
  {
   "cell_type": "code",
   "execution_count": null,
   "metadata": {
    "executionInfo": {
     "elapsed": 2612,
     "status": "aborted",
     "timestamp": 1620798645469,
     "user": {
      "displayName": "Nishant Singh",
      "photoUrl": "https://lh3.googleusercontent.com/a-/AOh14GjUQCrk-faKBPHBYQ7dZiV7cSiHeQ0NWSVihFrxwA=s64",
      "userId": "15030016934842181675"
     },
     "user_tz": -330
    },
    "id": "WM6IN5dBLCT_",
    "outputId": "5557a13d-62ec-4a37-edda-bcd516436248",
    "scrolled": true
   },
   "outputs": [
    {
     "data": {
      "text/plain": [
       "['WorldRank\\n', 'EURank\\n', 'Country\\n', 'Life expectancyat birth (years)\\n']"
      ]
     },
     "execution_count": 12,
     "metadata": {},
     "output_type": "execute_result"
    }
   ],
   "source": [
    "headers"
   ]
  },
  {
   "cell_type": "code",
   "execution_count": null,
   "metadata": {
    "id": "3lXzQfiBLCUD"
   },
   "outputs": [],
   "source": [
    "rows = []\n",
    "for row in table.find_all('tr'):\n",
    "    rows.append([val.text.encode('utf8').decode() for val in row.find_all('td')])"
   ]
  },
  {
   "cell_type": "markdown",
   "metadata": {
    "id": "CRM4ynBaLCUF"
   },
   "source": [
    "- Now, all elements, rows, and headers are available to build the DataFrame, which we will call `df1`."
   ]
  },
  {
   "cell_type": "code",
   "execution_count": null,
   "metadata": {
    "id": "Ni8M_uA8LCUG"
   },
   "outputs": [],
   "source": [
    "df1 = pd.DataFrame(rows, columns=headers)"
   ]
  },
  {
   "cell_type": "markdown",
   "metadata": {
    "id": "bZJB63rdPgud"
   },
   "source": [
    "- Let's display first seven rows of the `df1`"
   ]
  },
  {
   "cell_type": "code",
   "execution_count": null,
   "metadata": {
    "executionInfo": {
     "elapsed": 2601,
     "status": "aborted",
     "timestamp": 1620798645473,
     "user": {
      "displayName": "Nishant Singh",
      "photoUrl": "https://lh3.googleusercontent.com/a-/AOh14GjUQCrk-faKBPHBYQ7dZiV7cSiHeQ0NWSVihFrxwA=s64",
      "userId": "15030016934842181675"
     },
     "user_tz": -330
    },
    "id": "JY5SWNQWLCUJ",
    "outputId": "abb570dc-2eeb-4551-934e-8036e41d9eda"
   },
   "outputs": [
    {
     "data": {
      "text/html": [
       "<div>\n",
       "<style scoped>\n",
       "    .dataframe tbody tr th:only-of-type {\n",
       "        vertical-align: middle;\n",
       "    }\n",
       "\n",
       "    .dataframe tbody tr th {\n",
       "        vertical-align: top;\n",
       "    }\n",
       "\n",
       "    .dataframe thead th {\n",
       "        text-align: right;\n",
       "    }\n",
       "</style>\n",
       "<table border=\"1\" class=\"dataframe\">\n",
       "  <thead>\n",
       "    <tr style=\"text-align: right;\">\n",
       "      <th></th>\n",
       "      <th>WorldRank\\n</th>\n",
       "      <th>EURank\\n</th>\n",
       "      <th>Country\\n</th>\n",
       "      <th>Life expectancyat birth (years)\\n</th>\n",
       "    </tr>\n",
       "  </thead>\n",
       "  <tbody>\n",
       "    <tr>\n",
       "      <th>0</th>\n",
       "      <td>None</td>\n",
       "      <td>None</td>\n",
       "      <td>None</td>\n",
       "      <td>None</td>\n",
       "    </tr>\n",
       "    <tr>\n",
       "      <th>1</th>\n",
       "      <td>5.\\n</td>\n",
       "      <td>1.\\n</td>\n",
       "      <td>Spain\\n</td>\n",
       "      <td>83.4\\n</td>\n",
       "    </tr>\n",
       "    <tr>\n",
       "      <th>2</th>\n",
       "      <td>6.\\n</td>\n",
       "      <td>2.\\n</td>\n",
       "      <td>Italy\\n</td>\n",
       "      <td>83.4\\n</td>\n",
       "    </tr>\n",
       "    <tr>\n",
       "      <th>3</th>\n",
       "      <td>11.\\n</td>\n",
       "      <td>3.\\n</td>\n",
       "      <td>Sweden\\n</td>\n",
       "      <td>82.7\\n</td>\n",
       "    </tr>\n",
       "    <tr>\n",
       "      <th>4</th>\n",
       "      <td>12.\\n</td>\n",
       "      <td>4.\\n</td>\n",
       "      <td>France\\n</td>\n",
       "      <td>82.5\\n</td>\n",
       "    </tr>\n",
       "    <tr>\n",
       "      <th>5</th>\n",
       "      <td>13.\\n</td>\n",
       "      <td>5.\\n</td>\n",
       "      <td>Malta\\n</td>\n",
       "      <td>82.4\\n</td>\n",
       "    </tr>\n",
       "    <tr>\n",
       "      <th>6</th>\n",
       "      <td>16.\\n</td>\n",
       "      <td>6.\\n</td>\n",
       "      <td>Ireland\\n</td>\n",
       "      <td>82.1\\n</td>\n",
       "    </tr>\n",
       "  </tbody>\n",
       "</table>\n",
       "</div>"
      ],
      "text/plain": [
       "  WorldRank\\n EURank\\n  Country\\n Life expectancyat birth (years)\\n\n",
       "0        None     None       None                              None\n",
       "1        5.\\n     1.\\n    Spain\\n                            83.4\\n\n",
       "2        6.\\n     2.\\n    Italy\\n                            83.4\\n\n",
       "3       11.\\n     3.\\n   Sweden\\n                            82.7\\n\n",
       "4       12.\\n     4.\\n   France\\n                            82.5\\n\n",
       "5       13.\\n     5.\\n    Malta\\n                            82.4\\n\n",
       "6       16.\\n     6.\\n  Ireland\\n                            82.1\\n"
      ]
     },
     "execution_count": 15,
     "metadata": {},
     "output_type": "execute_result"
    }
   ],
   "source": [
    "df1.head(7)"
   ]
  },
  {
   "cell_type": "markdown",
   "metadata": {
    "id": "kycGHaenLCUN"
   },
   "source": [
    "## **Health Expenditure**"
   ]
  },
  {
   "cell_type": "markdown",
   "metadata": {
    "id": "ohXjnuPrLCUN"
   },
   "source": [
    "Let's scrape health expenditure as well. These are data per capita, which means that expenditure was corrected for the number of habitants in a country.\n",
    "\n",
    "- Just like we did for above web page (**Health Care Rankings for Different European Countries**), we have to repeat the same steps in this web page as well (**Health Expenditure**).\n",
    "\n",
    "- Finally, we will be directed to the first table \"wikitable sortable static\" in this web page as well."
   ]
  },
  {
   "cell_type": "code",
   "execution_count": null,
   "metadata": {
    "executionInfo": {
     "elapsed": 2598,
     "status": "aborted",
     "timestamp": 1620798645474,
     "user": {
      "displayName": "Nishant Singh",
      "photoUrl": "https://lh3.googleusercontent.com/a-/AOh14GjUQCrk-faKBPHBYQ7dZiV7cSiHeQ0NWSVihFrxwA=s64",
      "userId": "15030016934842181675"
     },
     "user_tz": -330
    },
    "id": "kFXMeUN5LCUO",
    "outputId": "3e21f2a4-0d83-4165-d401-8b8148dc7f3c"
   },
   "outputs": [
    {
     "name": "stdout",
     "output_type": "stream",
     "text": [
      "b'<table class=\"wikitable sortable static-row-numbers plainrowheaders srn-white-background\" border=\"1\" style=\"text-align:right;\">\\n'\n"
     ]
    }
   ],
   "source": [
    "url = 'https://en.wikipedia.org/wiki/List_of_countries_by_total_health_expenditure_per_capita' \n",
    "r = requests.get(url)\n",
    "HEE = BeautifulSoup(r.text)\n",
    "webpage = urllib2.urlopen(url)\n",
    "htmlpage= webpage.readlines()\n",
    "lst = []\n",
    "for line in htmlpage:\n",
    "    line = str(line).rstrip()\n",
    "    if re.search('table class', line) :\n",
    "        lst.append(line)\n",
    "x=lst[1]\n",
    "print(x)\n",
    "extr=re.findall('\"([^\"]*)\"', x)\n",
    "table=HEE.find('table', {'class', extr[0]})\n",
    "headers= [header.text for header in table.find_all('th')]\n",
    "rows = []\n",
    "for row in table.find_all('tr'):\n",
    "    rows.append([val.text.encode('utf8').decode() for val in row.find_all('td')])\n",
    "headers = [i.replace(\"\\n\", \"\") for i in headers]\n",
    "df2 = pd.DataFrame(rows, columns=headers)"
   ]
  },
  {
   "cell_type": "markdown",
   "metadata": {
    "id": "bqy_M9mpPgue"
   },
   "source": [
    "- Let's display the first five rows of the table \"wikitable sortable static\""
   ]
  },
  {
   "cell_type": "code",
   "execution_count": null,
   "metadata": {
    "executionInfo": {
     "elapsed": 2593,
     "status": "aborted",
     "timestamp": 1620798645474,
     "user": {
      "displayName": "Nishant Singh",
      "photoUrl": "https://lh3.googleusercontent.com/a-/AOh14GjUQCrk-faKBPHBYQ7dZiV7cSiHeQ0NWSVihFrxwA=s64",
      "userId": "15030016934842181675"
     },
     "user_tz": -330
    },
    "id": "LjYqzyM0LCUR",
    "outputId": "ce87ed45-d56c-43f6-f859-3272398b9291"
   },
   "outputs": [
    {
     "data": {
      "text/html": [
       "<div>\n",
       "<style scoped>\n",
       "    .dataframe tbody tr th:only-of-type {\n",
       "        vertical-align: middle;\n",
       "    }\n",
       "\n",
       "    .dataframe tbody tr th {\n",
       "        vertical-align: top;\n",
       "    }\n",
       "\n",
       "    .dataframe thead th {\n",
       "        text-align: right;\n",
       "    }\n",
       "</style>\n",
       "<table border=\"1\" class=\"dataframe\">\n",
       "  <thead>\n",
       "    <tr style=\"text-align: right;\">\n",
       "      <th></th>\n",
       "      <th>Country</th>\n",
       "      <th>2017</th>\n",
       "      <th>2018</th>\n",
       "      <th>2019</th>\n",
       "    </tr>\n",
       "  </thead>\n",
       "  <tbody>\n",
       "    <tr>\n",
       "      <th>0</th>\n",
       "      <td>None</td>\n",
       "      <td>None</td>\n",
       "      <td>None</td>\n",
       "      <td>None</td>\n",
       "    </tr>\n",
       "    <tr>\n",
       "      <th>1</th>\n",
       "      <td>Australia *\\n</td>\n",
       "      <td>4,711\\n</td>\n",
       "      <td>4,965\\n</td>\n",
       "      <td>5,187\\n</td>\n",
       "    </tr>\n",
       "    <tr>\n",
       "      <th>2</th>\n",
       "      <td>Austria *\\n</td>\n",
       "      <td>5,360\\n</td>\n",
       "      <td>5,538\\n</td>\n",
       "      <td>5,851\\n</td>\n",
       "    </tr>\n",
       "    <tr>\n",
       "      <th>3</th>\n",
       "      <td>Belgium *\\n</td>\n",
       "      <td>5,014\\n</td>\n",
       "      <td>5,103\\n</td>\n",
       "      <td>5,428\\n</td>\n",
       "    </tr>\n",
       "    <tr>\n",
       "      <th>4</th>\n",
       "      <td>Canada *\\n</td>\n",
       "      <td>5,155\\n</td>\n",
       "      <td>5,287\\n</td>\n",
       "      <td>5,418\\n</td>\n",
       "    </tr>\n",
       "  </tbody>\n",
       "</table>\n",
       "</div>"
      ],
      "text/plain": [
       "          Country     2017     2018     2019\n",
       "0            None     None     None     None\n",
       "1   Australia *\\n  4,711\\n  4,965\\n  5,187\\n\n",
       "2     Austria *\\n  5,360\\n  5,538\\n  5,851\\n\n",
       "3     Belgium *\\n  5,014\\n  5,103\\n  5,428\\n\n",
       "4      Canada *\\n  5,155\\n  5,287\\n  5,418\\n"
      ]
     },
     "execution_count": 17,
     "metadata": {},
     "output_type": "execute_result"
    }
   ],
   "source": [
    "df2.head()"
   ]
  },
  {
   "cell_type": "markdown",
   "metadata": {
    "id": "uz0ws4VGLCUU"
   },
   "source": [
    "\n",
    "## **Additional Preprocessing Steps**"
   ]
  },
  {
   "cell_type": "markdown",
   "metadata": {
    "id": "gj3Yc2rsLCUV"
   },
   "source": [
    "If we look at the DataFrame, we can see that there are still some issues that prohibit numeric computations. \n",
    "* There are undesired characters ('\\n') \n",
    "* The undesired decimal format (,) should be removed\n",
    "* There are cells with non-numeric characters ('x') that should be NAN"
   ]
  },
  {
   "cell_type": "code",
   "execution_count": null,
   "metadata": {
    "id": "CTMB9MHlLCUV"
   },
   "outputs": [],
   "source": [
    "def preproc(dat):\n",
    "    dat.dropna(axis=0, how='all', inplace=True)\n",
    "    dat.columns = dat.columns.str.replace(\"\\n\", \"\")\n",
    "    dat.replace([\"\\n\"], [\"\"], regex=True, inplace=True)\n",
    "    dat.replace([r\"\\s\\*$\"], [\"\"], regex=True, inplace=True)\n",
    "    dat.replace([\",\"], [\"\"], regex=True, inplace=True)\n",
    "    dat.replace(r\"\\b[a-zA-Z]\\b\", np.nan, regex=True, inplace=True)\n",
    "    dat.replace([r\"^\\s\"], [\"\"], regex=True, inplace=True)\n",
    "    dat = dat.apply(pd.to_numeric, errors='ignore')    \n",
    "    return(dat)"
   ]
  },
  {
   "cell_type": "code",
   "execution_count": null,
   "metadata": {
    "id": "H1U08vz-LCUY"
   },
   "outputs": [],
   "source": [
    "df1 = preproc(df1)\n",
    "df2 = preproc(df2)"
   ]
  },
  {
   "cell_type": "markdown",
   "metadata": {
    "id": "Oh1z1ZKdLCUb"
   },
   "source": [
    "- Apparently, after this preprocessing, there are some NANs."
   ]
  },
  {
   "cell_type": "code",
   "execution_count": null,
   "metadata": {
    "executionInfo": {
     "elapsed": 2585,
     "status": "aborted",
     "timestamp": 1620798645479,
     "user": {
      "displayName": "Nishant Singh",
      "photoUrl": "https://lh3.googleusercontent.com/a-/AOh14GjUQCrk-faKBPHBYQ7dZiV7cSiHeQ0NWSVihFrxwA=s64",
      "userId": "15030016934842181675"
     },
     "user_tz": -330
    },
    "id": "Dk6TxNu2LCUc",
    "outputId": "3d1a4cc0-d378-4eb5-bc93-0a68a8dc6c84"
   },
   "outputs": [
    {
     "name": "stdout",
     "output_type": "stream",
     "text": [
      "0\n",
      "0\n"
     ]
    }
   ],
   "source": [
    "print(df1.isnull().sum().sum())\n",
    "print(df2.isnull().sum().sum())"
   ]
  },
  {
   "cell_type": "markdown",
   "metadata": {
    "id": "EgMpv1MHLCUf"
   },
   "source": [
    "- Now we display where the NANs occur. In fact, when we check the original table, we can see that Cyprus has values \"x\", which were in our preproc function changed to NANs ( https://en.wikipedia.org/wiki/Healthcare_in_Europe )."
   ]
  },
  {
   "cell_type": "code",
   "execution_count": null,
   "metadata": {
    "executionInfo": {
     "elapsed": 2582,
     "status": "aborted",
     "timestamp": 1620798645480,
     "user": {
      "displayName": "Nishant Singh",
      "photoUrl": "https://lh3.googleusercontent.com/a-/AOh14GjUQCrk-faKBPHBYQ7dZiV7cSiHeQ0NWSVihFrxwA=s64",
      "userId": "15030016934842181675"
     },
     "user_tz": -330
    },
    "id": "RfUUMxuFLCUf",
    "outputId": "e7da501b-18a3-454c-b4de-0dd74d1e3d47"
   },
   "outputs": [
    {
     "data": {
      "text/html": [
       "<div>\n",
       "<style scoped>\n",
       "    .dataframe tbody tr th:only-of-type {\n",
       "        vertical-align: middle;\n",
       "    }\n",
       "\n",
       "    .dataframe tbody tr th {\n",
       "        vertical-align: top;\n",
       "    }\n",
       "\n",
       "    .dataframe thead th {\n",
       "        text-align: right;\n",
       "    }\n",
       "</style>\n",
       "<table border=\"1\" class=\"dataframe\">\n",
       "  <thead>\n",
       "    <tr style=\"text-align: right;\">\n",
       "      <th></th>\n",
       "      <th>WorldRank</th>\n",
       "      <th>EURank</th>\n",
       "      <th>Country</th>\n",
       "      <th>Life expectancyat birth (years)</th>\n",
       "    </tr>\n",
       "  </thead>\n",
       "  <tbody>\n",
       "  </tbody>\n",
       "</table>\n",
       "</div>"
      ],
      "text/plain": [
       "Empty DataFrame\n",
       "Columns: [WorldRank, EURank, Country, Life expectancyat birth (years)]\n",
       "Index: []"
      ]
     },
     "execution_count": 21,
     "metadata": {},
     "output_type": "execute_result"
    }
   ],
   "source": [
    "df1[df1.isnull().any(axis=1)]"
   ]
  },
  {
   "cell_type": "markdown",
   "metadata": {
    "id": "nTC9Ktu2LCUi"
   },
   "source": [
    "Now we remove the NANs."
   ]
  },
  {
   "cell_type": "code",
   "execution_count": null,
   "metadata": {
    "id": "WYhDAh5wLCUi"
   },
   "outputs": [],
   "source": [
    "df1.dropna(axis=0, how='any', inplace=True)"
   ]
  },
  {
   "cell_type": "markdown",
   "metadata": {
    "id": "8p_AgvFiLCUm"
   },
   "source": [
    "At this point we inspect the data types:"
   ]
  },
  {
   "cell_type": "code",
   "execution_count": null,
   "metadata": {
    "executionInfo": {
     "elapsed": 2574,
     "status": "aborted",
     "timestamp": 1620798645481,
     "user": {
      "displayName": "Nishant Singh",
      "photoUrl": "https://lh3.googleusercontent.com/a-/AOh14GjUQCrk-faKBPHBYQ7dZiV7cSiHeQ0NWSVihFrxwA=s64",
      "userId": "15030016934842181675"
     },
     "user_tz": -330
    },
    "id": "qsSGIyF9LCUn",
    "outputId": "aee0db60-cd57-4d65-ce2d-a36bd33c7486"
   },
   "outputs": [
    {
     "data": {
      "text/plain": [
       "WorldRank                          float64\n",
       "EURank                             float64\n",
       "Country                             object\n",
       "Life expectancyat birth (years)    float64\n",
       "dtype: object"
      ]
     },
     "execution_count": 23,
     "metadata": {},
     "output_type": "execute_result"
    }
   ],
   "source": [
    "df1.dtypes"
   ]
  },
  {
   "cell_type": "code",
   "execution_count": null,
   "metadata": {
    "executionInfo": {
     "elapsed": 2574,
     "status": "aborted",
     "timestamp": 1620798645485,
     "user": {
      "displayName": "Nishant Singh",
      "photoUrl": "https://lh3.googleusercontent.com/a-/AOh14GjUQCrk-faKBPHBYQ7dZiV7cSiHeQ0NWSVihFrxwA=s64",
      "userId": "15030016934842181675"
     },
     "user_tz": -330
    },
    "id": "wa2v6wlILCUp",
    "outputId": "bfa634e0-3da8-4197-f4ad-d7975a50f3f2"
   },
   "outputs": [
    {
     "data": {
      "text/plain": [
       "Country    object\n",
       "2017        int64\n",
       "2018        int64\n",
       "2019        int64\n",
       "dtype: object"
      ]
     },
     "execution_count": 24,
     "metadata": {},
     "output_type": "execute_result"
    }
   ],
   "source": [
    "df2.dtypes"
   ]
  },
  {
   "cell_type": "markdown",
   "metadata": {
    "id": "HdvrHhsuLCUs"
   },
   "source": [
    "The column names are a bit long, so it would be good to use shorter names."
   ]
  },
  {
   "cell_type": "code",
   "execution_count": null,
   "metadata": {
    "id": "HUJQl2IqLCUs"
   },
   "outputs": [],
   "source": [
    "df1.columns = ['WorldRank', 'EURank', 'Country', 'Life expectancy in (years)']\n",
    "df2.columns = ['Country', '2017', '2018', '2019']"
   ]
  },
  {
   "cell_type": "markdown",
   "metadata": {
    "id": "6bU3p5HTPgui"
   },
   "source": [
    "#### Analyzing Final Tables "
   ]
  },
  {
   "cell_type": "code",
   "execution_count": null,
   "metadata": {
    "id": "Vd4PO8DfPgui",
    "outputId": "bbedaefe-2b50-4b23-ea06-18c1dfd5e33e"
   },
   "outputs": [
    {
     "data": {
      "text/html": [
       "<div>\n",
       "<style scoped>\n",
       "    .dataframe tbody tr th:only-of-type {\n",
       "        vertical-align: middle;\n",
       "    }\n",
       "\n",
       "    .dataframe tbody tr th {\n",
       "        vertical-align: top;\n",
       "    }\n",
       "\n",
       "    .dataframe thead th {\n",
       "        text-align: right;\n",
       "    }\n",
       "</style>\n",
       "<table border=\"1\" class=\"dataframe\">\n",
       "  <thead>\n",
       "    <tr style=\"text-align: right;\">\n",
       "      <th></th>\n",
       "      <th>WorldRank</th>\n",
       "      <th>EURank</th>\n",
       "      <th>Country</th>\n",
       "      <th>Life expectancy in (years)</th>\n",
       "    </tr>\n",
       "  </thead>\n",
       "  <tbody>\n",
       "    <tr>\n",
       "      <th>1</th>\n",
       "      <td>5.0</td>\n",
       "      <td>1.0</td>\n",
       "      <td>Spain</td>\n",
       "      <td>83.4</td>\n",
       "    </tr>\n",
       "    <tr>\n",
       "      <th>2</th>\n",
       "      <td>6.0</td>\n",
       "      <td>2.0</td>\n",
       "      <td>Italy</td>\n",
       "      <td>83.4</td>\n",
       "    </tr>\n",
       "    <tr>\n",
       "      <th>3</th>\n",
       "      <td>11.0</td>\n",
       "      <td>3.0</td>\n",
       "      <td>Sweden</td>\n",
       "      <td>82.7</td>\n",
       "    </tr>\n",
       "    <tr>\n",
       "      <th>4</th>\n",
       "      <td>12.0</td>\n",
       "      <td>4.0</td>\n",
       "      <td>France</td>\n",
       "      <td>82.5</td>\n",
       "    </tr>\n",
       "    <tr>\n",
       "      <th>5</th>\n",
       "      <td>13.0</td>\n",
       "      <td>5.0</td>\n",
       "      <td>Malta</td>\n",
       "      <td>82.4</td>\n",
       "    </tr>\n",
       "  </tbody>\n",
       "</table>\n",
       "</div>"
      ],
      "text/plain": [
       "   WorldRank  EURank Country  Life expectancy in (years)\n",
       "1        5.0     1.0   Spain                        83.4\n",
       "2        6.0     2.0   Italy                        83.4\n",
       "3       11.0     3.0  Sweden                        82.7\n",
       "4       12.0     4.0  France                        82.5\n",
       "5       13.0     5.0   Malta                        82.4"
      ]
     },
     "execution_count": 26,
     "metadata": {},
     "output_type": "execute_result"
    }
   ],
   "source": [
    "df1.head()"
   ]
  },
  {
   "cell_type": "code",
   "execution_count": null,
   "metadata": {
    "id": "zMZgKWB-Pgui",
    "outputId": "c2cea816-4961-4fc6-dc5d-4e71817a3db6"
   },
   "outputs": [
    {
     "data": {
      "text/html": [
       "<div>\n",
       "<style scoped>\n",
       "    .dataframe tbody tr th:only-of-type {\n",
       "        vertical-align: middle;\n",
       "    }\n",
       "\n",
       "    .dataframe tbody tr th {\n",
       "        vertical-align: top;\n",
       "    }\n",
       "\n",
       "    .dataframe thead th {\n",
       "        text-align: right;\n",
       "    }\n",
       "</style>\n",
       "<table border=\"1\" class=\"dataframe\">\n",
       "  <thead>\n",
       "    <tr style=\"text-align: right;\">\n",
       "      <th></th>\n",
       "      <th>Country</th>\n",
       "      <th>2017</th>\n",
       "      <th>2018</th>\n",
       "      <th>2019</th>\n",
       "    </tr>\n",
       "  </thead>\n",
       "  <tbody>\n",
       "    <tr>\n",
       "      <th>1</th>\n",
       "      <td>Australia</td>\n",
       "      <td>4711</td>\n",
       "      <td>4965</td>\n",
       "      <td>5187</td>\n",
       "    </tr>\n",
       "    <tr>\n",
       "      <th>2</th>\n",
       "      <td>Austria</td>\n",
       "      <td>5360</td>\n",
       "      <td>5538</td>\n",
       "      <td>5851</td>\n",
       "    </tr>\n",
       "    <tr>\n",
       "      <th>3</th>\n",
       "      <td>Belgium</td>\n",
       "      <td>5014</td>\n",
       "      <td>5103</td>\n",
       "      <td>5428</td>\n",
       "    </tr>\n",
       "    <tr>\n",
       "      <th>4</th>\n",
       "      <td>Canada</td>\n",
       "      <td>5155</td>\n",
       "      <td>5287</td>\n",
       "      <td>5418</td>\n",
       "    </tr>\n",
       "    <tr>\n",
       "      <th>5</th>\n",
       "      <td>Chile</td>\n",
       "      <td>2030</td>\n",
       "      <td>2126</td>\n",
       "      <td>2159</td>\n",
       "    </tr>\n",
       "  </tbody>\n",
       "</table>\n",
       "</div>"
      ],
      "text/plain": [
       "     Country  2017  2018  2019\n",
       "1  Australia  4711  4965  5187\n",
       "2    Austria  5360  5538  5851\n",
       "3    Belgium  5014  5103  5428\n",
       "4     Canada  5155  5287  5418\n",
       "5      Chile  2030  2126  2159"
      ]
     },
     "execution_count": 27,
     "metadata": {},
     "output_type": "execute_result"
    }
   ],
   "source": [
    "df2.head()"
   ]
  },
  {
   "cell_type": "markdown",
   "metadata": {
    "id": "Nijmqp38LCUv"
   },
   "source": [
    "\n",
    "## **Merging Different Data**"
   ]
  },
  {
   "cell_type": "markdown",
   "metadata": {
    "id": "N67jba6OLCUv"
   },
   "source": [
    "###It should be clear from this example that web scraping can be important to quickly grasp data.\n",
    "Web scraping may be particularly useful when you need to automate data processing:\n",
    " \n",
    "* Webdata change regularly and need to be stored repeatedly.\n",
    " \n",
    "* A large number of data sources, for example, tables, need to be loaded and merged.\n",
    " \n",
    "Let us elaborate on the last point a bit more. If the two tables that we just scraped need to be merged, it can be done in Python. For example, if we want to merge on the column \"Country\", we would use the following code (we use the `.head()` function to limit the output).\n"
   ]
  },
  {
   "cell_type": "code",
   "execution_count": null,
   "metadata": {
    "executionInfo": {
     "elapsed": 2565,
     "status": "aborted",
     "timestamp": 1620798645487,
     "user": {
      "displayName": "Nishant Singh",
      "photoUrl": "https://lh3.googleusercontent.com/a-/AOh14GjUQCrk-faKBPHBYQ7dZiV7cSiHeQ0NWSVihFrxwA=s64",
      "userId": "15030016934842181675"
     },
     "user_tz": -330
    },
    "id": "UOtbMukxLCUw",
    "outputId": "933c1951-6e0f-4ed3-da66-dbf656abee90",
    "scrolled": true
   },
   "outputs": [
    {
     "data": {
      "text/html": [
       "<div>\n",
       "<style scoped>\n",
       "    .dataframe tbody tr th:only-of-type {\n",
       "        vertical-align: middle;\n",
       "    }\n",
       "\n",
       "    .dataframe tbody tr th {\n",
       "        vertical-align: top;\n",
       "    }\n",
       "\n",
       "    .dataframe thead th {\n",
       "        text-align: right;\n",
       "    }\n",
       "</style>\n",
       "<table border=\"1\" class=\"dataframe\">\n",
       "  <thead>\n",
       "    <tr style=\"text-align: right;\">\n",
       "      <th></th>\n",
       "      <th>WorldRank</th>\n",
       "      <th>EURank</th>\n",
       "      <th>Country</th>\n",
       "      <th>Life expectancy in (years)</th>\n",
       "      <th>2017</th>\n",
       "      <th>2018</th>\n",
       "      <th>2019</th>\n",
       "    </tr>\n",
       "  </thead>\n",
       "  <tbody>\n",
       "    <tr>\n",
       "      <th>0</th>\n",
       "      <td>5.0</td>\n",
       "      <td>1.0</td>\n",
       "      <td>Spain</td>\n",
       "      <td>83.4</td>\n",
       "      <td>3322.0</td>\n",
       "      <td>3430.0</td>\n",
       "      <td>3616.0</td>\n",
       "    </tr>\n",
       "    <tr>\n",
       "      <th>1</th>\n",
       "      <td>6.0</td>\n",
       "      <td>2.0</td>\n",
       "      <td>Italy</td>\n",
       "      <td>83.4</td>\n",
       "      <td>3399.0</td>\n",
       "      <td>3485.0</td>\n",
       "      <td>3649.0</td>\n",
       "    </tr>\n",
       "    <tr>\n",
       "      <th>2</th>\n",
       "      <td>11.0</td>\n",
       "      <td>3.0</td>\n",
       "      <td>Sweden</td>\n",
       "      <td>82.7</td>\n",
       "      <td>5318.0</td>\n",
       "      <td>5434.0</td>\n",
       "      <td>5782.0</td>\n",
       "    </tr>\n",
       "    <tr>\n",
       "      <th>3</th>\n",
       "      <td>12.0</td>\n",
       "      <td>4.0</td>\n",
       "      <td>France</td>\n",
       "      <td>82.5</td>\n",
       "      <td>5057.0</td>\n",
       "      <td>5154.0</td>\n",
       "      <td>5376.0</td>\n",
       "    </tr>\n",
       "    <tr>\n",
       "      <th>4</th>\n",
       "      <td>13.0</td>\n",
       "      <td>5.0</td>\n",
       "      <td>Malta</td>\n",
       "      <td>82.4</td>\n",
       "      <td>NaN</td>\n",
       "      <td>NaN</td>\n",
       "      <td>NaN</td>\n",
       "    </tr>\n",
       "  </tbody>\n",
       "</table>\n",
       "</div>"
      ],
      "text/plain": [
       "   WorldRank  EURank Country  Life expectancy in (years)    2017    2018  \\\n",
       "0        5.0     1.0   Spain                        83.4  3322.0  3430.0   \n",
       "1        6.0     2.0   Italy                        83.4  3399.0  3485.0   \n",
       "2       11.0     3.0  Sweden                        82.7  5318.0  5434.0   \n",
       "3       12.0     4.0  France                        82.5  5057.0  5154.0   \n",
       "4       13.0     5.0   Malta                        82.4     NaN     NaN   \n",
       "\n",
       "     2019  \n",
       "0  3616.0  \n",
       "1  3649.0  \n",
       "2  5782.0  \n",
       "3  5376.0  \n",
       "4     NaN  "
      ]
     },
     "execution_count": 28,
     "metadata": {},
     "output_type": "execute_result"
    }
   ],
   "source": [
    "pd.merge(df1, df2, how='left', on='Country').head()"
   ]
  },
  {
   "cell_type": "markdown",
   "metadata": {
    "id": "FWLbqcz1M9dp"
   },
   "source": [
    "**Note: In this lesson, we saw the use of the data wrangling and web scraping methods, but in the next lesson we are going to use one of these methods as a sub component of \"Feature Engineering\".**"
   ]
  },
  {
   "cell_type": "markdown",
   "metadata": {
    "id": "xjNFbtdu4PVd"
   },
   "source": [
    "![Simplilearn_Logo](https://labcontent.simplicdn.net/data-content/content-assets/Data_and_AI/Logo_Powered_By_Simplilearn/SL_Logo_1.png)"
   ]
  }
 ],
 "metadata": {
  "colab": {
   "collapsed_sections": [],
   "name": "4.02_Web_Scraping.ipynb",
   "provenance": []
  },
  "kernelspec": {
   "display_name": "Python 3 (ipykernel)",
   "language": "python",
   "name": "python3"
  },
  "language_info": {
   "codemirror_mode": {
    "name": "ipython",
    "version": 3
   },
   "file_extension": ".py",
   "mimetype": "text/x-python",
   "name": "python",
   "nbconvert_exporter": "python",
   "pygments_lexer": "ipython3",
   "version": "3.8.5"
  }
 },
 "nbformat": 4,
 "nbformat_minor": 1
}
