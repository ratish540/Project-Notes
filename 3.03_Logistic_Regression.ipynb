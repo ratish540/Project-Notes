{
 "cells": [
  {
   "cell_type": "markdown",
   "metadata": {
    "id": "ZPO9VvgE_o10"
   },
   "source": [
    "# **Logistic Regression**"
   ]
  },
  {
   "cell_type": "markdown",
   "metadata": {
    "id": "N5GxcWZu_r3P"
   },
   "source": [
    "## **Agenda**"
   ]
  },
  {
   "cell_type": "markdown",
   "metadata": {
    "id": "qP_upx6Y_z0B"
   },
   "source": [
    "In this session, we will cover the following concepts with the help of a business use case:\n",
    "* EDA (Exploratory Data Analysis)\n",
    "* Data Cleaning \n",
    "* Logistic Regression with Sklearn"
   ]
  },
  {
   "cell_type": "markdown",
   "metadata": {
    "id": "0hdtVPZLWSMt"
   },
   "source": [
    "## **Use Case: Logistic Regression**\n",
    "\n",
    "Note: At first, with the help of a use case, we are going to perform all the basic steps to reach the training and predicition part."
   ]
  },
  {
   "cell_type": "markdown",
   "metadata": {
    "id": "0hUF8ZkRZ2uR"
   },
   "source": [
    "### **Problem Statement**"
   ]
  },
  {
   "cell_type": "markdown",
   "metadata": {
    "id": "QvVPZv40aBEe"
   },
   "source": [
    "\n",
    "\n",
    "One of the aspects Seattle is most notable for, in addition to coffee, grunge, and electronic businesses, is its rains. From January 1, 1948 to December 12, 2017, this dataset provides full records of Seattle's daily rainfall patterns.\n",
    "\n"
   ]
  },
  {
   "cell_type": "markdown",
   "metadata": {
    "id": "Sps4Q1eQaBMM"
   },
   "source": [
    "### **Dataset**"
   ]
  },
  {
   "cell_type": "markdown",
   "metadata": {
    "id": "fh4uXSMPaCH7"
   },
   "source": [
    "\n",
    "\n",
    "seattleWeather_1948-2017.csv\n",
    "\n",
    "Link: https://www.dropbox.com/sh/wn9hcqrcl6oessl/AACVl-_f6Hx1JL0Odltrm6w6a?dl=0\n",
    "\n"
   ]
  },
  {
   "cell_type": "markdown",
   "metadata": {
    "id": "XmVy33PNaCPR"
   },
   "source": [
    "### **Data Dictionary**"
   ]
  },
  {
   "cell_type": "markdown",
   "metadata": {
    "id": "xzvpJqO4aGfT"
   },
   "source": [
    "Following are the variables with their definition and key:\n",
    "\n",
    "|Variables|Description|\n",
    "|:-|:-|\n",
    "|DATE| The date of the observation|\n",
    "|PRCP |The amount of precipitation, in inches|\n",
    "|MAX |The maximum temperature for that day, in degrees Fahrenheit|\n",
    "|TMIN |The minimum temperature for that day, in degrees Fahrenheit|\n",
    "|RAIN |TRUE if rain was observed on that day, FALSE if it was not|\n"
   ]
  },
  {
   "cell_type": "markdown",
   "metadata": {
    "id": "e424reU_aG5X"
   },
   "source": [
    "### **Solution**"
   ]
  },
  {
   "cell_type": "markdown",
   "metadata": {
    "id": "mUFBvcXVbuwq"
   },
   "source": [
    "#### **Import Libraries**\n",
    "- Pandas is a Python library for data manipulation and analysis.\n",
    "- NumPy is a package that contains a multidimensional array object and several derived ones.\n",
    "- Matplotlib is a Python visualization package for 2D array plots.\n",
    "- Seaborn is built on top of matplotlib. It's used for exploratory data analysis and data visualization.\n",
    "- To work with dates as date objects, use Datetime."
   ]
  },
  {
   "cell_type": "markdown",
   "metadata": {
    "id": "LDiG61a9SPyx"
   },
   "source": [
    "---"
   ]
  },
  {
   "cell_type": "code",
   "execution_count": 2,
   "metadata": {
    "id": "iTDf-xoobpKZ"
   },
   "outputs": [],
   "source": [
    "#Import the required libraries\n",
    "import pandas as pd\n",
    "import numpy as np\n",
    "import matplotlib.pyplot as plt\n",
    "import seaborn as sns\n",
    "%matplotlib inline\n",
    "import time\n",
    "import datetime"
   ]
  },
  {
   "cell_type": "markdown",
   "metadata": {
    "id": "z0MmdZaPbkXI"
   },
   "source": [
    "#### **Data Acquisition**"
   ]
  },
  {
   "cell_type": "markdown",
   "metadata": {
    "id": "mUNE12pqEsvV"
   },
   "source": [
    "Before reading data from the CSV file, you need to download the \"seattleWeather_1948-2017.csv\" dataset from the resource section and upload it to the Lab.\n",
    "We will use the Up arrow icon which is shown on the left side under the View icon. Click on the Up arrow icon and upload the file\n",
    "wherever it is downloaded in your system.\n",
    "\n",
    "After this, you will see the downloaded file on the left side of your lab with all the .ipynb files."
   ]
  },
  {
   "cell_type": "markdown",
   "metadata": {
    "id": "FfTvWriZEsvV"
   },
   "source": [
    "#### Loading the dataset"
   ]
  },
  {
   "cell_type": "code",
   "execution_count": 43,
   "metadata": {
    "id": "EchC-WqObq22"
   },
   "outputs": [],
   "source": [
    "data = pd.read_csv('./seattleWeather_1948-2017.csv')"
   ]
  },
  {
   "cell_type": "markdown",
   "metadata": {
    "id": "2VahxQFGEsvW"
   },
   "source": [
    "#### Preview the information of first 5 weather conditions"
   ]
  },
  {
   "cell_type": "code",
   "execution_count": 44,
   "metadata": {
    "id": "p8wfqaL4btQ9"
   },
   "outputs": [
    {
     "data": {
      "text/html": [
       "<div>\n",
       "<style scoped>\n",
       "    .dataframe tbody tr th:only-of-type {\n",
       "        vertical-align: middle;\n",
       "    }\n",
       "\n",
       "    .dataframe tbody tr th {\n",
       "        vertical-align: top;\n",
       "    }\n",
       "\n",
       "    .dataframe thead th {\n",
       "        text-align: right;\n",
       "    }\n",
       "</style>\n",
       "<table border=\"1\" class=\"dataframe\">\n",
       "  <thead>\n",
       "    <tr style=\"text-align: right;\">\n",
       "      <th></th>\n",
       "      <th>DATE</th>\n",
       "      <th>PRCP</th>\n",
       "      <th>TMAX</th>\n",
       "      <th>TMIN</th>\n",
       "      <th>RAIN</th>\n",
       "    </tr>\n",
       "  </thead>\n",
       "  <tbody>\n",
       "    <tr>\n",
       "      <th>0</th>\n",
       "      <td>1948-01-01</td>\n",
       "      <td>0.47</td>\n",
       "      <td>51</td>\n",
       "      <td>42</td>\n",
       "      <td>True</td>\n",
       "    </tr>\n",
       "    <tr>\n",
       "      <th>1</th>\n",
       "      <td>1948-01-02</td>\n",
       "      <td>0.59</td>\n",
       "      <td>45</td>\n",
       "      <td>36</td>\n",
       "      <td>True</td>\n",
       "    </tr>\n",
       "    <tr>\n",
       "      <th>2</th>\n",
       "      <td>1948-01-03</td>\n",
       "      <td>0.42</td>\n",
       "      <td>45</td>\n",
       "      <td>35</td>\n",
       "      <td>True</td>\n",
       "    </tr>\n",
       "    <tr>\n",
       "      <th>3</th>\n",
       "      <td>1948-01-04</td>\n",
       "      <td>0.31</td>\n",
       "      <td>45</td>\n",
       "      <td>34</td>\n",
       "      <td>True</td>\n",
       "    </tr>\n",
       "    <tr>\n",
       "      <th>4</th>\n",
       "      <td>1948-01-05</td>\n",
       "      <td>0.17</td>\n",
       "      <td>45</td>\n",
       "      <td>32</td>\n",
       "      <td>True</td>\n",
       "    </tr>\n",
       "  </tbody>\n",
       "</table>\n",
       "</div>"
      ],
      "text/plain": [
       "         DATE  PRCP  TMAX  TMIN  RAIN\n",
       "0  1948-01-01  0.47    51    42  True\n",
       "1  1948-01-02  0.59    45    36  True\n",
       "2  1948-01-03  0.42    45    35  True\n",
       "3  1948-01-04  0.31    45    34  True\n",
       "4  1948-01-05  0.17    45    32  True"
      ]
     },
     "execution_count": 44,
     "metadata": {},
     "output_type": "execute_result"
    }
   ],
   "source": [
    "data.head()"
   ]
  },
  {
   "cell_type": "markdown",
   "metadata": {
    "id": "NtuU7ml6EsvW"
   },
   "source": [
    "#### Preview the information of last 5 weather conditions."
   ]
  },
  {
   "cell_type": "code",
   "execution_count": 11,
   "metadata": {
    "id": "Ma3d92ug0NZg"
   },
   "outputs": [
    {
     "data": {
      "text/html": [
       "<div>\n",
       "<style scoped>\n",
       "    .dataframe tbody tr th:only-of-type {\n",
       "        vertical-align: middle;\n",
       "    }\n",
       "\n",
       "    .dataframe tbody tr th {\n",
       "        vertical-align: top;\n",
       "    }\n",
       "\n",
       "    .dataframe thead th {\n",
       "        text-align: right;\n",
       "    }\n",
       "</style>\n",
       "<table border=\"1\" class=\"dataframe\">\n",
       "  <thead>\n",
       "    <tr style=\"text-align: right;\">\n",
       "      <th></th>\n",
       "      <th>DATE</th>\n",
       "      <th>PRCP</th>\n",
       "      <th>TMAX</th>\n",
       "      <th>TMIN</th>\n",
       "      <th>RAIN</th>\n",
       "    </tr>\n",
       "  </thead>\n",
       "  <tbody>\n",
       "    <tr>\n",
       "      <th>25546</th>\n",
       "      <td>2017-12-10</td>\n",
       "      <td>0.0</td>\n",
       "      <td>49</td>\n",
       "      <td>34</td>\n",
       "      <td>False</td>\n",
       "    </tr>\n",
       "    <tr>\n",
       "      <th>25547</th>\n",
       "      <td>2017-12-11</td>\n",
       "      <td>0.0</td>\n",
       "      <td>49</td>\n",
       "      <td>29</td>\n",
       "      <td>False</td>\n",
       "    </tr>\n",
       "    <tr>\n",
       "      <th>25548</th>\n",
       "      <td>2017-12-12</td>\n",
       "      <td>0.0</td>\n",
       "      <td>46</td>\n",
       "      <td>32</td>\n",
       "      <td>False</td>\n",
       "    </tr>\n",
       "    <tr>\n",
       "      <th>25549</th>\n",
       "      <td>2017-12-13</td>\n",
       "      <td>0.0</td>\n",
       "      <td>48</td>\n",
       "      <td>34</td>\n",
       "      <td>False</td>\n",
       "    </tr>\n",
       "    <tr>\n",
       "      <th>25550</th>\n",
       "      <td>2017-12-14</td>\n",
       "      <td>0.0</td>\n",
       "      <td>50</td>\n",
       "      <td>36</td>\n",
       "      <td>False</td>\n",
       "    </tr>\n",
       "  </tbody>\n",
       "</table>\n",
       "</div>"
      ],
      "text/plain": [
       "             DATE  PRCP  TMAX  TMIN   RAIN\n",
       "25546  2017-12-10   0.0    49    34  False\n",
       "25547  2017-12-11   0.0    49    29  False\n",
       "25548  2017-12-12   0.0    46    32  False\n",
       "25549  2017-12-13   0.0    48    34  False\n",
       "25550  2017-12-14   0.0    50    36  False"
      ]
     },
     "execution_count": 11,
     "metadata": {},
     "output_type": "execute_result"
    }
   ],
   "source": [
    "data.tail()"
   ]
  },
  {
   "cell_type": "markdown",
   "metadata": {
    "id": "pLv5aQ_WEsvX"
   },
   "source": [
    "#### Check the name of all columns available in dataset"
   ]
  },
  {
   "cell_type": "code",
   "execution_count": 45,
   "metadata": {
    "id": "LgPQ9P6T0dtJ"
   },
   "outputs": [
    {
     "data": {
      "text/plain": [
       "Index(['DATE', 'PRCP', 'TMAX', 'TMIN', 'RAIN'], dtype='object')"
      ]
     },
     "execution_count": 45,
     "metadata": {},
     "output_type": "execute_result"
    }
   ],
   "source": [
    "#See columns in data\n",
    "data.columns"
   ]
  },
  {
   "cell_type": "code",
   "execution_count": 46,
   "metadata": {},
   "outputs": [
    {
     "data": {
      "text/plain": [
       "(25551, 5)"
      ]
     },
     "execution_count": 46,
     "metadata": {},
     "output_type": "execute_result"
    }
   ],
   "source": [
    "data.shape"
   ]
  },
  {
   "cell_type": "markdown",
   "metadata": {
    "id": "lQJrI5zeEsvX"
   },
   "source": [
    "#### A Python data frame's summary statistics are computed and shown using the describe() function."
   ]
  },
  {
   "cell_type": "markdown",
   "metadata": {
    "id": "kRYgpmMxTVHq"
   },
   "source": [
    "---"
   ]
  },
  {
   "cell_type": "code",
   "execution_count": 14,
   "metadata": {
    "id": "jaNLfx6j0m9g"
   },
   "outputs": [
    {
     "data": {
      "text/html": [
       "<div>\n",
       "<style scoped>\n",
       "    .dataframe tbody tr th:only-of-type {\n",
       "        vertical-align: middle;\n",
       "    }\n",
       "\n",
       "    .dataframe tbody tr th {\n",
       "        vertical-align: top;\n",
       "    }\n",
       "\n",
       "    .dataframe thead th {\n",
       "        text-align: right;\n",
       "    }\n",
       "</style>\n",
       "<table border=\"1\" class=\"dataframe\">\n",
       "  <thead>\n",
       "    <tr style=\"text-align: right;\">\n",
       "      <th></th>\n",
       "      <th>PRCP</th>\n",
       "      <th>TMAX</th>\n",
       "      <th>TMIN</th>\n",
       "    </tr>\n",
       "  </thead>\n",
       "  <tbody>\n",
       "    <tr>\n",
       "      <th>count</th>\n",
       "      <td>25548.000000</td>\n",
       "      <td>25551.000000</td>\n",
       "      <td>25551.000000</td>\n",
       "    </tr>\n",
       "    <tr>\n",
       "      <th>mean</th>\n",
       "      <td>0.106222</td>\n",
       "      <td>59.544206</td>\n",
       "      <td>44.514226</td>\n",
       "    </tr>\n",
       "    <tr>\n",
       "      <th>std</th>\n",
       "      <td>0.239031</td>\n",
       "      <td>12.772984</td>\n",
       "      <td>8.892836</td>\n",
       "    </tr>\n",
       "    <tr>\n",
       "      <th>min</th>\n",
       "      <td>0.000000</td>\n",
       "      <td>4.000000</td>\n",
       "      <td>0.000000</td>\n",
       "    </tr>\n",
       "    <tr>\n",
       "      <th>25%</th>\n",
       "      <td>0.000000</td>\n",
       "      <td>50.000000</td>\n",
       "      <td>38.000000</td>\n",
       "    </tr>\n",
       "    <tr>\n",
       "      <th>50%</th>\n",
       "      <td>0.000000</td>\n",
       "      <td>58.000000</td>\n",
       "      <td>45.000000</td>\n",
       "    </tr>\n",
       "    <tr>\n",
       "      <th>75%</th>\n",
       "      <td>0.100000</td>\n",
       "      <td>69.000000</td>\n",
       "      <td>52.000000</td>\n",
       "    </tr>\n",
       "    <tr>\n",
       "      <th>max</th>\n",
       "      <td>5.020000</td>\n",
       "      <td>103.000000</td>\n",
       "      <td>71.000000</td>\n",
       "    </tr>\n",
       "  </tbody>\n",
       "</table>\n",
       "</div>"
      ],
      "text/plain": [
       "               PRCP          TMAX          TMIN\n",
       "count  25548.000000  25551.000000  25551.000000\n",
       "mean       0.106222     59.544206     44.514226\n",
       "std        0.239031     12.772984      8.892836\n",
       "min        0.000000      4.000000      0.000000\n",
       "25%        0.000000     50.000000     38.000000\n",
       "50%        0.000000     58.000000     45.000000\n",
       "75%        0.100000     69.000000     52.000000\n",
       "max        5.020000    103.000000     71.000000"
      ]
     },
     "execution_count": 14,
     "metadata": {},
     "output_type": "execute_result"
    }
   ],
   "source": [
    "data.describe()"
   ]
  },
  {
   "cell_type": "code",
   "execution_count": 47,
   "metadata": {
    "id": "utSMUTsXSGEr"
   },
   "outputs": [
    {
     "data": {
      "text/plain": [
       "DATE    0\n",
       "PRCP    3\n",
       "TMAX    0\n",
       "TMIN    0\n",
       "RAIN    3\n",
       "dtype: int64"
      ]
     },
     "execution_count": 47,
     "metadata": {},
     "output_type": "execute_result"
    }
   ],
   "source": [
    "data.isna().sum(axis=0)"
   ]
  },
  {
   "cell_type": "markdown",
   "metadata": {
    "id": "XczFc6Z0hHL2"
   },
   "source": [
    "#### **Finding and Treating Null Values**"
   ]
  },
  {
   "cell_type": "markdown",
   "metadata": {
    "id": "_2qL5bTVk3xE"
   },
   "source": [
    "To make our data trainable, it is important to get rid of the null values. \n",
    "\n",
    "Following are the techniques used to fix the missing values:\n",
    "\n",
    "* Substituting the null values with either the median or mean\n",
    "  \n",
    "    Note: Median is preferred, as it is more robust to outliers.\n",
    "\n",
    "* Dropping the column for the instances where the majority of data is missing\n"
   ]
  },
  {
   "cell_type": "markdown",
   "metadata": {
    "id": "hXGr8ptF4U96"
   },
   "source": [
    "#### Now, let's deep dive to get specific detail in the missing column."
   ]
  },
  {
   "cell_type": "code",
   "execution_count": 48,
   "metadata": {
    "id": "b68vqzjskrR4"
   },
   "outputs": [
    {
     "data": {
      "text/html": [
       "<div>\n",
       "<style scoped>\n",
       "    .dataframe tbody tr th:only-of-type {\n",
       "        vertical-align: middle;\n",
       "    }\n",
       "\n",
       "    .dataframe tbody tr th {\n",
       "        vertical-align: top;\n",
       "    }\n",
       "\n",
       "    .dataframe thead th {\n",
       "        text-align: right;\n",
       "    }\n",
       "</style>\n",
       "<table border=\"1\" class=\"dataframe\">\n",
       "  <thead>\n",
       "    <tr style=\"text-align: right;\">\n",
       "      <th></th>\n",
       "      <th>DATE</th>\n",
       "      <th>PRCP</th>\n",
       "      <th>TMAX</th>\n",
       "      <th>TMIN</th>\n",
       "      <th>RAIN</th>\n",
       "    </tr>\n",
       "  </thead>\n",
       "  <tbody>\n",
       "    <tr>\n",
       "      <th>18415</th>\n",
       "      <td>1998-06-02</td>\n",
       "      <td>NaN</td>\n",
       "      <td>72</td>\n",
       "      <td>52</td>\n",
       "      <td>NaN</td>\n",
       "    </tr>\n",
       "    <tr>\n",
       "      <th>18416</th>\n",
       "      <td>1998-06-03</td>\n",
       "      <td>NaN</td>\n",
       "      <td>66</td>\n",
       "      <td>51</td>\n",
       "      <td>NaN</td>\n",
       "    </tr>\n",
       "    <tr>\n",
       "      <th>21067</th>\n",
       "      <td>2005-09-05</td>\n",
       "      <td>NaN</td>\n",
       "      <td>70</td>\n",
       "      <td>52</td>\n",
       "      <td>NaN</td>\n",
       "    </tr>\n",
       "  </tbody>\n",
       "</table>\n",
       "</div>"
      ],
      "text/plain": [
       "             DATE  PRCP  TMAX  TMIN RAIN\n",
       "18415  1998-06-02   NaN    72    52  NaN\n",
       "18416  1998-06-03   NaN    66    51  NaN\n",
       "21067  2005-09-05   NaN    70    52  NaN"
      ]
     },
     "execution_count": 48,
     "metadata": {},
     "output_type": "execute_result"
    }
   ],
   "source": [
    "#Finding rows having null values in the 'PRCP' columns\n",
    "data[pd.isnull(data['PRCP'])]"
   ]
  },
  {
   "cell_type": "markdown",
   "metadata": {
    "id": "8rjy3UiLEsvZ"
   },
   "source": [
    "There are **three rows** in **'PRCP'** column which have null values"
   ]
  },
  {
   "cell_type": "code",
   "execution_count": 49,
   "metadata": {
    "id": "Ts9m5hwHpVRz"
   },
   "outputs": [
    {
     "data": {
      "text/html": [
       "<div>\n",
       "<style scoped>\n",
       "    .dataframe tbody tr th:only-of-type {\n",
       "        vertical-align: middle;\n",
       "    }\n",
       "\n",
       "    .dataframe tbody tr th {\n",
       "        vertical-align: top;\n",
       "    }\n",
       "\n",
       "    .dataframe thead th {\n",
       "        text-align: right;\n",
       "    }\n",
       "</style>\n",
       "<table border=\"1\" class=\"dataframe\">\n",
       "  <thead>\n",
       "    <tr style=\"text-align: right;\">\n",
       "      <th></th>\n",
       "      <th>DATE</th>\n",
       "      <th>PRCP</th>\n",
       "      <th>TMAX</th>\n",
       "      <th>TMIN</th>\n",
       "      <th>RAIN</th>\n",
       "    </tr>\n",
       "  </thead>\n",
       "  <tbody>\n",
       "    <tr>\n",
       "      <th>18415</th>\n",
       "      <td>1998-06-02</td>\n",
       "      <td>NaN</td>\n",
       "      <td>72</td>\n",
       "      <td>52</td>\n",
       "      <td>NaN</td>\n",
       "    </tr>\n",
       "    <tr>\n",
       "      <th>18416</th>\n",
       "      <td>1998-06-03</td>\n",
       "      <td>NaN</td>\n",
       "      <td>66</td>\n",
       "      <td>51</td>\n",
       "      <td>NaN</td>\n",
       "    </tr>\n",
       "    <tr>\n",
       "      <th>21067</th>\n",
       "      <td>2005-09-05</td>\n",
       "      <td>NaN</td>\n",
       "      <td>70</td>\n",
       "      <td>52</td>\n",
       "      <td>NaN</td>\n",
       "    </tr>\n",
       "  </tbody>\n",
       "</table>\n",
       "</div>"
      ],
      "text/plain": [
       "             DATE  PRCP  TMAX  TMIN RAIN\n",
       "18415  1998-06-02   NaN    72    52  NaN\n",
       "18416  1998-06-03   NaN    66    51  NaN\n",
       "21067  2005-09-05   NaN    70    52  NaN"
      ]
     },
     "execution_count": 49,
     "metadata": {},
     "output_type": "execute_result"
    }
   ],
   "source": [
    "#Finding rows having null values in the 'RAIN' columns\n",
    "data[pd.isnull(data['RAIN'])]"
   ]
  },
  {
   "cell_type": "markdown",
   "metadata": {
    "id": "nzT2yWqLEsva"
   },
   "source": [
    "There are **three rows** in **'RAIN'** column which have null values"
   ]
  },
  {
   "cell_type": "markdown",
   "metadata": {
    "id": "8ozzAV1v5u8T"
   },
   "source": [
    "\n",
    "We learned from the above code that there is a missed value for the 9/5/2005 date column for PRCP and RAIN.\n",
    "\n",
    "\n"
   ]
  },
  {
   "cell_type": "markdown",
   "metadata": {
    "id": "C8K5QR3sEsvb"
   },
   "source": [
    "#### Plot graph to determine the chances of rain"
   ]
  },
  {
   "cell_type": "code",
   "execution_count": 18,
   "metadata": {
    "id": "9oAUIgIS8GlZ"
   },
   "outputs": [
    {
     "data": {
      "text/plain": [
       "<AxesSubplot:xlabel='RAIN', ylabel='count'>"
      ]
     },
     "execution_count": 18,
     "metadata": {},
     "output_type": "execute_result"
    },
    {
     "data": {
      "image/png": "[encoded data removed]",
      "text/plain": [
       "<Figure size 432x288 with 1 Axes>"
      ]
     },
     "metadata": {
      "needs_background": "light"
     },
     "output_type": "display_data"
    }
   ],
   "source": [
    "sns.countplot(data=data, x='RAIN')"
   ]
  },
  {
   "cell_type": "markdown",
   "metadata": {
    "id": "W1p6By86e1xH"
   },
   "source": [
    "We can see from the figure above that there are less chances of rain. So, in the missing information, we can just insert \"False\"."
   ]
  },
  {
   "cell_type": "code",
   "execution_count": 50,
   "metadata": {
    "id": "Cj6BR1oQ8VPh"
   },
   "outputs": [
    {
     "data": {
      "text/plain": [
       "0.10622162204477956"
      ]
     },
     "execution_count": 50,
     "metadata": {},
     "output_type": "execute_result"
    }
   ],
   "source": [
    "#It is safer to insert a mean value in the PRCP column instead of dropping one row.\n",
    "data['PRCP'].mean()\n"
   ]
  },
  {
   "cell_type": "markdown",
   "metadata": {
    "id": "x6ocxEkJEsvc"
   },
   "source": [
    "#### Custom function to determine the chances of 'RAIN'"
   ]
  },
  {
   "cell_type": "code",
   "execution_count": 51,
   "metadata": {
    "id": "M7DITn8KfRQK"
   },
   "outputs": [],
   "source": [
    "def RAIN_INSERTION(cols):\n",
    "    RAIN=cols[0]\n",
    "    if pd.isnull(RAIN):\n",
    "        return 'False'\n",
    "    else:\n",
    "        return RAIN"
   ]
  },
  {
   "cell_type": "markdown",
   "metadata": {
    "id": "e6rCllUAEsvd"
   },
   "source": [
    "#### Custom function to determine the amount of 'Precipitation'"
   ]
  },
  {
   "cell_type": "code",
   "execution_count": 52,
   "metadata": {
    "id": "z03L0uhQfS9b"
   },
   "outputs": [],
   "source": [
    "def PRCP_INSERTION(col):\n",
    "    PRCP=col[0]\n",
    "    if pd.isnull(PRCP):\n",
    "        return data['PRCP'].mean()\n",
    "    else:\n",
    "        return PRCP"
   ]
  },
  {
   "cell_type": "code",
   "execution_count": 58,
   "metadata": {
    "id": "G6bO_74QfXwL"
   },
   "outputs": [],
   "source": [
    "#Applying function to determine the chances of rain\n",
    "data['RAIN']=data[['RAIN']].apply(RAIN_INSERTION,axis=1)"
   ]
  },
  {
   "cell_type": "code",
   "execution_count": 59,
   "metadata": {
    "id": "nUqaAPdofk2Q"
   },
   "outputs": [],
   "source": [
    "##Applying function to determine the chances of rain\n",
    "data['PRCP']=data[['PRCP']].apply(PRCP_INSERTION,axis=1)"
   ]
  },
  {
   "cell_type": "markdown",
   "metadata": {
    "id": "2RMGdT8icXW1"
   },
   "source": [
    "\n",
    "\n",
    "Now, let's check if the function worked or not.\n",
    "\n"
   ]
  },
  {
   "cell_type": "code",
   "execution_count": 60,
   "metadata": {
    "id": "dGlWDgMWcgS_"
   },
   "outputs": [
    {
     "data": {
      "text/html": [
       "<div>\n",
       "<style scoped>\n",
       "    .dataframe tbody tr th:only-of-type {\n",
       "        vertical-align: middle;\n",
       "    }\n",
       "\n",
       "    .dataframe tbody tr th {\n",
       "        vertical-align: top;\n",
       "    }\n",
       "\n",
       "    .dataframe thead th {\n",
       "        text-align: right;\n",
       "    }\n",
       "</style>\n",
       "<table border=\"1\" class=\"dataframe\">\n",
       "  <thead>\n",
       "    <tr style=\"text-align: right;\">\n",
       "      <th></th>\n",
       "      <th>DATE</th>\n",
       "      <th>PRCP</th>\n",
       "      <th>TMAX</th>\n",
       "      <th>TMIN</th>\n",
       "      <th>RAIN</th>\n",
       "    </tr>\n",
       "  </thead>\n",
       "  <tbody>\n",
       "  </tbody>\n",
       "</table>\n",
       "</div>"
      ],
      "text/plain": [
       "Empty DataFrame\n",
       "Columns: [DATE, PRCP, TMAX, TMIN, RAIN]\n",
       "Index: []"
      ]
     },
     "execution_count": 60,
     "metadata": {},
     "output_type": "execute_result"
    }
   ],
   "source": [
    "data[pd.isnull(data['RAIN'])]"
   ]
  },
  {
   "cell_type": "code",
   "execution_count": 57,
   "metadata": {
    "id": "M8mUxwmJgDpu"
   },
   "outputs": [
    {
     "data": {
      "text/html": [
       "<div>\n",
       "<style scoped>\n",
       "    .dataframe tbody tr th:only-of-type {\n",
       "        vertical-align: middle;\n",
       "    }\n",
       "\n",
       "    .dataframe tbody tr th {\n",
       "        vertical-align: top;\n",
       "    }\n",
       "\n",
       "    .dataframe thead th {\n",
       "        text-align: right;\n",
       "    }\n",
       "</style>\n",
       "<table border=\"1\" class=\"dataframe\">\n",
       "  <thead>\n",
       "    <tr style=\"text-align: right;\">\n",
       "      <th></th>\n",
       "      <th>DATE</th>\n",
       "      <th>PRCP</th>\n",
       "      <th>TMAX</th>\n",
       "      <th>TMIN</th>\n",
       "      <th>RAIN</th>\n",
       "    </tr>\n",
       "  </thead>\n",
       "  <tbody>\n",
       "  </tbody>\n",
       "</table>\n",
       "</div>"
      ],
      "text/plain": [
       "Empty DataFrame\n",
       "Columns: [DATE, PRCP, TMAX, TMIN, RAIN]\n",
       "Index: []"
      ]
     },
     "execution_count": 57,
     "metadata": {},
     "output_type": "execute_result"
    }
   ],
   "source": [
    "data[pd.isnull(data['PRCP'])]\n"
   ]
  },
  {
   "cell_type": "markdown",
   "metadata": {
    "id": "ap1Rh5MNC23K"
   },
   "source": [
    "#### **Exploratory Data Analysis**\n"
   ]
  },
  {
   "cell_type": "markdown",
   "metadata": {
    "id": "8u3ncAqAEsvf"
   },
   "source": [
    "#### Plot graph to determine the correlation between Precipitation and Minimum Temperature"
   ]
  },
  {
   "cell_type": "code",
   "execution_count": 61,
   "metadata": {
    "id": "YSaCKQnlcjNw"
   },
   "outputs": [
    {
     "data": {
      "text/plain": [
       "Text(0.5, 1.0, 'Precipitation Vs Minimum Temperature')"
      ]
     },
     "execution_count": 61,
     "metadata": {},
     "output_type": "execute_result"
    },
    {
     "data": {
      "image/png": "[encoded data removed]",
      "text/plain": [
       "<Figure size 504x504 with 1 Axes>"
      ]
     },
     "metadata": {
      "needs_background": "light"
     },
     "output_type": "display_data"
    }
   ],
   "source": [
    "#First explore data for Temperature and Percipitation\n",
    "plt.figure(figsize=(7,7))\n",
    "plt.scatter(x='TMIN',y='PRCP',data=data)\n",
    "plt.xlabel('Minimum Temperature')\n",
    "plt.ylabel('PRCP')\n",
    "plt.title('Precipitation Vs Minimum Temperature')"
   ]
  },
  {
   "cell_type": "markdown",
   "metadata": {
    "id": "1D5NiW9pEsvf"
   },
   "source": [
    "The graph shows that when the minimum temperature is between 30 and 60 degrees, the amount of precipitation increases"
   ]
  },
  {
   "cell_type": "markdown",
   "metadata": {
    "id": "qDDyL9-AEsvf"
   },
   "source": [
    "#### Plot graph to determine the correlation between Precipitation and Maximum Temperature"
   ]
  },
  {
   "cell_type": "code",
   "execution_count": 62,
   "metadata": {
    "id": "UWoT7AeYDMoU"
   },
   "outputs": [
    {
     "data": {
      "text/plain": [
       "Text(0.5, 1.0, 'Precipitation Vs Maximum Temperature')"
      ]
     },
     "execution_count": 62,
     "metadata": {},
     "output_type": "execute_result"
    },
    {
     "data": {
      "image/png": "[encoded data removed]",
      "text/plain": [
       "<Figure size 504x504 with 1 Axes>"
      ]
     },
     "metadata": {
      "needs_background": "light"
     },
     "output_type": "display_data"
    }
   ],
   "source": [
    "plt.figure(figsize=(7,7))\n",
    "plt.scatter(x='TMAX',y='PRCP',data=data)\n",
    "plt.xlabel('Maximum Temperature')\n",
    "plt.ylabel('PRCP')\n",
    "plt.title('Precipitation Vs Maximum Temperature')"
   ]
  },
  {
   "cell_type": "markdown",
   "metadata": {
    "id": "RrpmFv4LEsvg"
   },
   "source": [
    "The graph shows that when the maximum temperature is between 40 and 80 degrees, the amount of precipitation increases."
   ]
  },
  {
   "cell_type": "markdown",
   "metadata": {
    "id": "H4a1IMdeEsvg"
   },
   "source": [
    "#### Plot graph to determine the overall distribution of minimum temperature "
   ]
  },
  {
   "cell_type": "code",
   "execution_count": 63,
   "metadata": {
    "id": "ZYjJZVAoyK8q"
   },
   "outputs": [
    {
     "name": "stderr",
     "output_type": "stream",
     "text": [
      "C:\\Users\\Maa\\anaconda3\\lib\\site-packages\\seaborn\\distributions.py:2619: FutureWarning: `distplot` is a deprecated function and will be removed in a future version. Please adapt your code to use either `displot` (a figure-level function with similar flexibility) or `histplot` (an axes-level function for histograms).\n",
      "  warnings.warn(msg, FutureWarning)\n"
     ]
    },
    {
     "data": {
      "text/plain": [
       "<AxesSubplot:xlabel='TMIN', ylabel='Density'>"
      ]
     },
     "execution_count": 63,
     "metadata": {},
     "output_type": "execute_result"
    },
    {
     "data": {
      "image/png": "[encoded data removed]",
      "text/plain": [
       "<Figure size 432x288 with 1 Axes>"
      ]
     },
     "metadata": {
      "needs_background": "light"
     },
     "output_type": "display_data"
    }
   ],
   "source": [
    "#Plotting Distribution Plot\n",
    "sns.distplot(data['TMIN'])"
   ]
  },
  {
   "cell_type": "markdown",
   "metadata": {
    "id": "9MCRsDSQEsvg"
   },
   "source": [
    "The graph shows increasing density when the minimum temperature is between 30 to 60 degrees."
   ]
  },
  {
   "cell_type": "markdown",
   "metadata": {
    "id": "88-rDhDDEsvg"
   },
   "source": [
    "#### Plot graph to determine the overall distribution of maximum temperature "
   ]
  },
  {
   "cell_type": "code",
   "execution_count": 30,
   "metadata": {
    "id": "Uf2_vOtDDVEw"
   },
   "outputs": [
    {
     "name": "stderr",
     "output_type": "stream",
     "text": [
      "C:\\Users\\Maa\\anaconda3\\lib\\site-packages\\seaborn\\distributions.py:2619: FutureWarning: `distplot` is a deprecated function and will be removed in a future version. Please adapt your code to use either `displot` (a figure-level function with similar flexibility) or `histplot` (an axes-level function for histograms).\n",
      "  warnings.warn(msg, FutureWarning)\n"
     ]
    },
    {
     "data": {
      "text/plain": [
       "<AxesSubplot:xlabel='TMAX', ylabel='Density'>"
      ]
     },
     "execution_count": 30,
     "metadata": {},
     "output_type": "execute_result"
    },
    {
     "data": {
      "image/png": "[encoded data removed]",
      "text/plain": [
       "<Figure size 432x288 with 1 Axes>"
      ]
     },
     "metadata": {
      "needs_background": "light"
     },
     "output_type": "display_data"
    }
   ],
   "source": [
    "#Plotting Distribution Plot\n",
    "sns.distplot(data['TMAX'])"
   ]
  },
  {
   "cell_type": "markdown",
   "metadata": {
    "id": "8WfLh9TwEsvh"
   },
   "source": [
    "The graph shows increasing density when the maximum temperature is between 40 to 60 degrees."
   ]
  },
  {
   "cell_type": "markdown",
   "metadata": {
    "id": "YPtOZWwvEsvh"
   },
   "source": [
    "#### Plot graph to determine pairwise relationship between precipitation, maximum temperature, and minimum temperature"
   ]
  },
  {
   "cell_type": "code",
   "execution_count": null,
   "metadata": {
    "id": "arhMVE7bh0Jn"
   },
   "outputs": [],
   "source": [
    "#Plotting pairplot\n",
    "sns.pairplot(data=data)"
   ]
  },
  {
   "cell_type": "markdown",
   "metadata": {
    "id": "cL3eWdjoEsvh"
   },
   "source": [
    "The graph shows relationship between amount of precipitation, maximum, and minimum temperature."
   ]
  },
  {
   "cell_type": "markdown",
   "metadata": {
    "id": "tWmuuji7Esvh"
   },
   "source": [
    "#### Plot graph to determine the outliers in precipitation, maximum temperature, and minimum temperature"
   ]
  },
  {
   "cell_type": "markdown",
   "metadata": {
    "id": "7d8OkaZ1Tp1I"
   },
   "source": [
    "---"
   ]
  },
  {
   "cell_type": "code",
   "execution_count": 64,
   "metadata": {
    "id": "7ho6m6cQkkuv"
   },
   "outputs": [
    {
     "data": {
      "text/plain": [
       "<AxesSubplot:>"
      ]
     },
     "execution_count": 64,
     "metadata": {},
     "output_type": "execute_result"
    },
    {
     "data": {
      "image/png": "[encoded data removed]",
      "text/plain": [
       "<Figure size 432x288 with 1 Axes>"
      ]
     },
     "metadata": {
      "needs_background": "light"
     },
     "output_type": "display_data"
    }
   ],
   "source": [
    "#Plotting boxplot \n",
    "sns.boxplot(data=data)"
   ]
  },
  {
   "cell_type": "markdown",
   "metadata": {
    "id": "F3yIdZysEb1F"
   },
   "source": [
    "From the above figure, we can say that there are some outliers.\n",
    "\n"
   ]
  },
  {
   "cell_type": "markdown",
   "metadata": {
    "id": "zEn0JB0bk8FJ"
   },
   "source": [
    "##### **Outlier Treatment**\n",
    "\n",
    "Let's remove the outliers from the data."
   ]
  },
  {
   "cell_type": "code",
   "execution_count": 66,
   "metadata": {
    "id": "BTs_aiUDEpwv"
   },
   "outputs": [],
   "source": [
    "#Dropping the outliers from TMIN column\n",
    "data=data.drop(data[data['TMIN']<17 ].index)"
   ]
  },
  {
   "cell_type": "code",
   "execution_count": 67,
   "metadata": {
    "id": "ftrpWtX-lb-a"
   },
   "outputs": [],
   "source": [
    "#Dropping the outliers from TMAX columns i.e. the value more than 100\n",
    "data=data.drop(data[(data['TMAX']>97.5) | (data['TMAX']< 21.5)].index)"
   ]
  },
  {
   "cell_type": "code",
   "execution_count": 68,
   "metadata": {
    "id": "YXLWZqlVli_5"
   },
   "outputs": [],
   "source": [
    "#Dropping the outliers from PRCP columns i.e. the value more than 0.275\n",
    "data=data.drop(data[(data['PRCP']>0.25) | (data['PRCP']< -0.15) ].index)"
   ]
  },
  {
   "cell_type": "markdown",
   "metadata": {
    "id": "Ttd3dMd0lv1L"
   },
   "source": [
    "##### Let's check whether the outliers are removed or not.\n",
    "\n"
   ]
  },
  {
   "cell_type": "code",
   "execution_count": 70,
   "metadata": {
    "id": "1bKOgIIBly_X"
   },
   "outputs": [
    {
     "data": {
      "text/plain": [
       "<AxesSubplot:>"
      ]
     },
     "execution_count": 70,
     "metadata": {},
     "output_type": "execute_result"
    },
    {
     "data": {
      "image/png": "[encoded data removed]",
      "text/plain": [
       "<Figure size 432x288 with 1 Axes>"
      ]
     },
     "metadata": {
      "needs_background": "light"
     },
     "output_type": "display_data"
    }
   ],
   "source": [
    "sns.boxplot(data=data)"
   ]
  },
  {
   "cell_type": "markdown",
   "metadata": {
    "id": "4Vb4aObvAg2g"
   },
   "source": [
    "#### **Logistic Regression**\n",
    "\n"
   ]
  },
  {
   "cell_type": "markdown",
   "metadata": {
    "id": "GzqUhx_dAlP5"
   },
   "source": [
    "Logistic Regression is widely used to predict binary outcomes\n",
    "for a given set of independent variables. \n",
    "\n",
    "This is true in a case where the dependent variable’s outcome is discrete such as $y \\space ϵ \\space ${$0, 1$}.\n",
    "\n",
    "In other words, a binary dependent variable can have only two values such as \n",
    "0 or 1, win or lose, pass or fail, or healthy or sick.\n"
   ]
  },
  {
   "cell_type": "markdown",
   "metadata": {
    "id": "_8H_QkTGBotb"
   },
   "source": [
    "![Log Reg1](https://labcontent.simplicdn.net/data-content/content-assets/Data_and_AI/Applied_Machine_Learning/Images/0.7_Supervised_Learning_-_Regression_and_Classification/Trainer_PPT_and_IPYNB/0.3_Logistic_Regression/Log%20Reg1.JPG)"
   ]
  },
  {
   "cell_type": "markdown",
   "metadata": {
    "id": "qR1sTO5SJwMl"
   },
   "source": [
    "##### **Understanding the Maximum Likelihood  Estimation**"
   ]
  },
  {
   "cell_type": "markdown",
   "metadata": {
    "id": "XQoWe728J9XD"
   },
   "source": [
    "* Unlike Linear Regression (and its Normal Equation solution), \n",
    "there is no closed form solution for finding optimal \n",
    "weights of Logistic Regression.\n",
    "\n",
    "* Instead, we must solve this with maximum likelihood estimation (a probability model to detect maximum likelihood of something happening).\n",
    "\n",
    "\n",
    "* The probability distribution of output y is restricted to 1 or 0. \n",
    "This is called as the sigmoid probability (σ).\n",
    "\n",
    "    Note: If σ (θTx) > 0.5, set y = 1, else set y = 0\n"
   ]
  },
  {
   "cell_type": "markdown",
   "metadata": {
    "id": "EmV2hlxtI-vn"
   },
   "source": [
    "![MLE](https://labcontent.simplicdn.net/data-content/content-assets/Data_and_AI/Applied_Machine_Learning/Images/0.7_Supervised_Learning_-_Regression_and_Classification/Trainer_PPT_and_IPYNB/0.3_Logistic_Regression/MLE.JPG)"
   ]
  },
  {
   "cell_type": "markdown",
   "metadata": {
    "id": "3ab6dKn-UJii"
   },
   "source": [
    "##### **Logistic Regression Equation and Sigmoid Probability**"
   ]
  },
  {
   "cell_type": "markdown",
   "metadata": {
    "id": "60IMOYVxULrA"
   },
   "source": [
    "1. The Logistic regression equation is derived from the straight line equation:\n",
    "\n",
    "  ![Log reg eqtn](https://labcontent.simplicdn.net/data-content/content-assets/Data_and_AI/Applied_Machine_Learning/Images/0.7_Supervised_Learning_-_Regression_and_Classification/Trainer_PPT_and_IPYNB/0.3_Logistic_Regression/Log%20reg%20eqtn.JPG)"
   ]
  },
  {
   "cell_type": "markdown",
   "metadata": {
    "id": "AkLI6kWhU7uC"
   },
   "source": [
    "2. Sigmoid Probability:\n",
    "\n",
    "  The probability in the logistic regression is represented by the Sigmoid function (logistic function or the S-curve).\n",
    "\n",
    "   ![Sig](https://labcontent.simplicdn.net/data-content/content-assets/Data_and_AI/Applied_Machine_Learning/Images/0.7_Supervised_Learning_-_Regression_and_Classification/Trainer_PPT_and_IPYNB/0.3_Logistic_Regression/Sig.JPG)\n",
    "   <br><br>\n",
    "   ![sig graph](https://labcontent.simplicdn.net/data-content/content-assets/Data_and_AI/Applied_Machine_Learning/Images/0.7_Supervised_Learning_-_Regression_and_Classification/Trainer_PPT_and_IPYNB/0.3_Logistic_Regression/sig%20graph.JPG)\n"
   ]
  },
  {
   "cell_type": "markdown",
   "metadata": {
    "id": "QPYFmzP4Esvl"
   },
   "source": [
    "#### Importing Logistic Regression Model"
   ]
  },
  {
   "cell_type": "code",
   "execution_count": 36,
   "metadata": {
    "id": "VJr4pRwZFWs6"
   },
   "outputs": [],
   "source": [
    "#Importing Logistic Regression model\n",
    "from sklearn.linear_model import LogisticRegression"
   ]
  },
  {
   "cell_type": "code",
   "execution_count": 37,
   "metadata": {
    "id": "T-VXEXDK0esz"
   },
   "outputs": [],
   "source": [
    "lr= LogisticRegression()"
   ]
  },
  {
   "cell_type": "code",
   "execution_count": 38,
   "metadata": {
    "id": "xmxZtdcSmJWn"
   },
   "outputs": [],
   "source": [
    "#Importing \"train_test-split\" function to test the model\n",
    "from sklearn.model_selection import train_test_split"
   ]
  },
  {
   "cell_type": "code",
   "execution_count": 39,
   "metadata": {
    "id": "u8sOiNNumO1l"
   },
   "outputs": [],
   "source": [
    "X=data.drop(['RAIN','DATE'],axis=1)\n",
    "y=data['RAIN']\n",
    "y=y.astype('str')\n",
    "X_train, X_test, y_train, y_test = train_test_split(X, y, test_size=0.3)"
   ]
  },
  {
   "cell_type": "code",
   "execution_count": 40,
   "metadata": {
    "id": "0OS18rJymUh7"
   },
   "outputs": [
    {
     "data": {
      "text/plain": [
       "0.914257748776509"
      ]
     },
     "execution_count": 40,
     "metadata": {},
     "output_type": "execute_result"
    }
   ],
   "source": [
    "#Fit the model in train and test data\n",
    "lr.fit(X_train,y_train).score(X_train,y_train)"
   ]
  },
  {
   "cell_type": "markdown",
   "metadata": {
    "id": "D_ZYu8uASGFC"
   },
   "source": [
    "#### The accuracy score is 91%. It means the model is predicting fairly well."
   ]
  },
  {
   "cell_type": "code",
   "execution_count": 41,
   "metadata": {
    "id": "kPRdeoa2mauZ"
   },
   "outputs": [],
   "source": [
    "#Now fitting the model in test set\n",
    "prediction=lr.predict(X_test)"
   ]
  },
  {
   "cell_type": "code",
   "execution_count": 42,
   "metadata": {
    "id": "r8gDPNwsm5FQ"
   },
   "outputs": [
    {
     "name": "stdout",
     "output_type": "stream",
     "text": [
      "       PRCP  TMAX  TMIN\n",
      "12031  0.00    42    29\n",
      "14106  0.00    77    55\n",
      "13371  0.00    77    55\n",
      "22453  0.01    68    51\n",
      "9372   0.00    72    56\n"
     ]
    }
   ],
   "source": [
    "#Printing first 5 rows after fitting the model in test set\n",
    "print (X_test.head())"
   ]
  },
  {
   "cell_type": "markdown",
   "metadata": {
    "id": "3NvbK9sIXv2R"
   },
   "source": [
    "**Note: In this topic, we saw the use of the logistic regression methods, but in the next topic we will be working on \"Classification\".**"
   ]
  },
  {
   "cell_type": "markdown",
   "metadata": {
    "id": "Q9fdsAZ9rN-V"
   },
   "source": [
    "![Simplilearn_Logo](https://labcontent.simplicdn.net/data-content/content-assets/Data_and_AI/Logo_Powered_By_Simplilearn/SL_Logo_1.png)"
   ]
  }
 ],
 "metadata": {
  "colab": {
   "collapsed_sections": [],
   "name": "3.03_Logistic_Regression.ipynb",
   "private_outputs": true,
   "provenance": []
  },
  "kernelspec": {
   "display_name": "Python 3 (ipykernel)",
   "language": "python",
   "name": "python3"
  },
  "language_info": {
   "codemirror_mode": {
    "name": "ipython",
    "version": 3
   },
   "file_extension": ".py",
   "mimetype": "text/x-python",
   "name": "python",
   "nbconvert_exporter": "python",
   "pygments_lexer": "ipython3",
   "version": "3.9.12"
  }
 },
 "nbformat": 4,
 "nbformat_minor": 1
}
