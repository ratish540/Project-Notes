{
 "cells": [
  {
   "cell_type": "markdown",
   "metadata": {
    "id": "Q5MRDD2RbazR"
   },
   "source": [
    "# **Data Wrangling**\n"
   ]
  },
  {
   "cell_type": "markdown",
   "metadata": {
    "id": "49moH29Bb3qq"
   },
   "source": [
    "## <b> Agenda </b>"
   ]
  },
  {
   "cell_type": "markdown",
   "metadata": {
    "id": "V3FR4W74b39p"
   },
   "source": [
    "In this session, we will cover the following concepts with the help of a business use case:\n",
    "* Data acquisition\n",
    "* Different methods for data wrangling:\n",
    " \n",
    "    * Merge datasets\n",
    "    * Concatenate datasets\n",
    "    * Identify unique values\n",
    "    * Drop unnecessary columns\n",
    "    * Check the dimension of the dataset\n",
    "    * Check the datatype of the dataset\n",
    "    * Check datatype summary\n",
    "    * Treat missing values\n",
    "    * Validate correctness of the data in primary level if applicable"
   ]
  },
  {
   "cell_type": "markdown",
   "metadata": {
    "id": "06QLRAOHb4gI"
   },
   "source": [
    "## **What Is Data Wrangling?**\n",
    "\n",
    "Data wrangling is the process of converting and formating data from its raw form to usable format further down the data science pipeline."
   ]
  },
  {
   "cell_type": "markdown",
   "metadata": {
    "id": "IqY4NDE9F2-c"
   },
   "source": [
    "## **What Is the Need for Data Wrangling?**\n",
    "\n",
    "Without feeding proper data into a model, one cannot expect a model that is dependable and gives higher accuracy. "
   ]
  },
  {
   "cell_type": "markdown",
   "metadata": {
    "id": "muAFlm_Ubyxb"
   },
   "source": [
    "### <b> Problem Statement </b>\n",
    " \n",
    "You are a junior data scientist and you are assigned a new task to perform data wrangling on a set of datasets. The datasets have many ambiguities. You have to identify those and apply different data wrangling techniques to get a dataset for further usage."
   ]
  },
  {
   "cell_type": "markdown",
   "metadata": {
    "id": "5cCsJCT-GxUA"
   },
   "source": [
    "#### <b> Dataset </b>\n",
    "\n",
    "- Download the `dataset_1 and dataset_2` from Course Resources and upload the datasets to the lab"
   ]
  },
  {
   "cell_type": "markdown",
   "metadata": {
    "id": "BE3fYWSMIGXU"
   },
   "source": [
    "#### **Data Dictionary**"
   ]
  },
  {
   "cell_type": "markdown",
   "metadata": {
    "id": "lKUZ08--bazS"
   },
   "source": [
    "\n",
    "**Attribute Information:**\n",
    "\n",
    "\n",
    "* date = date of the ride  \n",
    "* season -  1 = spring, 2 = summer, 3 = fall, 4 = winter \n",
    "* holiday - whether the day is considered a holiday\n",
    "* workingday - whether the day is neither a weekend nor holiday\n",
    "* weather - 1: Clear, Few clouds, Partly cloudy, Partly cloudy\n",
    "            2: Mist + Cloudy, Mist + Broken clouds, Mist + Few clouds, Mist\n",
    "            3: Light Snow, Light Rain + Thunderstorm + Scattered clouds, Light Rain + Scattered clouds\n",
    "            4: Heavy Rain + Ice Pallets + Thunderstorm + Mist, Snow + Fog \n",
    "* temp - temperature in Celsius\n",
    "* atemp - \"feels like\" temperature in Celsius\n",
    "* humidity - relative humidity\n",
    "* windspeed - wind speed\n",
    "* casual - number of non-registered user rentals initiated\n",
    "* registered - number of registered user rentals initiated\n",
    "* count - number of total rentals"
   ]
  },
  {
   "cell_type": "markdown",
   "metadata": {
    "id": "u92drRFUbazU"
   },
   "source": [
    "### **Import libraries**\n",
    "\n",
    "- Pandas is a high-level data manipulation tool\n",
    "\n",
    "- NumPy is used for working with multidimensional arrays"
   ]
  },
  {
   "cell_type": "code",
   "execution_count": null,
   "metadata": {
    "id": "26U1kAiXbazV"
   },
   "outputs": [],
   "source": [
    "import pandas as pd\n",
    "import numpy as np"
   ]
  },
  {
   "cell_type": "code",
   "execution_count": null,
   "metadata": {
    "id": "TB2WT8SqMNzf",
    "outputId": "e48eb4c1-0dba-4212-a2aa-bddff6620bf9"
   },
   "outputs": [
    {
     "name": "stdout",
     "output_type": "stream",
     "text": [
      "\n",
      "INSTALLED VERSIONS\n",
      "------------------\n",
      "commit           : b5958ee1999e9aead1938c0bba2b674378807b3d\n",
      "python           : 3.7.6.final.0\n",
      "python-bits      : 64\n",
      "OS               : Linux\n",
      "OS-release       : 4.4.0-210-generic\n",
      "Version          : #242-Ubuntu SMP Fri Apr 16 09:57:56 UTC 2021\n",
      "machine          : x86_64\n",
      "processor        : x86_64\n",
      "byteorder        : little\n",
      "LC_ALL           : None\n",
      "LANG             : en_US.UTF-8\n",
      "LOCALE           : en_US.UTF-8\n",
      "\n",
      "pandas           : 1.1.5\n",
      "numpy            : 1.18.2\n",
      "pytz             : 2019.3\n",
      "dateutil         : 2.8.1\n",
      "pip              : 20.3.3\n",
      "setuptools       : 41.2.0\n",
      "Cython           : 0.29.16\n",
      "pytest           : 5.4.1\n",
      "hypothesis       : 5.8.0\n",
      "sphinx           : 2.4.4\n",
      "blosc            : 1.9.0\n",
      "feather          : None\n",
      "xlsxwriter       : 1.2.8\n",
      "lxml.etree       : 4.5.0\n",
      "html5lib         : 1.0.1\n",
      "pymysql          : None\n",
      "psycopg2         : None\n",
      "jinja2           : 2.11.1\n",
      "IPython          : 7.13.0\n",
      "pandas_datareader: None\n",
      "bs4              : 4.8.2\n",
      "bottleneck       : 1.3.2\n",
      "fsspec           : 0.8.3\n",
      "fastparquet      : None\n",
      "gcsfs            : None\n",
      "matplotlib       : 3.5.1\n",
      "numexpr          : 2.7.1\n",
      "odfpy            : None\n",
      "openpyxl         : 3.0.3\n",
      "pandas_gbq       : None\n",
      "pyarrow          : None\n",
      "pytables         : None\n",
      "pyxlsb           : None\n",
      "s3fs             : None\n",
      "scipy            : 1.4.1\n",
      "sqlalchemy       : 1.3.15\n",
      "tables           : 3.6.1\n",
      "tabulate         : 0.8.7\n",
      "xarray           : 0.15.1\n",
      "xlrd             : 1.2.0\n",
      "xlwt             : 1.3.0\n",
      "numba            : 0.48.0\n",
      "None\n"
     ]
    }
   ],
   "source": [
    "print(pd.show_versions())"
   ]
  },
  {
   "cell_type": "markdown",
   "metadata": {
    "id": "eZZFbzMIbaze"
   },
   "source": [
    "### **Load the first dataset**"
   ]
  },
  {
   "cell_type": "code",
   "execution_count": null,
   "metadata": {
    "id": "wJYd_a9_bazf"
   },
   "outputs": [],
   "source": [
    "dataset_1 = pd.read_csv('dataset_1.csv')"
   ]
  },
  {
   "cell_type": "markdown",
   "metadata": {
    "id": "3S2y2CvSMNzh"
   },
   "source": [
    "#### **Observations**:\n",
    "- We have to upload the dataset in the file explorer on the left panel of your lab\n",
    "\n",
    "- We are reading the file through the dataset_1 variable\n",
    "\n",
    "- The file is in CSV format\n",
    "\n",
    "- We use the **`pd.read_csv()`** function to read a CSV file\n",
    "\n",
    "- We provide the exact path of the file within the round bracket **`()`**"
   ]
  },
  {
   "cell_type": "markdown",
   "metadata": {
    "id": "o03mW0kpbazm"
   },
   "source": [
    "### **Check the type of dataset**"
   ]
  },
  {
   "cell_type": "markdown",
   "metadata": {
    "id": "CHrXjhMgMNzi"
   },
   "source": [
    "- Execute the below command to understand type of data we are having"
   ]
  },
  {
   "cell_type": "code",
   "execution_count": null,
   "metadata": {
    "colab": {
     "base_uri": "https://localhost:8080/"
    },
    "executionInfo": {
     "elapsed": 4481,
     "status": "ok",
     "timestamp": 1620798408593,
     "user": {
      "displayName": "Nishant Singh",
      "photoUrl": "https://lh3.googleusercontent.com/a-/AOh14GjUQCrk-faKBPHBYQ7dZiV7cSiHeQ0NWSVihFrxwA=s64",
      "userId": "15030016934842181675"
     },
     "user_tz": -330
    },
    "id": "sqy8m0B7bazo",
    "outputId": "54bd2550-0fb8-4848-bbbe-be058a4c4710"
   },
   "outputs": [
    {
     "data": {
      "text/plain": [
       "pandas.core.frame.DataFrame"
      ]
     },
     "execution_count": 4,
     "metadata": {},
     "output_type": "execute_result"
    }
   ],
   "source": [
    "type(dataset_1)"
   ]
  },
  {
   "cell_type": "markdown",
   "metadata": {
    "id": "JQkBD3UJMNzj"
   },
   "source": [
    "#### **Observations:**\n",
    "\n",
    "- The result shows that the dataset is DataFrame\n",
    "\n",
    "- DataFrame is a tabular structure consisting of rows and columns"
   ]
  },
  {
   "cell_type": "markdown",
   "metadata": {
    "id": "n8mEl7H2bazx"
   },
   "source": [
    "## **Shape of the dataset**"
   ]
  },
  {
   "cell_type": "code",
   "execution_count": null,
   "metadata": {
    "colab": {
     "base_uri": "https://localhost:8080/"
    },
    "executionInfo": {
     "elapsed": 4468,
     "status": "ok",
     "timestamp": 1620798408594,
     "user": {
      "displayName": "Nishant Singh",
      "photoUrl": "https://lh3.googleusercontent.com/a-/AOh14GjUQCrk-faKBPHBYQ7dZiV7cSiHeQ0NWSVihFrxwA=s64",
      "userId": "15030016934842181675"
     },
     "user_tz": -330
    },
    "id": "z2fItnKubaz0",
    "outputId": "418d51ec-230f-42e4-9320-a264a1064933"
   },
   "outputs": [
    {
     "data": {
      "text/plain": [
       "(610, 10)"
      ]
     },
     "execution_count": 5,
     "metadata": {},
     "output_type": "execute_result"
    }
   ],
   "source": [
    "dataset_1.shape"
   ]
  },
  {
   "cell_type": "markdown",
   "metadata": {
    "id": "inJUDnmBMNzk"
   },
   "source": [
    "#### **Observation**:\n",
    "\n",
    "- The `dataset_1` has 610 rows and 10 columns."
   ]
  },
  {
   "cell_type": "markdown",
   "metadata": {
    "id": "IP-VVRxabaz5"
   },
   "source": [
    "### **Print first 5 rows of the dataset**"
   ]
  },
  {
   "cell_type": "code",
   "execution_count": null,
   "metadata": {
    "colab": {
     "base_uri": "https://localhost:8080/",
     "height": 204
    },
    "executionInfo": {
     "elapsed": 4453,
     "status": "ok",
     "timestamp": 1620798408597,
     "user": {
      "displayName": "Nishant Singh",
      "photoUrl": "https://lh3.googleusercontent.com/a-/AOh14GjUQCrk-faKBPHBYQ7dZiV7cSiHeQ0NWSVihFrxwA=s64",
      "userId": "15030016934842181675"
     },
     "user_tz": -330
    },
    "id": "HkDAX3U-ba0H",
    "outputId": "cdc20ed9-991b-46fb-ac53-93f607b97b0b"
   },
   "outputs": [
    {
     "data": {
      "text/html": [
       "<div>\n",
       "<style scoped>\n",
       "    .dataframe tbody tr th:only-of-type {\n",
       "        vertical-align: middle;\n",
       "    }\n",
       "\n",
       "    .dataframe tbody tr th {\n",
       "        vertical-align: top;\n",
       "    }\n",
       "\n",
       "    .dataframe thead th {\n",
       "        text-align: right;\n",
       "    }\n",
       "</style>\n",
       "<table border=\"1\" class=\"dataframe\">\n",
       "  <thead>\n",
       "    <tr style=\"text-align: right;\">\n",
       "      <th></th>\n",
       "      <th>instant</th>\n",
       "      <th>dteday</th>\n",
       "      <th>season</th>\n",
       "      <th>yr</th>\n",
       "      <th>mnth</th>\n",
       "      <th>hr</th>\n",
       "      <th>holiday</th>\n",
       "      <th>weekday</th>\n",
       "      <th>weathersit</th>\n",
       "      <th>temp</th>\n",
       "    </tr>\n",
       "  </thead>\n",
       "  <tbody>\n",
       "    <tr>\n",
       "      <th>0</th>\n",
       "      <td>1</td>\n",
       "      <td>01-01-2011</td>\n",
       "      <td>1</td>\n",
       "      <td>0</td>\n",
       "      <td>1</td>\n",
       "      <td>0</td>\n",
       "      <td>False</td>\n",
       "      <td>6</td>\n",
       "      <td>1</td>\n",
       "      <td>0.24</td>\n",
       "    </tr>\n",
       "    <tr>\n",
       "      <th>1</th>\n",
       "      <td>2</td>\n",
       "      <td>01-01-2011</td>\n",
       "      <td>1</td>\n",
       "      <td>0</td>\n",
       "      <td>1</td>\n",
       "      <td>1</td>\n",
       "      <td>False</td>\n",
       "      <td>6</td>\n",
       "      <td>1</td>\n",
       "      <td>0.22</td>\n",
       "    </tr>\n",
       "    <tr>\n",
       "      <th>2</th>\n",
       "      <td>3</td>\n",
       "      <td>01-01-2011</td>\n",
       "      <td>1</td>\n",
       "      <td>0</td>\n",
       "      <td>1</td>\n",
       "      <td>2</td>\n",
       "      <td>False</td>\n",
       "      <td>6</td>\n",
       "      <td>1</td>\n",
       "      <td>0.22</td>\n",
       "    </tr>\n",
       "    <tr>\n",
       "      <th>3</th>\n",
       "      <td>4</td>\n",
       "      <td>01-01-2011</td>\n",
       "      <td>1</td>\n",
       "      <td>0</td>\n",
       "      <td>1</td>\n",
       "      <td>3</td>\n",
       "      <td>False</td>\n",
       "      <td>6</td>\n",
       "      <td>1</td>\n",
       "      <td>0.24</td>\n",
       "    </tr>\n",
       "    <tr>\n",
       "      <th>4</th>\n",
       "      <td>5</td>\n",
       "      <td>01-01-2011</td>\n",
       "      <td>1</td>\n",
       "      <td>0</td>\n",
       "      <td>1</td>\n",
       "      <td>4</td>\n",
       "      <td>False</td>\n",
       "      <td>6</td>\n",
       "      <td>1</td>\n",
       "      <td>0.24</td>\n",
       "    </tr>\n",
       "  </tbody>\n",
       "</table>\n",
       "</div>"
      ],
      "text/plain": [
       "   instant      dteday  season  yr  mnth  hr  holiday  weekday  weathersit  \\\n",
       "0        1  01-01-2011       1   0     1   0    False        6           1   \n",
       "1        2  01-01-2011       1   0     1   1    False        6           1   \n",
       "2        3  01-01-2011       1   0     1   2    False        6           1   \n",
       "3        4  01-01-2011       1   0     1   3    False        6           1   \n",
       "4        5  01-01-2011       1   0     1   4    False        6           1   \n",
       "\n",
       "   temp  \n",
       "0  0.24  \n",
       "1  0.22  \n",
       "2  0.22  \n",
       "3  0.24  \n",
       "4  0.24  "
      ]
     },
     "execution_count": 6,
     "metadata": {},
     "output_type": "execute_result"
    }
   ],
   "source": [
    "dataset_1.head()"
   ]
  },
  {
   "cell_type": "markdown",
   "metadata": {
    "id": "RFUMOVyLMNzl"
   },
   "source": [
    "#### **Observation**:\n",
    "\n",
    "- The **'dataset_1.head()'** function displays only the initial five rows of the dataset."
   ]
  },
  {
   "cell_type": "markdown",
   "metadata": {
    "id": "mjP_ALbYba0M"
   },
   "source": [
    "### **Load the second dataset**\n",
    "\n",
    "- Use the function carefully since it is an excel file"
   ]
  },
  {
   "cell_type": "code",
   "execution_count": null,
   "metadata": {
    "id": "heyRsB85ba0N"
   },
   "outputs": [],
   "source": [
    "dataset_2 = pd.read_excel('dataset_2.xlsx')"
   ]
  },
  {
   "cell_type": "markdown",
   "metadata": {
    "id": "8Eg0IGSOba0R"
   },
   "source": [
    "### **Shape of the dataset**"
   ]
  },
  {
   "cell_type": "code",
   "execution_count": null,
   "metadata": {
    "colab": {
     "base_uri": "https://localhost:8080/"
    },
    "executionInfo": {
     "elapsed": 4455,
     "status": "ok",
     "timestamp": 1620798408620,
     "user": {
      "displayName": "Nishant Singh",
      "photoUrl": "https://lh3.googleusercontent.com/a-/AOh14GjUQCrk-faKBPHBYQ7dZiV7cSiHeQ0NWSVihFrxwA=s64",
      "userId": "15030016934842181675"
     },
     "user_tz": -330
    },
    "id": "_dUOlRr-ba0S",
    "outputId": "606a8592-060f-40e4-8b43-e88ca97737ee"
   },
   "outputs": [
    {
     "data": {
      "text/plain": [
       "(610, 8)"
      ]
     },
     "execution_count": 8,
     "metadata": {},
     "output_type": "execute_result"
    }
   ],
   "source": [
    "dataset_2.shape"
   ]
  },
  {
   "cell_type": "markdown",
   "metadata": {
    "id": "Q-f2P3iR4IPY"
   },
   "source": [
    "#### **Observation:**\n",
    "\n",
    "* The result shows that `dataset_2` has 610 rows and 8 columns."
   ]
  },
  {
   "cell_type": "markdown",
   "metadata": {
    "id": "oCFHmi1iba0W"
   },
   "source": [
    "### **Print first 5 rows of the dataset**"
   ]
  },
  {
   "cell_type": "code",
   "execution_count": null,
   "metadata": {
    "colab": {
     "base_uri": "https://localhost:8080/",
     "height": 204
    },
    "executionInfo": {
     "elapsed": 4441,
     "status": "ok",
     "timestamp": 1620798408622,
     "user": {
      "displayName": "Nishant Singh",
      "photoUrl": "https://lh3.googleusercontent.com/a-/AOh14GjUQCrk-faKBPHBYQ7dZiV7cSiHeQ0NWSVihFrxwA=s64",
      "userId": "15030016934842181675"
     },
     "user_tz": -330
    },
    "id": "iIg37DdMba0X",
    "outputId": "27d388c6-8b37-43d6-8dcf-880e0fad1f00"
   },
   "outputs": [
    {
     "data": {
      "text/html": [
       "<div>\n",
       "<style scoped>\n",
       "    .dataframe tbody tr th:only-of-type {\n",
       "        vertical-align: middle;\n",
       "    }\n",
       "\n",
       "    .dataframe tbody tr th {\n",
       "        vertical-align: top;\n",
       "    }\n",
       "\n",
       "    .dataframe thead th {\n",
       "        text-align: right;\n",
       "    }\n",
       "</style>\n",
       "<table border=\"1\" class=\"dataframe\">\n",
       "  <thead>\n",
       "    <tr style=\"text-align: right;\">\n",
       "      <th></th>\n",
       "      <th>Unnamed: 0</th>\n",
       "      <th>instant</th>\n",
       "      <th>atemp</th>\n",
       "      <th>hum</th>\n",
       "      <th>windspeed</th>\n",
       "      <th>casual</th>\n",
       "      <th>registered</th>\n",
       "      <th>cnt</th>\n",
       "    </tr>\n",
       "  </thead>\n",
       "  <tbody>\n",
       "    <tr>\n",
       "      <th>0</th>\n",
       "      <td>0</td>\n",
       "      <td>1</td>\n",
       "      <td>0.2879</td>\n",
       "      <td>0.81</td>\n",
       "      <td>0.0</td>\n",
       "      <td>3</td>\n",
       "      <td>13</td>\n",
       "      <td>16</td>\n",
       "    </tr>\n",
       "    <tr>\n",
       "      <th>1</th>\n",
       "      <td>1</td>\n",
       "      <td>2</td>\n",
       "      <td>0.2727</td>\n",
       "      <td>0.80</td>\n",
       "      <td>0.0</td>\n",
       "      <td>8</td>\n",
       "      <td>32</td>\n",
       "      <td>40</td>\n",
       "    </tr>\n",
       "    <tr>\n",
       "      <th>2</th>\n",
       "      <td>2</td>\n",
       "      <td>3</td>\n",
       "      <td>0.2727</td>\n",
       "      <td>0.80</td>\n",
       "      <td>0.0</td>\n",
       "      <td>5</td>\n",
       "      <td>27</td>\n",
       "      <td>32</td>\n",
       "    </tr>\n",
       "    <tr>\n",
       "      <th>3</th>\n",
       "      <td>3</td>\n",
       "      <td>4</td>\n",
       "      <td>0.2879</td>\n",
       "      <td>0.75</td>\n",
       "      <td>0.0</td>\n",
       "      <td>3</td>\n",
       "      <td>10</td>\n",
       "      <td>13</td>\n",
       "    </tr>\n",
       "    <tr>\n",
       "      <th>4</th>\n",
       "      <td>4</td>\n",
       "      <td>5</td>\n",
       "      <td>0.2879</td>\n",
       "      <td>0.75</td>\n",
       "      <td>0.0</td>\n",
       "      <td>0</td>\n",
       "      <td>1</td>\n",
       "      <td>1</td>\n",
       "    </tr>\n",
       "  </tbody>\n",
       "</table>\n",
       "</div>"
      ],
      "text/plain": [
       "   Unnamed: 0  instant   atemp   hum  windspeed  casual  registered  cnt\n",
       "0           0        1  0.2879  0.81        0.0       3          13   16\n",
       "1           1        2  0.2727  0.80        0.0       8          32   40\n",
       "2           2        3  0.2727  0.80        0.0       5          27   32\n",
       "3           3        4  0.2879  0.75        0.0       3          10   13\n",
       "4           4        5  0.2879  0.75        0.0       0           1    1"
      ]
     },
     "execution_count": 9,
     "metadata": {},
     "output_type": "execute_result"
    }
   ],
   "source": [
    "dataset_2.head()"
   ]
  },
  {
   "cell_type": "markdown",
   "metadata": {
    "id": "hn_LMma4ba0b"
   },
   "source": [
    "#### **Observation:**\n",
    "- We can see a column named `unnamed:0`, which is not in the data dictionary. Let's remove it."
   ]
  },
  {
   "cell_type": "markdown",
   "metadata": {
    "id": "KTEFHstzba0c"
   },
   "source": [
    "### **Drop the column**"
   ]
  },
  {
   "cell_type": "code",
   "execution_count": null,
   "metadata": {
    "id": "47WrTJ_Jba0d"
   },
   "outputs": [],
   "source": [
    "dataset_2 = dataset_2.drop(['Unnamed: 0'], axis=1)"
   ]
  },
  {
   "cell_type": "markdown",
   "metadata": {
    "id": "siPftU4Pba0h"
   },
   "source": [
    "### **Lets check the shape of the dataset again after the drop**"
   ]
  },
  {
   "cell_type": "code",
   "execution_count": null,
   "metadata": {
    "colab": {
     "base_uri": "https://localhost:8080/"
    },
    "executionInfo": {
     "elapsed": 4424,
     "status": "ok",
     "timestamp": 1620798408624,
     "user": {
      "displayName": "Nishant Singh",
      "photoUrl": "https://lh3.googleusercontent.com/a-/AOh14GjUQCrk-faKBPHBYQ7dZiV7cSiHeQ0NWSVihFrxwA=s64",
      "userId": "15030016934842181675"
     },
     "user_tz": -330
    },
    "id": "U4WWjkhoba0h",
    "outputId": "845e4d4a-6e83-4206-fb96-9974e35a4f61"
   },
   "outputs": [
    {
     "data": {
      "text/plain": [
       "(610, 7)"
      ]
     },
     "execution_count": 11,
     "metadata": {},
     "output_type": "execute_result"
    }
   ],
   "source": [
    "dataset_2.shape"
   ]
  },
  {
   "cell_type": "markdown",
   "metadata": {
    "id": "WMW8u46aMNzo"
   },
   "source": [
    "#### **Observation:**\n",
    "\n",
    "- We had 8 columns before the drop.\n",
    "\n",
    "- When we check the shape of the file after the drop, we see that the column `Unnamed: 0` has been dropped"
   ]
  },
  {
   "cell_type": "markdown",
   "metadata": {
    "id": "ImRK-g7Jba0m"
   },
   "source": [
    "### **Top 5 rows of the dataset**\n",
    "\n",
    "- Let's check the dataset_2 again"
   ]
  },
  {
   "cell_type": "code",
   "execution_count": null,
   "metadata": {
    "colab": {
     "base_uri": "https://localhost:8080/",
     "height": 204
    },
    "executionInfo": {
     "elapsed": 4408,
     "status": "ok",
     "timestamp": 1620798408625,
     "user": {
      "displayName": "Nishant Singh",
      "photoUrl": "https://lh3.googleusercontent.com/a-/AOh14GjUQCrk-faKBPHBYQ7dZiV7cSiHeQ0NWSVihFrxwA=s64",
      "userId": "15030016934842181675"
     },
     "user_tz": -330
    },
    "id": "7M0bz-k_ba0m",
    "outputId": "6cc9c7ee-3b34-4e37-8147-5b84a0d9afc0"
   },
   "outputs": [
    {
     "data": {
      "text/html": [
       "<div>\n",
       "<style scoped>\n",
       "    .dataframe tbody tr th:only-of-type {\n",
       "        vertical-align: middle;\n",
       "    }\n",
       "\n",
       "    .dataframe tbody tr th {\n",
       "        vertical-align: top;\n",
       "    }\n",
       "\n",
       "    .dataframe thead th {\n",
       "        text-align: right;\n",
       "    }\n",
       "</style>\n",
       "<table border=\"1\" class=\"dataframe\">\n",
       "  <thead>\n",
       "    <tr style=\"text-align: right;\">\n",
       "      <th></th>\n",
       "      <th>instant</th>\n",
       "      <th>atemp</th>\n",
       "      <th>hum</th>\n",
       "      <th>windspeed</th>\n",
       "      <th>casual</th>\n",
       "      <th>registered</th>\n",
       "      <th>cnt</th>\n",
       "    </tr>\n",
       "  </thead>\n",
       "  <tbody>\n",
       "    <tr>\n",
       "      <th>0</th>\n",
       "      <td>1</td>\n",
       "      <td>0.2879</td>\n",
       "      <td>0.81</td>\n",
       "      <td>0.0</td>\n",
       "      <td>3</td>\n",
       "      <td>13</td>\n",
       "      <td>16</td>\n",
       "    </tr>\n",
       "    <tr>\n",
       "      <th>1</th>\n",
       "      <td>2</td>\n",
       "      <td>0.2727</td>\n",
       "      <td>0.80</td>\n",
       "      <td>0.0</td>\n",
       "      <td>8</td>\n",
       "      <td>32</td>\n",
       "      <td>40</td>\n",
       "    </tr>\n",
       "    <tr>\n",
       "      <th>2</th>\n",
       "      <td>3</td>\n",
       "      <td>0.2727</td>\n",
       "      <td>0.80</td>\n",
       "      <td>0.0</td>\n",
       "      <td>5</td>\n",
       "      <td>27</td>\n",
       "      <td>32</td>\n",
       "    </tr>\n",
       "    <tr>\n",
       "      <th>3</th>\n",
       "      <td>4</td>\n",
       "      <td>0.2879</td>\n",
       "      <td>0.75</td>\n",
       "      <td>0.0</td>\n",
       "      <td>3</td>\n",
       "      <td>10</td>\n",
       "      <td>13</td>\n",
       "    </tr>\n",
       "    <tr>\n",
       "      <th>4</th>\n",
       "      <td>5</td>\n",
       "      <td>0.2879</td>\n",
       "      <td>0.75</td>\n",
       "      <td>0.0</td>\n",
       "      <td>0</td>\n",
       "      <td>1</td>\n",
       "      <td>1</td>\n",
       "    </tr>\n",
       "  </tbody>\n",
       "</table>\n",
       "</div>"
      ],
      "text/plain": [
       "   instant   atemp   hum  windspeed  casual  registered  cnt\n",
       "0        1  0.2879  0.81        0.0       3          13   16\n",
       "1        2  0.2727  0.80        0.0       8          32   40\n",
       "2        3  0.2727  0.80        0.0       5          27   32\n",
       "3        4  0.2879  0.75        0.0       3          10   13\n",
       "4        5  0.2879  0.75        0.0       0           1    1"
      ]
     },
     "execution_count": 12,
     "metadata": {},
     "output_type": "execute_result"
    }
   ],
   "source": [
    "dataset_2.head()"
   ]
  },
  {
   "cell_type": "markdown",
   "metadata": {
    "id": "T1wo8p6HMNzo"
   },
   "source": [
    "#### **Observation:**\n",
    "\n",
    "- dataset_2 does not have `Unnamed: 0` column"
   ]
  },
  {
   "cell_type": "markdown",
   "metadata": {
    "id": "O8b1BeLhba0p"
   },
   "source": [
    "### **Merge the datasets**\n",
    "\n",
    "- We have two datasets. They are dataset_1 and dataset_2\n",
    "\n",
    "- As both datasets have one common column 'instant', let's merge the datasets on that column\n",
    "\n",
    "- We are going to save the resultant data inside the **combined_data** as shown below"
   ]
  },
  {
   "cell_type": "code",
   "execution_count": null,
   "metadata": {
    "id": "yrD4h9KHba0q"
   },
   "outputs": [],
   "source": [
    "combined_data = pd.merge(dataset_1, dataset_2, on='instant')"
   ]
  },
  {
   "cell_type": "markdown",
   "metadata": {
    "id": "CjTIaoNRba0t"
   },
   "source": [
    "### **Check the shape of combined dataset**"
   ]
  },
  {
   "cell_type": "code",
   "execution_count": null,
   "metadata": {
    "colab": {
     "base_uri": "https://localhost:8080/"
    },
    "executionInfo": {
     "elapsed": 4390,
     "status": "ok",
     "timestamp": 1620798408627,
     "user": {
      "displayName": "Nishant Singh",
      "photoUrl": "https://lh3.googleusercontent.com/a-/AOh14GjUQCrk-faKBPHBYQ7dZiV7cSiHeQ0NWSVihFrxwA=s64",
      "userId": "15030016934842181675"
     },
     "user_tz": -330
    },
    "id": "0vMo5Le8ba0t",
    "outputId": "3392bea7-ee6a-4803-987b-afe437dda29b"
   },
   "outputs": [
    {
     "data": {
      "text/plain": [
       "(610, 16)"
      ]
     },
     "execution_count": 14,
     "metadata": {},
     "output_type": "execute_result"
    }
   ],
   "source": [
    "combined_data.shape"
   ]
  },
  {
   "cell_type": "markdown",
   "metadata": {
    "id": "9wSuCn0sMNzp"
   },
   "source": [
    "#### **Observation:**\n",
    "\n",
    "- The shape of the combined_data has 610 rows and 16 columns "
   ]
  },
  {
   "cell_type": "markdown",
   "metadata": {
    "id": "YTywPPDcba0w"
   },
   "source": [
    "### **Top 5 rows of the combined dataset**"
   ]
  },
  {
   "cell_type": "code",
   "execution_count": null,
   "metadata": {
    "colab": {
     "base_uri": "https://localhost:8080/",
     "height": 204
    },
    "executionInfo": {
     "elapsed": 4376,
     "status": "ok",
     "timestamp": 1620798408629,
     "user": {
      "displayName": "Nishant Singh",
      "photoUrl": "https://lh3.googleusercontent.com/a-/AOh14GjUQCrk-faKBPHBYQ7dZiV7cSiHeQ0NWSVihFrxwA=s64",
      "userId": "15030016934842181675"
     },
     "user_tz": -330
    },
    "id": "uiiQ3mkmba0w",
    "outputId": "c755bdec-89f6-407d-c199-6a0e0d6065e9"
   },
   "outputs": [
    {
     "data": {
      "text/html": [
       "<div>\n",
       "<style scoped>\n",
       "    .dataframe tbody tr th:only-of-type {\n",
       "        vertical-align: middle;\n",
       "    }\n",
       "\n",
       "    .dataframe tbody tr th {\n",
       "        vertical-align: top;\n",
       "    }\n",
       "\n",
       "    .dataframe thead th {\n",
       "        text-align: right;\n",
       "    }\n",
       "</style>\n",
       "<table border=\"1\" class=\"dataframe\">\n",
       "  <thead>\n",
       "    <tr style=\"text-align: right;\">\n",
       "      <th></th>\n",
       "      <th>instant</th>\n",
       "      <th>dteday</th>\n",
       "      <th>season</th>\n",
       "      <th>yr</th>\n",
       "      <th>mnth</th>\n",
       "      <th>hr</th>\n",
       "      <th>holiday</th>\n",
       "      <th>weekday</th>\n",
       "      <th>weathersit</th>\n",
       "      <th>temp</th>\n",
       "      <th>atemp</th>\n",
       "      <th>hum</th>\n",
       "      <th>windspeed</th>\n",
       "      <th>casual</th>\n",
       "      <th>registered</th>\n",
       "      <th>cnt</th>\n",
       "    </tr>\n",
       "  </thead>\n",
       "  <tbody>\n",
       "    <tr>\n",
       "      <th>0</th>\n",
       "      <td>1</td>\n",
       "      <td>01-01-2011</td>\n",
       "      <td>1</td>\n",
       "      <td>0</td>\n",
       "      <td>1</td>\n",
       "      <td>0</td>\n",
       "      <td>False</td>\n",
       "      <td>6</td>\n",
       "      <td>1</td>\n",
       "      <td>0.24</td>\n",
       "      <td>0.2879</td>\n",
       "      <td>0.81</td>\n",
       "      <td>0.0</td>\n",
       "      <td>3</td>\n",
       "      <td>13</td>\n",
       "      <td>16</td>\n",
       "    </tr>\n",
       "    <tr>\n",
       "      <th>1</th>\n",
       "      <td>2</td>\n",
       "      <td>01-01-2011</td>\n",
       "      <td>1</td>\n",
       "      <td>0</td>\n",
       "      <td>1</td>\n",
       "      <td>1</td>\n",
       "      <td>False</td>\n",
       "      <td>6</td>\n",
       "      <td>1</td>\n",
       "      <td>0.22</td>\n",
       "      <td>0.2727</td>\n",
       "      <td>0.80</td>\n",
       "      <td>0.0</td>\n",
       "      <td>8</td>\n",
       "      <td>32</td>\n",
       "      <td>40</td>\n",
       "    </tr>\n",
       "    <tr>\n",
       "      <th>2</th>\n",
       "      <td>3</td>\n",
       "      <td>01-01-2011</td>\n",
       "      <td>1</td>\n",
       "      <td>0</td>\n",
       "      <td>1</td>\n",
       "      <td>2</td>\n",
       "      <td>False</td>\n",
       "      <td>6</td>\n",
       "      <td>1</td>\n",
       "      <td>0.22</td>\n",
       "      <td>0.2727</td>\n",
       "      <td>0.80</td>\n",
       "      <td>0.0</td>\n",
       "      <td>5</td>\n",
       "      <td>27</td>\n",
       "      <td>32</td>\n",
       "    </tr>\n",
       "    <tr>\n",
       "      <th>3</th>\n",
       "      <td>4</td>\n",
       "      <td>01-01-2011</td>\n",
       "      <td>1</td>\n",
       "      <td>0</td>\n",
       "      <td>1</td>\n",
       "      <td>3</td>\n",
       "      <td>False</td>\n",
       "      <td>6</td>\n",
       "      <td>1</td>\n",
       "      <td>0.24</td>\n",
       "      <td>0.2879</td>\n",
       "      <td>0.75</td>\n",
       "      <td>0.0</td>\n",
       "      <td>3</td>\n",
       "      <td>10</td>\n",
       "      <td>13</td>\n",
       "    </tr>\n",
       "    <tr>\n",
       "      <th>4</th>\n",
       "      <td>5</td>\n",
       "      <td>01-01-2011</td>\n",
       "      <td>1</td>\n",
       "      <td>0</td>\n",
       "      <td>1</td>\n",
       "      <td>4</td>\n",
       "      <td>False</td>\n",
       "      <td>6</td>\n",
       "      <td>1</td>\n",
       "      <td>0.24</td>\n",
       "      <td>0.2879</td>\n",
       "      <td>0.75</td>\n",
       "      <td>0.0</td>\n",
       "      <td>0</td>\n",
       "      <td>1</td>\n",
       "      <td>1</td>\n",
       "    </tr>\n",
       "  </tbody>\n",
       "</table>\n",
       "</div>"
      ],
      "text/plain": [
       "   instant      dteday  season  yr  mnth  hr  holiday  weekday  weathersit  \\\n",
       "0        1  01-01-2011       1   0     1   0    False        6           1   \n",
       "1        2  01-01-2011       1   0     1   1    False        6           1   \n",
       "2        3  01-01-2011       1   0     1   2    False        6           1   \n",
       "3        4  01-01-2011       1   0     1   3    False        6           1   \n",
       "4        5  01-01-2011       1   0     1   4    False        6           1   \n",
       "\n",
       "   temp   atemp   hum  windspeed  casual  registered  cnt  \n",
       "0  0.24  0.2879  0.81        0.0       3          13   16  \n",
       "1  0.22  0.2727  0.80        0.0       8          32   40  \n",
       "2  0.22  0.2727  0.80        0.0       5          27   32  \n",
       "3  0.24  0.2879  0.75        0.0       3          10   13  \n",
       "4  0.24  0.2879  0.75        0.0       0           1    1  "
      ]
     },
     "execution_count": 15,
     "metadata": {},
     "output_type": "execute_result"
    }
   ],
   "source": [
    "combined_data.head()"
   ]
  },
  {
   "cell_type": "markdown",
   "metadata": {
    "id": "KZfsSupWba0z"
   },
   "source": [
    "#### **Now, load the 3rd dataset**\n",
    "\n",
    "- The dataset is saved in s3 bucket, we are going to download the dataset_3"
   ]
  },
  {
   "cell_type": "code",
   "execution_count": null,
   "metadata": {
    "id": "FkiHcLYrG3t8",
    "outputId": "791d7080-daf5-4dd5-a71f-075a7b439c78"
   },
   "outputs": [
    {
     "name": "stdout",
     "output_type": "stream",
     "text": [
      "Defaulting to user installation because normal site-packages is not writeable\n",
      "Requirement already satisfied: wget in ./.local/lib/python3.7/site-packages (3.2)\n",
      "\u001b[33mWARNING: You are using pip version 20.3.3; however, version 21.3.1 is available.\n",
      "You should consider upgrading via the '/usr/local/bin/python3.7 -m pip install --upgrade pip' command.\u001b[0m\n"
     ]
    }
   ],
   "source": [
    "import pip\n",
    "!pip install wget"
   ]
  },
  {
   "cell_type": "code",
   "execution_count": null,
   "metadata": {
    "colab": {
     "base_uri": "https://localhost:8080/",
     "height": 35
    },
    "executionInfo": {
     "elapsed": 4356,
     "status": "ok",
     "timestamp": 1620798408632,
     "user": {
      "displayName": "Nishant Singh",
      "photoUrl": "https://lh3.googleusercontent.com/a-/AOh14GjUQCrk-faKBPHBYQ7dZiV7cSiHeQ0NWSVihFrxwA=s64",
      "userId": "15030016934842181675"
     },
     "user_tz": -330
    },
    "id": "iSTPGxasba00",
    "outputId": "fa1b8ac5-7007-4aff-fed7-eb6d39af03a8"
   },
   "outputs": [
    {
     "data": {
      "text/plain": [
       "'dataset_3 (2).csv'"
      ]
     },
     "execution_count": 17,
     "metadata": {},
     "output_type": "execute_result"
    }
   ],
   "source": [
    "import wget\n",
    "\n",
    "url = 'https://datasciencetrack.s3.us-east-2.amazonaws.com/dataset_3.csv'\n",
    "wget.download(url)"
   ]
  },
  {
   "cell_type": "markdown",
   "metadata": {
    "id": "iTJcXoIAMNzr"
   },
   "source": [
    "#### **Observation:**\n",
    "\n",
    "- It will download the file directly from the main server after importing the wget module\n",
    "\n",
    "- As shown above, we need to specify URL of the file only\n",
    "\n",
    "- You will see the downloaded **`dataset_3.csv`** on your lab's file explorer"
   ]
  },
  {
   "cell_type": "markdown",
   "metadata": {
    "id": "vfGUucAa-G9k"
   },
   "source": [
    "### **Import the dataset**"
   ]
  },
  {
   "cell_type": "code",
   "execution_count": null,
   "metadata": {
    "id": "uBNy24zHba03"
   },
   "outputs": [],
   "source": [
    "dataset_3 = pd.read_csv('dataset_3.csv')"
   ]
  },
  {
   "cell_type": "markdown",
   "metadata": {
    "id": "uGv-UP91ba05"
   },
   "source": [
    "### **Check the shape of the dataset**"
   ]
  },
  {
   "cell_type": "code",
   "execution_count": null,
   "metadata": {
    "colab": {
     "base_uri": "https://localhost:8080/"
    },
    "executionInfo": {
     "elapsed": 4336,
     "status": "ok",
     "timestamp": 1620798408634,
     "user": {
      "displayName": "Nishant Singh",
      "photoUrl": "https://lh3.googleusercontent.com/a-/AOh14GjUQCrk-faKBPHBYQ7dZiV7cSiHeQ0NWSVihFrxwA=s64",
      "userId": "15030016934842181675"
     },
     "user_tz": -330
    },
    "id": "SWplaB-Cba06",
    "outputId": "2a55d920-418c-4d92-9a87-0986247a32d7"
   },
   "outputs": [
    {
     "data": {
      "text/plain": [
       "(390, 16)"
      ]
     },
     "execution_count": 19,
     "metadata": {},
     "output_type": "execute_result"
    }
   ],
   "source": [
    "dataset_3.shape"
   ]
  },
  {
   "cell_type": "markdown",
   "metadata": {
    "id": "H4IdHxazba08"
   },
   "source": [
    "### **Top 5 rows of the dataset**"
   ]
  },
  {
   "cell_type": "code",
   "execution_count": null,
   "metadata": {
    "colab": {
     "base_uri": "https://localhost:8080/",
     "height": 204
    },
    "executionInfo": {
     "elapsed": 4320,
     "status": "ok",
     "timestamp": 1620798408635,
     "user": {
      "displayName": "Nishant Singh",
      "photoUrl": "https://lh3.googleusercontent.com/a-/AOh14GjUQCrk-faKBPHBYQ7dZiV7cSiHeQ0NWSVihFrxwA=s64",
      "userId": "15030016934842181675"
     },
     "user_tz": -330
    },
    "id": "_sFNaaUsba09",
    "outputId": "630eba59-3c9a-43b1-be45-6f4f9dbaea84"
   },
   "outputs": [
    {
     "data": {
      "text/html": [
       "<div>\n",
       "<style scoped>\n",
       "    .dataframe tbody tr th:only-of-type {\n",
       "        vertical-align: middle;\n",
       "    }\n",
       "\n",
       "    .dataframe tbody tr th {\n",
       "        vertical-align: top;\n",
       "    }\n",
       "\n",
       "    .dataframe thead th {\n",
       "        text-align: right;\n",
       "    }\n",
       "</style>\n",
       "<table border=\"1\" class=\"dataframe\">\n",
       "  <thead>\n",
       "    <tr style=\"text-align: right;\">\n",
       "      <th></th>\n",
       "      <th>instant</th>\n",
       "      <th>dteday</th>\n",
       "      <th>season</th>\n",
       "      <th>yr</th>\n",
       "      <th>mnth</th>\n",
       "      <th>hr</th>\n",
       "      <th>holiday</th>\n",
       "      <th>weekday</th>\n",
       "      <th>weathersit</th>\n",
       "      <th>temp</th>\n",
       "      <th>atemp</th>\n",
       "      <th>hum</th>\n",
       "      <th>windspeed</th>\n",
       "      <th>casual</th>\n",
       "      <th>registered</th>\n",
       "      <th>cnt</th>\n",
       "    </tr>\n",
       "  </thead>\n",
       "  <tbody>\n",
       "    <tr>\n",
       "      <th>0</th>\n",
       "      <td>620</td>\n",
       "      <td>29-01-2011</td>\n",
       "      <td>1</td>\n",
       "      <td>0</td>\n",
       "      <td>1</td>\n",
       "      <td>1</td>\n",
       "      <td>False</td>\n",
       "      <td>6</td>\n",
       "      <td>1</td>\n",
       "      <td>0.22</td>\n",
       "      <td>0.2273</td>\n",
       "      <td>0.64</td>\n",
       "      <td>0.1940</td>\n",
       "      <td>0</td>\n",
       "      <td>20</td>\n",
       "      <td>20</td>\n",
       "    </tr>\n",
       "    <tr>\n",
       "      <th>1</th>\n",
       "      <td>621</td>\n",
       "      <td>29-01-2011</td>\n",
       "      <td>1</td>\n",
       "      <td>0</td>\n",
       "      <td>1</td>\n",
       "      <td>2</td>\n",
       "      <td>False</td>\n",
       "      <td>6</td>\n",
       "      <td>1</td>\n",
       "      <td>0.22</td>\n",
       "      <td>0.2273</td>\n",
       "      <td>0.64</td>\n",
       "      <td>0.1642</td>\n",
       "      <td>0</td>\n",
       "      <td>15</td>\n",
       "      <td>15</td>\n",
       "    </tr>\n",
       "    <tr>\n",
       "      <th>2</th>\n",
       "      <td>622</td>\n",
       "      <td>29-01-2011</td>\n",
       "      <td>1</td>\n",
       "      <td>0</td>\n",
       "      <td>1</td>\n",
       "      <td>3</td>\n",
       "      <td>False</td>\n",
       "      <td>6</td>\n",
       "      <td>1</td>\n",
       "      <td>0.20</td>\n",
       "      <td>0.2121</td>\n",
       "      <td>0.64</td>\n",
       "      <td>0.1343</td>\n",
       "      <td>3</td>\n",
       "      <td>5</td>\n",
       "      <td>8</td>\n",
       "    </tr>\n",
       "    <tr>\n",
       "      <th>3</th>\n",
       "      <td>623</td>\n",
       "      <td>29-01-2011</td>\n",
       "      <td>1</td>\n",
       "      <td>0</td>\n",
       "      <td>1</td>\n",
       "      <td>4</td>\n",
       "      <td>False</td>\n",
       "      <td>6</td>\n",
       "      <td>1</td>\n",
       "      <td>0.16</td>\n",
       "      <td>0.1818</td>\n",
       "      <td>0.69</td>\n",
       "      <td>0.1045</td>\n",
       "      <td>1</td>\n",
       "      <td>2</td>\n",
       "      <td>3</td>\n",
       "    </tr>\n",
       "    <tr>\n",
       "      <th>4</th>\n",
       "      <td>624</td>\n",
       "      <td>29-01-2011</td>\n",
       "      <td>1</td>\n",
       "      <td>0</td>\n",
       "      <td>1</td>\n",
       "      <td>6</td>\n",
       "      <td>False</td>\n",
       "      <td>6</td>\n",
       "      <td>1</td>\n",
       "      <td>0.16</td>\n",
       "      <td>0.1818</td>\n",
       "      <td>0.64</td>\n",
       "      <td>0.1343</td>\n",
       "      <td>0</td>\n",
       "      <td>2</td>\n",
       "      <td>2</td>\n",
       "    </tr>\n",
       "  </tbody>\n",
       "</table>\n",
       "</div>"
      ],
      "text/plain": [
       "   instant      dteday  season  yr  mnth  hr  holiday  weekday  weathersit  \\\n",
       "0      620  29-01-2011       1   0     1   1    False        6           1   \n",
       "1      621  29-01-2011       1   0     1   2    False        6           1   \n",
       "2      622  29-01-2011       1   0     1   3    False        6           1   \n",
       "3      623  29-01-2011       1   0     1   4    False        6           1   \n",
       "4      624  29-01-2011       1   0     1   6    False        6           1   \n",
       "\n",
       "   temp   atemp   hum  windspeed  casual  registered  cnt  \n",
       "0  0.22  0.2273  0.64     0.1940       0          20   20  \n",
       "1  0.22  0.2273  0.64     0.1642       0          15   15  \n",
       "2  0.20  0.2121  0.64     0.1343       3           5    8  \n",
       "3  0.16  0.1818  0.69     0.1045       1           2    3  \n",
       "4  0.16  0.1818  0.64     0.1343       0           2    2  "
      ]
     },
     "execution_count": 20,
     "metadata": {},
     "output_type": "execute_result"
    }
   ],
   "source": [
    "dataset_3.head()"
   ]
  },
  {
   "cell_type": "markdown",
   "metadata": {
    "id": "lyBm_6Ajba0_"
   },
   "source": [
    "### **Bottom 15 rows of the dataset**\n",
    "\n",
    "- Just like the `head` function, the `tail` function is used to see the bottom rows of the dataset\n",
    "\n",
    "- If you want to see the specific number of rows, then specify the number inside the **`bracket ()`** as shown below"
   ]
  },
  {
   "cell_type": "code",
   "execution_count": null,
   "metadata": {
    "colab": {
     "base_uri": "https://localhost:8080/",
     "height": 514
    },
    "executionInfo": {
     "elapsed": 4305,
     "status": "ok",
     "timestamp": 1620798408636,
     "user": {
      "displayName": "Nishant Singh",
      "photoUrl": "https://lh3.googleusercontent.com/a-/AOh14GjUQCrk-faKBPHBYQ7dZiV7cSiHeQ0NWSVihFrxwA=s64",
      "userId": "15030016934842181675"
     },
     "user_tz": -330
    },
    "id": "xzG2aME_ba1A",
    "outputId": "d5eabc17-d95f-4cb8-cf32-4066d11f5d49"
   },
   "outputs": [
    {
     "data": {
      "text/html": [
       "<div>\n",
       "<style scoped>\n",
       "    .dataframe tbody tr th:only-of-type {\n",
       "        vertical-align: middle;\n",
       "    }\n",
       "\n",
       "    .dataframe tbody tr th {\n",
       "        vertical-align: top;\n",
       "    }\n",
       "\n",
       "    .dataframe thead th {\n",
       "        text-align: right;\n",
       "    }\n",
       "</style>\n",
       "<table border=\"1\" class=\"dataframe\">\n",
       "  <thead>\n",
       "    <tr style=\"text-align: right;\">\n",
       "      <th></th>\n",
       "      <th>instant</th>\n",
       "      <th>dteday</th>\n",
       "      <th>season</th>\n",
       "      <th>yr</th>\n",
       "      <th>mnth</th>\n",
       "      <th>hr</th>\n",
       "      <th>holiday</th>\n",
       "      <th>weekday</th>\n",
       "      <th>weathersit</th>\n",
       "      <th>temp</th>\n",
       "      <th>atemp</th>\n",
       "      <th>hum</th>\n",
       "      <th>windspeed</th>\n",
       "      <th>casual</th>\n",
       "      <th>registered</th>\n",
       "      <th>cnt</th>\n",
       "    </tr>\n",
       "  </thead>\n",
       "  <tbody>\n",
       "    <tr>\n",
       "      <th>375</th>\n",
       "      <td>995</td>\n",
       "      <td>14-02-2011</td>\n",
       "      <td>1</td>\n",
       "      <td>0</td>\n",
       "      <td>2</td>\n",
       "      <td>2</td>\n",
       "      <td>False</td>\n",
       "      <td>1</td>\n",
       "      <td>1</td>\n",
       "      <td>0.36</td>\n",
       "      <td>0.3333</td>\n",
       "      <td>0.40</td>\n",
       "      <td>0.2985</td>\n",
       "      <td>0</td>\n",
       "      <td>2</td>\n",
       "      <td>2</td>\n",
       "    </tr>\n",
       "    <tr>\n",
       "      <th>376</th>\n",
       "      <td>996</td>\n",
       "      <td>14-02-2011</td>\n",
       "      <td>1</td>\n",
       "      <td>0</td>\n",
       "      <td>2</td>\n",
       "      <td>3</td>\n",
       "      <td>False</td>\n",
       "      <td>1</td>\n",
       "      <td>1</td>\n",
       "      <td>0.34</td>\n",
       "      <td>0.3182</td>\n",
       "      <td>0.46</td>\n",
       "      <td>0.2239</td>\n",
       "      <td>1</td>\n",
       "      <td>1</td>\n",
       "      <td>2</td>\n",
       "    </tr>\n",
       "    <tr>\n",
       "      <th>377</th>\n",
       "      <td>997</td>\n",
       "      <td>14-02-2011</td>\n",
       "      <td>1</td>\n",
       "      <td>0</td>\n",
       "      <td>2</td>\n",
       "      <td>4</td>\n",
       "      <td>False</td>\n",
       "      <td>1</td>\n",
       "      <td>1</td>\n",
       "      <td>0.32</td>\n",
       "      <td>0.3030</td>\n",
       "      <td>0.53</td>\n",
       "      <td>0.2836</td>\n",
       "      <td>0</td>\n",
       "      <td>2</td>\n",
       "      <td>2</td>\n",
       "    </tr>\n",
       "    <tr>\n",
       "      <th>378</th>\n",
       "      <td>998</td>\n",
       "      <td>14-02-2011</td>\n",
       "      <td>1</td>\n",
       "      <td>0</td>\n",
       "      <td>2</td>\n",
       "      <td>5</td>\n",
       "      <td>False</td>\n",
       "      <td>1</td>\n",
       "      <td>1</td>\n",
       "      <td>0.32</td>\n",
       "      <td>0.3030</td>\n",
       "      <td>0.53</td>\n",
       "      <td>0.2836</td>\n",
       "      <td>0</td>\n",
       "      <td>3</td>\n",
       "      <td>3</td>\n",
       "    </tr>\n",
       "    <tr>\n",
       "      <th>379</th>\n",
       "      <td>999</td>\n",
       "      <td>14-02-2011</td>\n",
       "      <td>1</td>\n",
       "      <td>0</td>\n",
       "      <td>2</td>\n",
       "      <td>6</td>\n",
       "      <td>False</td>\n",
       "      <td>1</td>\n",
       "      <td>1</td>\n",
       "      <td>0.34</td>\n",
       "      <td>0.3030</td>\n",
       "      <td>0.46</td>\n",
       "      <td>0.2985</td>\n",
       "      <td>1</td>\n",
       "      <td>25</td>\n",
       "      <td>26</td>\n",
       "    </tr>\n",
       "    <tr>\n",
       "      <th>380</th>\n",
       "      <td>1000</td>\n",
       "      <td>14-02-2011</td>\n",
       "      <td>1</td>\n",
       "      <td>0</td>\n",
       "      <td>2</td>\n",
       "      <td>7</td>\n",
       "      <td>False</td>\n",
       "      <td>1</td>\n",
       "      <td>1</td>\n",
       "      <td>0.34</td>\n",
       "      <td>0.3030</td>\n",
       "      <td>0.46</td>\n",
       "      <td>0.2985</td>\n",
       "      <td>2</td>\n",
       "      <td>96</td>\n",
       "      <td>98</td>\n",
       "    </tr>\n",
       "    <tr>\n",
       "      <th>381</th>\n",
       "      <td>611</td>\n",
       "      <td>28-01-2011</td>\n",
       "      <td>1</td>\n",
       "      <td>0</td>\n",
       "      <td>1</td>\n",
       "      <td>16</td>\n",
       "      <td>False</td>\n",
       "      <td>5</td>\n",
       "      <td>1</td>\n",
       "      <td>0.22</td>\n",
       "      <td>0.2727</td>\n",
       "      <td>0.80</td>\n",
       "      <td>0.0000</td>\n",
       "      <td>10</td>\n",
       "      <td>70</td>\n",
       "      <td>80</td>\n",
       "    </tr>\n",
       "    <tr>\n",
       "      <th>382</th>\n",
       "      <td>612</td>\n",
       "      <td>28-01-2011</td>\n",
       "      <td>1</td>\n",
       "      <td>0</td>\n",
       "      <td>1</td>\n",
       "      <td>17</td>\n",
       "      <td>False</td>\n",
       "      <td>5</td>\n",
       "      <td>1</td>\n",
       "      <td>0.24</td>\n",
       "      <td>0.2424</td>\n",
       "      <td>0.75</td>\n",
       "      <td>0.1343</td>\n",
       "      <td>2</td>\n",
       "      <td>147</td>\n",
       "      <td>149</td>\n",
       "    </tr>\n",
       "    <tr>\n",
       "      <th>383</th>\n",
       "      <td>613</td>\n",
       "      <td>28-01-2011</td>\n",
       "      <td>1</td>\n",
       "      <td>0</td>\n",
       "      <td>1</td>\n",
       "      <td>18</td>\n",
       "      <td>False</td>\n",
       "      <td>5</td>\n",
       "      <td>1</td>\n",
       "      <td>0.24</td>\n",
       "      <td>0.2273</td>\n",
       "      <td>0.75</td>\n",
       "      <td>0.1940</td>\n",
       "      <td>2</td>\n",
       "      <td>107</td>\n",
       "      <td>109</td>\n",
       "    </tr>\n",
       "    <tr>\n",
       "      <th>384</th>\n",
       "      <td>614</td>\n",
       "      <td>28-01-2011</td>\n",
       "      <td>1</td>\n",
       "      <td>0</td>\n",
       "      <td>1</td>\n",
       "      <td>19</td>\n",
       "      <td>False</td>\n",
       "      <td>5</td>\n",
       "      <td>2</td>\n",
       "      <td>0.24</td>\n",
       "      <td>0.2424</td>\n",
       "      <td>0.75</td>\n",
       "      <td>0.1343</td>\n",
       "      <td>5</td>\n",
       "      <td>84</td>\n",
       "      <td>89</td>\n",
       "    </tr>\n",
       "    <tr>\n",
       "      <th>385</th>\n",
       "      <td>615</td>\n",
       "      <td>28-01-2011</td>\n",
       "      <td>1</td>\n",
       "      <td>0</td>\n",
       "      <td>1</td>\n",
       "      <td>20</td>\n",
       "      <td>False</td>\n",
       "      <td>5</td>\n",
       "      <td>2</td>\n",
       "      <td>0.24</td>\n",
       "      <td>0.2273</td>\n",
       "      <td>0.70</td>\n",
       "      <td>0.1940</td>\n",
       "      <td>1</td>\n",
       "      <td>61</td>\n",
       "      <td>62</td>\n",
       "    </tr>\n",
       "    <tr>\n",
       "      <th>386</th>\n",
       "      <td>616</td>\n",
       "      <td>28-01-2011</td>\n",
       "      <td>1</td>\n",
       "      <td>0</td>\n",
       "      <td>1</td>\n",
       "      <td>21</td>\n",
       "      <td>False</td>\n",
       "      <td>5</td>\n",
       "      <td>2</td>\n",
       "      <td>0.22</td>\n",
       "      <td>0.2273</td>\n",
       "      <td>0.75</td>\n",
       "      <td>0.1343</td>\n",
       "      <td>1</td>\n",
       "      <td>57</td>\n",
       "      <td>58</td>\n",
       "    </tr>\n",
       "    <tr>\n",
       "      <th>387</th>\n",
       "      <td>617</td>\n",
       "      <td>28-01-2011</td>\n",
       "      <td>1</td>\n",
       "      <td>0</td>\n",
       "      <td>1</td>\n",
       "      <td>22</td>\n",
       "      <td>False</td>\n",
       "      <td>5</td>\n",
       "      <td>1</td>\n",
       "      <td>0.24</td>\n",
       "      <td>0.2121</td>\n",
       "      <td>0.65</td>\n",
       "      <td>0.3582</td>\n",
       "      <td>0</td>\n",
       "      <td>26</td>\n",
       "      <td>26</td>\n",
       "    </tr>\n",
       "    <tr>\n",
       "      <th>388</th>\n",
       "      <td>618</td>\n",
       "      <td>28-01-2011</td>\n",
       "      <td>1</td>\n",
       "      <td>0</td>\n",
       "      <td>1</td>\n",
       "      <td>23</td>\n",
       "      <td>False</td>\n",
       "      <td>5</td>\n",
       "      <td>1</td>\n",
       "      <td>0.24</td>\n",
       "      <td>0.2273</td>\n",
       "      <td>0.60</td>\n",
       "      <td>0.2239</td>\n",
       "      <td>1</td>\n",
       "      <td>22</td>\n",
       "      <td>23</td>\n",
       "    </tr>\n",
       "    <tr>\n",
       "      <th>389</th>\n",
       "      <td>619</td>\n",
       "      <td>29-01-2011</td>\n",
       "      <td>1</td>\n",
       "      <td>0</td>\n",
       "      <td>1</td>\n",
       "      <td>0</td>\n",
       "      <td>False</td>\n",
       "      <td>6</td>\n",
       "      <td>1</td>\n",
       "      <td>0.22</td>\n",
       "      <td>0.1970</td>\n",
       "      <td>0.64</td>\n",
       "      <td>0.3582</td>\n",
       "      <td>2</td>\n",
       "      <td>26</td>\n",
       "      <td>28</td>\n",
       "    </tr>\n",
       "  </tbody>\n",
       "</table>\n",
       "</div>"
      ],
      "text/plain": [
       "     instant      dteday  season  yr  mnth  hr  holiday  weekday  weathersit  \\\n",
       "375      995  14-02-2011       1   0     2   2    False        1           1   \n",
       "376      996  14-02-2011       1   0     2   3    False        1           1   \n",
       "377      997  14-02-2011       1   0     2   4    False        1           1   \n",
       "378      998  14-02-2011       1   0     2   5    False        1           1   \n",
       "379      999  14-02-2011       1   0     2   6    False        1           1   \n",
       "380     1000  14-02-2011       1   0     2   7    False        1           1   \n",
       "381      611  28-01-2011       1   0     1  16    False        5           1   \n",
       "382      612  28-01-2011       1   0     1  17    False        5           1   \n",
       "383      613  28-01-2011       1   0     1  18    False        5           1   \n",
       "384      614  28-01-2011       1   0     1  19    False        5           2   \n",
       "385      615  28-01-2011       1   0     1  20    False        5           2   \n",
       "386      616  28-01-2011       1   0     1  21    False        5           2   \n",
       "387      617  28-01-2011       1   0     1  22    False        5           1   \n",
       "388      618  28-01-2011       1   0     1  23    False        5           1   \n",
       "389      619  29-01-2011       1   0     1   0    False        6           1   \n",
       "\n",
       "     temp   atemp   hum  windspeed  casual  registered  cnt  \n",
       "375  0.36  0.3333  0.40     0.2985       0           2    2  \n",
       "376  0.34  0.3182  0.46     0.2239       1           1    2  \n",
       "377  0.32  0.3030  0.53     0.2836       0           2    2  \n",
       "378  0.32  0.3030  0.53     0.2836       0           3    3  \n",
       "379  0.34  0.3030  0.46     0.2985       1          25   26  \n",
       "380  0.34  0.3030  0.46     0.2985       2          96   98  \n",
       "381  0.22  0.2727  0.80     0.0000      10          70   80  \n",
       "382  0.24  0.2424  0.75     0.1343       2         147  149  \n",
       "383  0.24  0.2273  0.75     0.1940       2         107  109  \n",
       "384  0.24  0.2424  0.75     0.1343       5          84   89  \n",
       "385  0.24  0.2273  0.70     0.1940       1          61   62  \n",
       "386  0.22  0.2273  0.75     0.1343       1          57   58  \n",
       "387  0.24  0.2121  0.65     0.3582       0          26   26  \n",
       "388  0.24  0.2273  0.60     0.2239       1          22   23  \n",
       "389  0.22  0.1970  0.64     0.3582       2          26   28  "
      ]
     },
     "execution_count": 21,
     "metadata": {},
     "output_type": "execute_result"
    }
   ],
   "source": [
    "dataset_3.tail(15)"
   ]
  },
  {
   "cell_type": "markdown",
   "metadata": {
    "id": "xQ_6p0LEba1C"
   },
   "source": [
    "#### **Observation:**\n",
    "\n",
    "- The bottom 15 rows of the dataset_3 is shown above, as we mention 15 inside the bracket ()\n",
    "\n",
    "- Here, we can see that the rows are not sorted well according to the `instant` number. Let's resolve it."
   ]
  },
  {
   "cell_type": "markdown",
   "metadata": {
    "id": "sJGaNYyUba1D"
   },
   "source": [
    "### **Sort values of a column**\n",
    "\n",
    "- To sort the values per our will, we use the **`sort_values`** function and in the square brackets, we specify the name of the column by which we want to sort, as shown below"
   ]
  },
  {
   "cell_type": "code",
   "execution_count": null,
   "metadata": {
    "id": "iZODCoGJba1D"
   },
   "outputs": [],
   "source": [
    "dataset_3 = dataset_3.sort_values(by=['instant'])"
   ]
  },
  {
   "cell_type": "markdown",
   "metadata": {
    "id": "rVVymIhvba1F"
   },
   "source": [
    "- Let's check head and tail to verify the sort operation"
   ]
  },
  {
   "cell_type": "code",
   "execution_count": null,
   "metadata": {
    "colab": {
     "base_uri": "https://localhost:8080/",
     "height": 204
    },
    "executionInfo": {
     "elapsed": 4288,
     "status": "ok",
     "timestamp": 1620798408643,
     "user": {
      "displayName": "Nishant Singh",
      "photoUrl": "https://lh3.googleusercontent.com/a-/AOh14GjUQCrk-faKBPHBYQ7dZiV7cSiHeQ0NWSVihFrxwA=s64",
      "userId": "15030016934842181675"
     },
     "user_tz": -330
    },
    "id": "hyR9lTyuba1G",
    "outputId": "a317b5f2-3597-4890-93ce-0997a45be244"
   },
   "outputs": [
    {
     "data": {
      "text/html": [
       "<div>\n",
       "<style scoped>\n",
       "    .dataframe tbody tr th:only-of-type {\n",
       "        vertical-align: middle;\n",
       "    }\n",
       "\n",
       "    .dataframe tbody tr th {\n",
       "        vertical-align: top;\n",
       "    }\n",
       "\n",
       "    .dataframe thead th {\n",
       "        text-align: right;\n",
       "    }\n",
       "</style>\n",
       "<table border=\"1\" class=\"dataframe\">\n",
       "  <thead>\n",
       "    <tr style=\"text-align: right;\">\n",
       "      <th></th>\n",
       "      <th>instant</th>\n",
       "      <th>dteday</th>\n",
       "      <th>season</th>\n",
       "      <th>yr</th>\n",
       "      <th>mnth</th>\n",
       "      <th>hr</th>\n",
       "      <th>holiday</th>\n",
       "      <th>weekday</th>\n",
       "      <th>weathersit</th>\n",
       "      <th>temp</th>\n",
       "      <th>atemp</th>\n",
       "      <th>hum</th>\n",
       "      <th>windspeed</th>\n",
       "      <th>casual</th>\n",
       "      <th>registered</th>\n",
       "      <th>cnt</th>\n",
       "    </tr>\n",
       "  </thead>\n",
       "  <tbody>\n",
       "    <tr>\n",
       "      <th>381</th>\n",
       "      <td>611</td>\n",
       "      <td>28-01-2011</td>\n",
       "      <td>1</td>\n",
       "      <td>0</td>\n",
       "      <td>1</td>\n",
       "      <td>16</td>\n",
       "      <td>False</td>\n",
       "      <td>5</td>\n",
       "      <td>1</td>\n",
       "      <td>0.22</td>\n",
       "      <td>0.2727</td>\n",
       "      <td>0.80</td>\n",
       "      <td>0.0000</td>\n",
       "      <td>10</td>\n",
       "      <td>70</td>\n",
       "      <td>80</td>\n",
       "    </tr>\n",
       "    <tr>\n",
       "      <th>382</th>\n",
       "      <td>612</td>\n",
       "      <td>28-01-2011</td>\n",
       "      <td>1</td>\n",
       "      <td>0</td>\n",
       "      <td>1</td>\n",
       "      <td>17</td>\n",
       "      <td>False</td>\n",
       "      <td>5</td>\n",
       "      <td>1</td>\n",
       "      <td>0.24</td>\n",
       "      <td>0.2424</td>\n",
       "      <td>0.75</td>\n",
       "      <td>0.1343</td>\n",
       "      <td>2</td>\n",
       "      <td>147</td>\n",
       "      <td>149</td>\n",
       "    </tr>\n",
       "    <tr>\n",
       "      <th>383</th>\n",
       "      <td>613</td>\n",
       "      <td>28-01-2011</td>\n",
       "      <td>1</td>\n",
       "      <td>0</td>\n",
       "      <td>1</td>\n",
       "      <td>18</td>\n",
       "      <td>False</td>\n",
       "      <td>5</td>\n",
       "      <td>1</td>\n",
       "      <td>0.24</td>\n",
       "      <td>0.2273</td>\n",
       "      <td>0.75</td>\n",
       "      <td>0.1940</td>\n",
       "      <td>2</td>\n",
       "      <td>107</td>\n",
       "      <td>109</td>\n",
       "    </tr>\n",
       "    <tr>\n",
       "      <th>384</th>\n",
       "      <td>614</td>\n",
       "      <td>28-01-2011</td>\n",
       "      <td>1</td>\n",
       "      <td>0</td>\n",
       "      <td>1</td>\n",
       "      <td>19</td>\n",
       "      <td>False</td>\n",
       "      <td>5</td>\n",
       "      <td>2</td>\n",
       "      <td>0.24</td>\n",
       "      <td>0.2424</td>\n",
       "      <td>0.75</td>\n",
       "      <td>0.1343</td>\n",
       "      <td>5</td>\n",
       "      <td>84</td>\n",
       "      <td>89</td>\n",
       "    </tr>\n",
       "    <tr>\n",
       "      <th>385</th>\n",
       "      <td>615</td>\n",
       "      <td>28-01-2011</td>\n",
       "      <td>1</td>\n",
       "      <td>0</td>\n",
       "      <td>1</td>\n",
       "      <td>20</td>\n",
       "      <td>False</td>\n",
       "      <td>5</td>\n",
       "      <td>2</td>\n",
       "      <td>0.24</td>\n",
       "      <td>0.2273</td>\n",
       "      <td>0.70</td>\n",
       "      <td>0.1940</td>\n",
       "      <td>1</td>\n",
       "      <td>61</td>\n",
       "      <td>62</td>\n",
       "    </tr>\n",
       "  </tbody>\n",
       "</table>\n",
       "</div>"
      ],
      "text/plain": [
       "     instant      dteday  season  yr  mnth  hr  holiday  weekday  weathersit  \\\n",
       "381      611  28-01-2011       1   0     1  16    False        5           1   \n",
       "382      612  28-01-2011       1   0     1  17    False        5           1   \n",
       "383      613  28-01-2011       1   0     1  18    False        5           1   \n",
       "384      614  28-01-2011       1   0     1  19    False        5           2   \n",
       "385      615  28-01-2011       1   0     1  20    False        5           2   \n",
       "\n",
       "     temp   atemp   hum  windspeed  casual  registered  cnt  \n",
       "381  0.22  0.2727  0.80     0.0000      10          70   80  \n",
       "382  0.24  0.2424  0.75     0.1343       2         147  149  \n",
       "383  0.24  0.2273  0.75     0.1940       2         107  109  \n",
       "384  0.24  0.2424  0.75     0.1343       5          84   89  \n",
       "385  0.24  0.2273  0.70     0.1940       1          61   62  "
      ]
     },
     "execution_count": 23,
     "metadata": {},
     "output_type": "execute_result"
    }
   ],
   "source": [
    "dataset_3.head()"
   ]
  },
  {
   "cell_type": "code",
   "execution_count": null,
   "metadata": {
    "colab": {
     "base_uri": "https://localhost:8080/",
     "height": 204
    },
    "executionInfo": {
     "elapsed": 4273,
     "status": "ok",
     "timestamp": 1620798408645,
     "user": {
      "displayName": "Nishant Singh",
      "photoUrl": "https://lh3.googleusercontent.com/a-/AOh14GjUQCrk-faKBPHBYQ7dZiV7cSiHeQ0NWSVihFrxwA=s64",
      "userId": "15030016934842181675"
     },
     "user_tz": -330
    },
    "id": "4xXp8xPVba1J",
    "outputId": "15a34d6f-7eae-4e19-96e5-6d9a4ac427e2"
   },
   "outputs": [
    {
     "data": {
      "text/html": [
       "<div>\n",
       "<style scoped>\n",
       "    .dataframe tbody tr th:only-of-type {\n",
       "        vertical-align: middle;\n",
       "    }\n",
       "\n",
       "    .dataframe tbody tr th {\n",
       "        vertical-align: top;\n",
       "    }\n",
       "\n",
       "    .dataframe thead th {\n",
       "        text-align: right;\n",
       "    }\n",
       "</style>\n",
       "<table border=\"1\" class=\"dataframe\">\n",
       "  <thead>\n",
       "    <tr style=\"text-align: right;\">\n",
       "      <th></th>\n",
       "      <th>instant</th>\n",
       "      <th>dteday</th>\n",
       "      <th>season</th>\n",
       "      <th>yr</th>\n",
       "      <th>mnth</th>\n",
       "      <th>hr</th>\n",
       "      <th>holiday</th>\n",
       "      <th>weekday</th>\n",
       "      <th>weathersit</th>\n",
       "      <th>temp</th>\n",
       "      <th>atemp</th>\n",
       "      <th>hum</th>\n",
       "      <th>windspeed</th>\n",
       "      <th>casual</th>\n",
       "      <th>registered</th>\n",
       "      <th>cnt</th>\n",
       "    </tr>\n",
       "  </thead>\n",
       "  <tbody>\n",
       "    <tr>\n",
       "      <th>376</th>\n",
       "      <td>996</td>\n",
       "      <td>14-02-2011</td>\n",
       "      <td>1</td>\n",
       "      <td>0</td>\n",
       "      <td>2</td>\n",
       "      <td>3</td>\n",
       "      <td>False</td>\n",
       "      <td>1</td>\n",
       "      <td>1</td>\n",
       "      <td>0.34</td>\n",
       "      <td>0.3182</td>\n",
       "      <td>0.46</td>\n",
       "      <td>0.2239</td>\n",
       "      <td>1</td>\n",
       "      <td>1</td>\n",
       "      <td>2</td>\n",
       "    </tr>\n",
       "    <tr>\n",
       "      <th>377</th>\n",
       "      <td>997</td>\n",
       "      <td>14-02-2011</td>\n",
       "      <td>1</td>\n",
       "      <td>0</td>\n",
       "      <td>2</td>\n",
       "      <td>4</td>\n",
       "      <td>False</td>\n",
       "      <td>1</td>\n",
       "      <td>1</td>\n",
       "      <td>0.32</td>\n",
       "      <td>0.3030</td>\n",
       "      <td>0.53</td>\n",
       "      <td>0.2836</td>\n",
       "      <td>0</td>\n",
       "      <td>2</td>\n",
       "      <td>2</td>\n",
       "    </tr>\n",
       "    <tr>\n",
       "      <th>378</th>\n",
       "      <td>998</td>\n",
       "      <td>14-02-2011</td>\n",
       "      <td>1</td>\n",
       "      <td>0</td>\n",
       "      <td>2</td>\n",
       "      <td>5</td>\n",
       "      <td>False</td>\n",
       "      <td>1</td>\n",
       "      <td>1</td>\n",
       "      <td>0.32</td>\n",
       "      <td>0.3030</td>\n",
       "      <td>0.53</td>\n",
       "      <td>0.2836</td>\n",
       "      <td>0</td>\n",
       "      <td>3</td>\n",
       "      <td>3</td>\n",
       "    </tr>\n",
       "    <tr>\n",
       "      <th>379</th>\n",
       "      <td>999</td>\n",
       "      <td>14-02-2011</td>\n",
       "      <td>1</td>\n",
       "      <td>0</td>\n",
       "      <td>2</td>\n",
       "      <td>6</td>\n",
       "      <td>False</td>\n",
       "      <td>1</td>\n",
       "      <td>1</td>\n",
       "      <td>0.34</td>\n",
       "      <td>0.3030</td>\n",
       "      <td>0.46</td>\n",
       "      <td>0.2985</td>\n",
       "      <td>1</td>\n",
       "      <td>25</td>\n",
       "      <td>26</td>\n",
       "    </tr>\n",
       "    <tr>\n",
       "      <th>380</th>\n",
       "      <td>1000</td>\n",
       "      <td>14-02-2011</td>\n",
       "      <td>1</td>\n",
       "      <td>0</td>\n",
       "      <td>2</td>\n",
       "      <td>7</td>\n",
       "      <td>False</td>\n",
       "      <td>1</td>\n",
       "      <td>1</td>\n",
       "      <td>0.34</td>\n",
       "      <td>0.3030</td>\n",
       "      <td>0.46</td>\n",
       "      <td>0.2985</td>\n",
       "      <td>2</td>\n",
       "      <td>96</td>\n",
       "      <td>98</td>\n",
       "    </tr>\n",
       "  </tbody>\n",
       "</table>\n",
       "</div>"
      ],
      "text/plain": [
       "     instant      dteday  season  yr  mnth  hr  holiday  weekday  weathersit  \\\n",
       "376      996  14-02-2011       1   0     2   3    False        1           1   \n",
       "377      997  14-02-2011       1   0     2   4    False        1           1   \n",
       "378      998  14-02-2011       1   0     2   5    False        1           1   \n",
       "379      999  14-02-2011       1   0     2   6    False        1           1   \n",
       "380     1000  14-02-2011       1   0     2   7    False        1           1   \n",
       "\n",
       "     temp   atemp   hum  windspeed  casual  registered  cnt  \n",
       "376  0.34  0.3182  0.46     0.2239       1           1    2  \n",
       "377  0.32  0.3030  0.53     0.2836       0           2    2  \n",
       "378  0.32  0.3030  0.53     0.2836       0           3    3  \n",
       "379  0.34  0.3030  0.46     0.2985       1          25   26  \n",
       "380  0.34  0.3030  0.46     0.2985       2          96   98  "
      ]
     },
     "execution_count": 24,
     "metadata": {},
     "output_type": "execute_result"
    }
   ],
   "source": [
    "dataset_3.tail()"
   ]
  },
  {
   "cell_type": "markdown",
   "metadata": {
    "id": "q_V8CqbVba1M"
   },
   "source": [
    "### **Concatenate the `combine_data` with `dataset_3`**\n",
    "\n",
    "- Let's concatenate both DataFrame combined_data and dataset_3 into a single DataFrame using the **`concat`** function, as shown below\n",
    "- Store the final DataFrame inside the `final_data` variable"
   ]
  },
  {
   "cell_type": "code",
   "execution_count": null,
   "metadata": {
    "id": "uj7IIz9vba1M"
   },
   "outputs": [],
   "source": [
    "final_data = pd.concat([combined_data, dataset_3])"
   ]
  },
  {
   "cell_type": "markdown",
   "metadata": {
    "id": "SuT7zBzYba1P"
   },
   "source": [
    "### **Check the shape of the new dataset**"
   ]
  },
  {
   "cell_type": "code",
   "execution_count": null,
   "metadata": {
    "colab": {
     "base_uri": "https://localhost:8080/"
    },
    "executionInfo": {
     "elapsed": 4256,
     "status": "ok",
     "timestamp": 1620798408647,
     "user": {
      "displayName": "Nishant Singh",
      "photoUrl": "https://lh3.googleusercontent.com/a-/AOh14GjUQCrk-faKBPHBYQ7dZiV7cSiHeQ0NWSVihFrxwA=s64",
      "userId": "15030016934842181675"
     },
     "user_tz": -330
    },
    "id": "UYiwQ4NHba1P",
    "outputId": "c30cc9c2-62ce-44c1-f26a-0ad6cb95cbf4"
   },
   "outputs": [
    {
     "data": {
      "text/plain": [
       "(1000, 16)"
      ]
     },
     "execution_count": 26,
     "metadata": {},
     "output_type": "execute_result"
    }
   ],
   "source": [
    "final_data.shape"
   ]
  },
  {
   "cell_type": "markdown",
   "metadata": {
    "id": "HW53pPz6MNzv"
   },
   "source": [
    "#### **Observation:**\n",
    "\n",
    "- Now, the `final_data` has 1000 rows and 16 columns"
   ]
  },
  {
   "cell_type": "markdown",
   "metadata": {
    "id": "k4jbPBz3MNzv"
   },
   "source": [
    "### **Let's diplay the columns of the `final_data` DataFrame**"
   ]
  },
  {
   "cell_type": "code",
   "execution_count": null,
   "metadata": {
    "id": "_kCp56wLba1R"
   },
   "outputs": [],
   "source": [
    "final_data = final_data.rename(columns={'dteday': 'date', 'yr': 'year', 'mnth':'month','hr':'hour',\n",
    "                                        'weathersit':'weather', 'hum':'humidity', 'cnt':'count'})"
   ]
  },
  {
   "cell_type": "code",
   "execution_count": null,
   "metadata": {
    "colab": {
     "base_uri": "https://localhost:8080/",
     "height": 204
    },
    "executionInfo": {
     "elapsed": 5382,
     "status": "ok",
     "timestamp": 1620798409794,
     "user": {
      "displayName": "Nishant Singh",
      "photoUrl": "https://lh3.googleusercontent.com/a-/AOh14GjUQCrk-faKBPHBYQ7dZiV7cSiHeQ0NWSVihFrxwA=s64",
      "userId": "15030016934842181675"
     },
     "user_tz": -330
    },
    "id": "xOeSnL1hba1U",
    "outputId": "06aec46d-360c-4702-ae31-0f3eac853060"
   },
   "outputs": [
    {
     "data": {
      "text/html": [
       "<div>\n",
       "<style scoped>\n",
       "    .dataframe tbody tr th:only-of-type {\n",
       "        vertical-align: middle;\n",
       "    }\n",
       "\n",
       "    .dataframe tbody tr th {\n",
       "        vertical-align: top;\n",
       "    }\n",
       "\n",
       "    .dataframe thead th {\n",
       "        text-align: right;\n",
       "    }\n",
       "</style>\n",
       "<table border=\"1\" class=\"dataframe\">\n",
       "  <thead>\n",
       "    <tr style=\"text-align: right;\">\n",
       "      <th></th>\n",
       "      <th>instant</th>\n",
       "      <th>date</th>\n",
       "      <th>season</th>\n",
       "      <th>year</th>\n",
       "      <th>month</th>\n",
       "      <th>hour</th>\n",
       "      <th>holiday</th>\n",
       "      <th>weekday</th>\n",
       "      <th>weather</th>\n",
       "      <th>temp</th>\n",
       "      <th>atemp</th>\n",
       "      <th>humidity</th>\n",
       "      <th>windspeed</th>\n",
       "      <th>casual</th>\n",
       "      <th>registered</th>\n",
       "      <th>count</th>\n",
       "    </tr>\n",
       "  </thead>\n",
       "  <tbody>\n",
       "    <tr>\n",
       "      <th>0</th>\n",
       "      <td>1</td>\n",
       "      <td>01-01-2011</td>\n",
       "      <td>1</td>\n",
       "      <td>0</td>\n",
       "      <td>1</td>\n",
       "      <td>0</td>\n",
       "      <td>False</td>\n",
       "      <td>6</td>\n",
       "      <td>1</td>\n",
       "      <td>0.24</td>\n",
       "      <td>0.2879</td>\n",
       "      <td>0.81</td>\n",
       "      <td>0.0</td>\n",
       "      <td>3</td>\n",
       "      <td>13</td>\n",
       "      <td>16</td>\n",
       "    </tr>\n",
       "    <tr>\n",
       "      <th>1</th>\n",
       "      <td>2</td>\n",
       "      <td>01-01-2011</td>\n",
       "      <td>1</td>\n",
       "      <td>0</td>\n",
       "      <td>1</td>\n",
       "      <td>1</td>\n",
       "      <td>False</td>\n",
       "      <td>6</td>\n",
       "      <td>1</td>\n",
       "      <td>0.22</td>\n",
       "      <td>0.2727</td>\n",
       "      <td>0.80</td>\n",
       "      <td>0.0</td>\n",
       "      <td>8</td>\n",
       "      <td>32</td>\n",
       "      <td>40</td>\n",
       "    </tr>\n",
       "    <tr>\n",
       "      <th>2</th>\n",
       "      <td>3</td>\n",
       "      <td>01-01-2011</td>\n",
       "      <td>1</td>\n",
       "      <td>0</td>\n",
       "      <td>1</td>\n",
       "      <td>2</td>\n",
       "      <td>False</td>\n",
       "      <td>6</td>\n",
       "      <td>1</td>\n",
       "      <td>0.22</td>\n",
       "      <td>0.2727</td>\n",
       "      <td>0.80</td>\n",
       "      <td>0.0</td>\n",
       "      <td>5</td>\n",
       "      <td>27</td>\n",
       "      <td>32</td>\n",
       "    </tr>\n",
       "    <tr>\n",
       "      <th>3</th>\n",
       "      <td>4</td>\n",
       "      <td>01-01-2011</td>\n",
       "      <td>1</td>\n",
       "      <td>0</td>\n",
       "      <td>1</td>\n",
       "      <td>3</td>\n",
       "      <td>False</td>\n",
       "      <td>6</td>\n",
       "      <td>1</td>\n",
       "      <td>0.24</td>\n",
       "      <td>0.2879</td>\n",
       "      <td>0.75</td>\n",
       "      <td>0.0</td>\n",
       "      <td>3</td>\n",
       "      <td>10</td>\n",
       "      <td>13</td>\n",
       "    </tr>\n",
       "    <tr>\n",
       "      <th>4</th>\n",
       "      <td>5</td>\n",
       "      <td>01-01-2011</td>\n",
       "      <td>1</td>\n",
       "      <td>0</td>\n",
       "      <td>1</td>\n",
       "      <td>4</td>\n",
       "      <td>False</td>\n",
       "      <td>6</td>\n",
       "      <td>1</td>\n",
       "      <td>0.24</td>\n",
       "      <td>0.2879</td>\n",
       "      <td>0.75</td>\n",
       "      <td>0.0</td>\n",
       "      <td>0</td>\n",
       "      <td>1</td>\n",
       "      <td>1</td>\n",
       "    </tr>\n",
       "  </tbody>\n",
       "</table>\n",
       "</div>"
      ],
      "text/plain": [
       "   instant        date  season  year  month  hour  holiday  weekday  weather  \\\n",
       "0        1  01-01-2011       1     0      1     0    False        6        1   \n",
       "1        2  01-01-2011       1     0      1     1    False        6        1   \n",
       "2        3  01-01-2011       1     0      1     2    False        6        1   \n",
       "3        4  01-01-2011       1     0      1     3    False        6        1   \n",
       "4        5  01-01-2011       1     0      1     4    False        6        1   \n",
       "\n",
       "   temp   atemp  humidity  windspeed  casual  registered  count  \n",
       "0  0.24  0.2879      0.81        0.0       3          13     16  \n",
       "1  0.22  0.2727      0.80        0.0       8          32     40  \n",
       "2  0.22  0.2727      0.80        0.0       5          27     32  \n",
       "3  0.24  0.2879      0.75        0.0       3          10     13  \n",
       "4  0.24  0.2879      0.75        0.0       0           1      1  "
      ]
     },
     "execution_count": 28,
     "metadata": {},
     "output_type": "execute_result"
    }
   ],
   "source": [
    "final_data.head()"
   ]
  },
  {
   "cell_type": "markdown",
   "metadata": {
    "id": "e0GhUyRxba1X"
   },
   "source": [
    "### **Data types of different column values**"
   ]
  },
  {
   "cell_type": "code",
   "execution_count": null,
   "metadata": {
    "colab": {
     "base_uri": "https://localhost:8080/"
    },
    "executionInfo": {
     "elapsed": 5369,
     "status": "ok",
     "timestamp": 1620798409796,
     "user": {
      "displayName": "Nishant Singh",
      "photoUrl": "https://lh3.googleusercontent.com/a-/AOh14GjUQCrk-faKBPHBYQ7dZiV7cSiHeQ0NWSVihFrxwA=s64",
      "userId": "15030016934842181675"
     },
     "user_tz": -330
    },
    "id": "QK4B8R5Dba1Y",
    "outputId": "5cd415c9-999e-4b0b-e0a9-f6af9adf23d7"
   },
   "outputs": [
    {
     "data": {
      "text/plain": [
       "instant         int64\n",
       "date           object\n",
       "season          int64\n",
       "year            int64\n",
       "month           int64\n",
       "hour            int64\n",
       "holiday          bool\n",
       "weekday         int64\n",
       "weather         int64\n",
       "temp          float64\n",
       "atemp         float64\n",
       "humidity      float64\n",
       "windspeed     float64\n",
       "casual          int64\n",
       "registered      int64\n",
       "count           int64\n",
       "dtype: object"
      ]
     },
     "execution_count": 29,
     "metadata": {},
     "output_type": "execute_result"
    }
   ],
   "source": [
    "final_data.dtypes"
   ]
  },
  {
   "cell_type": "markdown",
   "metadata": {
    "id": "SvFnzGzlMNzw"
   },
   "source": [
    "#### **Observations:**\n",
    "\n",
    "- We can see that the majority of our data columns are of type int64. They are therefore 64-bit integers. Some of the columns are of the type float64, which implies that they have decimals in them. However, only the date column has an object type, indicating that it contains strings."
   ]
  },
  {
   "cell_type": "markdown",
   "metadata": {
    "id": "LQIt3D1Dba1p"
   },
   "source": [
    "### **Check for null values**\n",
    "\n",
    "- Execute the given command to check the unknown values in the DataFrame\n"
   ]
  },
  {
   "cell_type": "code",
   "execution_count": null,
   "metadata": {
    "colab": {
     "base_uri": "https://localhost:8080/",
     "height": 419
    },
    "executionInfo": {
     "elapsed": 5354,
     "status": "ok",
     "timestamp": 1620798409797,
     "user": {
      "displayName": "Nishant Singh",
      "photoUrl": "https://lh3.googleusercontent.com/a-/AOh14GjUQCrk-faKBPHBYQ7dZiV7cSiHeQ0NWSVihFrxwA=s64",
      "userId": "15030016934842181675"
     },
     "user_tz": -330
    },
    "id": "nusRq4VAba1q",
    "outputId": "9633fa85-1ba5-4f82-b827-7690b24e437f"
   },
   "outputs": [
    {
     "data": {
      "text/html": [
       "<div>\n",
       "<style scoped>\n",
       "    .dataframe tbody tr th:only-of-type {\n",
       "        vertical-align: middle;\n",
       "    }\n",
       "\n",
       "    .dataframe tbody tr th {\n",
       "        vertical-align: top;\n",
       "    }\n",
       "\n",
       "    .dataframe thead th {\n",
       "        text-align: right;\n",
       "    }\n",
       "</style>\n",
       "<table border=\"1\" class=\"dataframe\">\n",
       "  <thead>\n",
       "    <tr style=\"text-align: right;\">\n",
       "      <th></th>\n",
       "      <th>instant</th>\n",
       "      <th>date</th>\n",
       "      <th>season</th>\n",
       "      <th>year</th>\n",
       "      <th>month</th>\n",
       "      <th>hour</th>\n",
       "      <th>holiday</th>\n",
       "      <th>weekday</th>\n",
       "      <th>weather</th>\n",
       "      <th>temp</th>\n",
       "      <th>atemp</th>\n",
       "      <th>humidity</th>\n",
       "      <th>windspeed</th>\n",
       "      <th>casual</th>\n",
       "      <th>registered</th>\n",
       "      <th>count</th>\n",
       "    </tr>\n",
       "  </thead>\n",
       "  <tbody>\n",
       "    <tr>\n",
       "      <th>0</th>\n",
       "      <td>False</td>\n",
       "      <td>False</td>\n",
       "      <td>False</td>\n",
       "      <td>False</td>\n",
       "      <td>False</td>\n",
       "      <td>False</td>\n",
       "      <td>False</td>\n",
       "      <td>False</td>\n",
       "      <td>False</td>\n",
       "      <td>False</td>\n",
       "      <td>False</td>\n",
       "      <td>False</td>\n",
       "      <td>False</td>\n",
       "      <td>False</td>\n",
       "      <td>False</td>\n",
       "      <td>False</td>\n",
       "    </tr>\n",
       "    <tr>\n",
       "      <th>1</th>\n",
       "      <td>False</td>\n",
       "      <td>False</td>\n",
       "      <td>False</td>\n",
       "      <td>False</td>\n",
       "      <td>False</td>\n",
       "      <td>False</td>\n",
       "      <td>False</td>\n",
       "      <td>False</td>\n",
       "      <td>False</td>\n",
       "      <td>False</td>\n",
       "      <td>False</td>\n",
       "      <td>False</td>\n",
       "      <td>False</td>\n",
       "      <td>False</td>\n",
       "      <td>False</td>\n",
       "      <td>False</td>\n",
       "    </tr>\n",
       "    <tr>\n",
       "      <th>2</th>\n",
       "      <td>False</td>\n",
       "      <td>False</td>\n",
       "      <td>False</td>\n",
       "      <td>False</td>\n",
       "      <td>False</td>\n",
       "      <td>False</td>\n",
       "      <td>False</td>\n",
       "      <td>False</td>\n",
       "      <td>False</td>\n",
       "      <td>False</td>\n",
       "      <td>False</td>\n",
       "      <td>False</td>\n",
       "      <td>False</td>\n",
       "      <td>False</td>\n",
       "      <td>False</td>\n",
       "      <td>False</td>\n",
       "    </tr>\n",
       "    <tr>\n",
       "      <th>3</th>\n",
       "      <td>False</td>\n",
       "      <td>False</td>\n",
       "      <td>False</td>\n",
       "      <td>False</td>\n",
       "      <td>False</td>\n",
       "      <td>False</td>\n",
       "      <td>False</td>\n",
       "      <td>False</td>\n",
       "      <td>False</td>\n",
       "      <td>False</td>\n",
       "      <td>False</td>\n",
       "      <td>False</td>\n",
       "      <td>False</td>\n",
       "      <td>False</td>\n",
       "      <td>False</td>\n",
       "      <td>False</td>\n",
       "    </tr>\n",
       "    <tr>\n",
       "      <th>4</th>\n",
       "      <td>False</td>\n",
       "      <td>False</td>\n",
       "      <td>False</td>\n",
       "      <td>False</td>\n",
       "      <td>False</td>\n",
       "      <td>False</td>\n",
       "      <td>False</td>\n",
       "      <td>False</td>\n",
       "      <td>False</td>\n",
       "      <td>False</td>\n",
       "      <td>False</td>\n",
       "      <td>False</td>\n",
       "      <td>False</td>\n",
       "      <td>False</td>\n",
       "      <td>False</td>\n",
       "      <td>False</td>\n",
       "    </tr>\n",
       "    <tr>\n",
       "      <th>...</th>\n",
       "      <td>...</td>\n",
       "      <td>...</td>\n",
       "      <td>...</td>\n",
       "      <td>...</td>\n",
       "      <td>...</td>\n",
       "      <td>...</td>\n",
       "      <td>...</td>\n",
       "      <td>...</td>\n",
       "      <td>...</td>\n",
       "      <td>...</td>\n",
       "      <td>...</td>\n",
       "      <td>...</td>\n",
       "      <td>...</td>\n",
       "      <td>...</td>\n",
       "      <td>...</td>\n",
       "      <td>...</td>\n",
       "    </tr>\n",
       "    <tr>\n",
       "      <th>376</th>\n",
       "      <td>False</td>\n",
       "      <td>False</td>\n",
       "      <td>False</td>\n",
       "      <td>False</td>\n",
       "      <td>False</td>\n",
       "      <td>False</td>\n",
       "      <td>False</td>\n",
       "      <td>False</td>\n",
       "      <td>False</td>\n",
       "      <td>False</td>\n",
       "      <td>False</td>\n",
       "      <td>False</td>\n",
       "      <td>False</td>\n",
       "      <td>False</td>\n",
       "      <td>False</td>\n",
       "      <td>False</td>\n",
       "    </tr>\n",
       "    <tr>\n",
       "      <th>377</th>\n",
       "      <td>False</td>\n",
       "      <td>False</td>\n",
       "      <td>False</td>\n",
       "      <td>False</td>\n",
       "      <td>False</td>\n",
       "      <td>False</td>\n",
       "      <td>False</td>\n",
       "      <td>False</td>\n",
       "      <td>False</td>\n",
       "      <td>False</td>\n",
       "      <td>False</td>\n",
       "      <td>False</td>\n",
       "      <td>False</td>\n",
       "      <td>False</td>\n",
       "      <td>False</td>\n",
       "      <td>False</td>\n",
       "    </tr>\n",
       "    <tr>\n",
       "      <th>378</th>\n",
       "      <td>False</td>\n",
       "      <td>False</td>\n",
       "      <td>False</td>\n",
       "      <td>False</td>\n",
       "      <td>False</td>\n",
       "      <td>False</td>\n",
       "      <td>False</td>\n",
       "      <td>False</td>\n",
       "      <td>False</td>\n",
       "      <td>False</td>\n",
       "      <td>False</td>\n",
       "      <td>False</td>\n",
       "      <td>False</td>\n",
       "      <td>False</td>\n",
       "      <td>False</td>\n",
       "      <td>False</td>\n",
       "    </tr>\n",
       "    <tr>\n",
       "      <th>379</th>\n",
       "      <td>False</td>\n",
       "      <td>False</td>\n",
       "      <td>False</td>\n",
       "      <td>False</td>\n",
       "      <td>False</td>\n",
       "      <td>False</td>\n",
       "      <td>False</td>\n",
       "      <td>False</td>\n",
       "      <td>False</td>\n",
       "      <td>False</td>\n",
       "      <td>False</td>\n",
       "      <td>False</td>\n",
       "      <td>False</td>\n",
       "      <td>False</td>\n",
       "      <td>False</td>\n",
       "      <td>False</td>\n",
       "    </tr>\n",
       "    <tr>\n",
       "      <th>380</th>\n",
       "      <td>False</td>\n",
       "      <td>False</td>\n",
       "      <td>False</td>\n",
       "      <td>False</td>\n",
       "      <td>False</td>\n",
       "      <td>False</td>\n",
       "      <td>False</td>\n",
       "      <td>False</td>\n",
       "      <td>False</td>\n",
       "      <td>False</td>\n",
       "      <td>False</td>\n",
       "      <td>False</td>\n",
       "      <td>False</td>\n",
       "      <td>False</td>\n",
       "      <td>False</td>\n",
       "      <td>False</td>\n",
       "    </tr>\n",
       "  </tbody>\n",
       "</table>\n",
       "<p>1000 rows × 16 columns</p>\n",
       "</div>"
      ],
      "text/plain": [
       "     instant   date  season   year  month   hour  holiday  weekday  weather  \\\n",
       "0      False  False   False  False  False  False    False    False    False   \n",
       "1      False  False   False  False  False  False    False    False    False   \n",
       "2      False  False   False  False  False  False    False    False    False   \n",
       "3      False  False   False  False  False  False    False    False    False   \n",
       "4      False  False   False  False  False  False    False    False    False   \n",
       "..       ...    ...     ...    ...    ...    ...      ...      ...      ...   \n",
       "376    False  False   False  False  False  False    False    False    False   \n",
       "377    False  False   False  False  False  False    False    False    False   \n",
       "378    False  False   False  False  False  False    False    False    False   \n",
       "379    False  False   False  False  False  False    False    False    False   \n",
       "380    False  False   False  False  False  False    False    False    False   \n",
       "\n",
       "      temp  atemp  humidity  windspeed  casual  registered  count  \n",
       "0    False  False     False      False   False       False  False  \n",
       "1    False  False     False      False   False       False  False  \n",
       "2    False  False     False      False   False       False  False  \n",
       "3    False  False     False      False   False       False  False  \n",
       "4    False  False     False      False   False       False  False  \n",
       "..     ...    ...       ...        ...     ...         ...    ...  \n",
       "376  False  False     False      False   False       False  False  \n",
       "377  False  False     False      False   False       False  False  \n",
       "378  False  False     False      False   False       False  False  \n",
       "379  False  False     False      False   False       False  False  \n",
       "380  False  False     False      False   False       False  False  \n",
       "\n",
       "[1000 rows x 16 columns]"
      ]
     },
     "execution_count": 30,
     "metadata": {},
     "output_type": "execute_result"
    }
   ],
   "source": [
    "final_data.isna()"
   ]
  },
  {
   "cell_type": "markdown",
   "metadata": {
    "id": "ieh0xT5Gba1s"
   },
   "source": [
    "#### **Observation:**\n",
    "\n",
    "- The **`isna()`** function returns DataFrame of Boolean values that are True for null values  \n",
    "\n",
    "- In a huge dataset, the code given above is not going to help\n",
    "\n",
    "- We do not get enough idea of the null values by looking at the given tabular dataset\n",
    "\n",
    "- The next line of code is more convenient in this case."
   ]
  },
  {
   "cell_type": "code",
   "execution_count": null,
   "metadata": {
    "colab": {
     "base_uri": "https://localhost:8080/"
    },
    "executionInfo": {
     "elapsed": 5337,
     "status": "ok",
     "timestamp": 1620798409798,
     "user": {
      "displayName": "Nishant Singh",
      "photoUrl": "https://lh3.googleusercontent.com/a-/AOh14GjUQCrk-faKBPHBYQ7dZiV7cSiHeQ0NWSVihFrxwA=s64",
      "userId": "15030016934842181675"
     },
     "user_tz": -330
    },
    "id": "z0Dysb_Iba1s",
    "outputId": "0b3578e5-6316-432a-a694-210cf2605fe8"
   },
   "outputs": [
    {
     "data": {
      "text/plain": [
       "instant        0\n",
       "date           0\n",
       "season         0\n",
       "year           0\n",
       "month          0\n",
       "hour           0\n",
       "holiday        0\n",
       "weekday        0\n",
       "weather        0\n",
       "temp           0\n",
       "atemp         11\n",
       "humidity       0\n",
       "windspeed      0\n",
       "casual         0\n",
       "registered     0\n",
       "count          0\n",
       "dtype: int64"
      ]
     },
     "execution_count": 31,
     "metadata": {},
     "output_type": "execute_result"
    }
   ],
   "source": [
    "final_data.isna().sum(axis=0)"
   ]
  },
  {
   "cell_type": "markdown",
   "metadata": {
    "id": "FWwa0QP6MNzx"
   },
   "source": [
    "#### **Observations:**\n",
    "\n",
    "- The `isna().sum(axis=0)` function provides a clear picture of the number of null values in a DataFrame\n",
    "\n",
    "-  In the given result, we can see that the `atemp` column has 11 null values"
   ]
  },
  {
   "cell_type": "markdown",
   "metadata": {
    "id": "8vdkDKGUba1v"
   },
   "source": [
    "### **Let's check the percentage of the rows with missing value**\n",
    "\n",
    "- We are performing this operation to determine whether the NA value rows can be dropped off or not so that we cannot deviate from our desired model"
   ]
  },
  {
   "cell_type": "code",
   "execution_count": null,
   "metadata": {
    "colab": {
     "base_uri": "https://localhost:8080/"
    },
    "executionInfo": {
     "elapsed": 5324,
     "status": "ok",
     "timestamp": 1620798409799,
     "user": {
      "displayName": "Nishant Singh",
      "photoUrl": "https://lh3.googleusercontent.com/a-/AOh14GjUQCrk-faKBPHBYQ7dZiV7cSiHeQ0NWSVihFrxwA=s64",
      "userId": "15030016934842181675"
     },
     "user_tz": -330
    },
    "id": "lw-cCnGfba1w",
    "outputId": "891b10eb-2559-4218-b3b5-5d6bc09eebf7"
   },
   "outputs": [
    {
     "data": {
      "text/plain": [
       "1.0999999999999999"
      ]
     },
     "execution_count": 32,
     "metadata": {},
     "output_type": "execute_result"
    }
   ],
   "source": [
    "percentage_of_missing_values = (final_data['atemp'].isna().sum(axis=0)/final_data.shape[0])*100\n",
    "percentage_of_missing_values"
   ]
  },
  {
   "cell_type": "markdown",
   "metadata": {
    "id": "QbEV3E1Jba1z"
   },
   "source": [
    "#### **Observations:**\n",
    "\n",
    "- We divide the number of null values by the shape of the DataFrame to get the percentage of missing values.\n",
    "\n",
    "- Since the percentage is 1, it is very less. Usually, the industry practice allows us to drop rows up to 30%. So, we can drop the rows with missing values."
   ]
  },
  {
   "cell_type": "markdown",
   "metadata": {
    "id": "CKUAxJmXba1z"
   },
   "source": [
    "### **Drop the rows with missing values**\n",
    "\n",
    "- We will use the `dropna` function to drop the null value rows"
   ]
  },
  {
   "cell_type": "code",
   "execution_count": null,
   "metadata": {
    "colab": {
     "base_uri": "https://localhost:8080/"
    },
    "executionInfo": {
     "elapsed": 5312,
     "status": "ok",
     "timestamp": 1620798409800,
     "user": {
      "displayName": "Nishant Singh",
      "photoUrl": "https://lh3.googleusercontent.com/a-/AOh14GjUQCrk-faKBPHBYQ7dZiV7cSiHeQ0NWSVihFrxwA=s64",
      "userId": "15030016934842181675"
     },
     "user_tz": -330
    },
    "id": "dE3jmthuba10",
    "outputId": "c4d05fdc-25bf-4dcd-e47c-57ba263fd70d"
   },
   "outputs": [
    {
     "data": {
      "text/plain": [
       "(989, 16)"
      ]
     },
     "execution_count": 33,
     "metadata": {},
     "output_type": "execute_result"
    }
   ],
   "source": [
    "final_data = final_data.dropna(axis=0)\n",
    "final_data.shape"
   ]
  },
  {
   "cell_type": "markdown",
   "metadata": {
    "id": "-wNGexczMNzy"
   },
   "source": [
    "#### **Observations:**\n",
    "\n",
    "- We can see that the shape of the DataFrame reduced to 989 from 1000. It shows that the missing value rows have been wiped off.\n",
    "\n",
    "- In further lessons of this course, we'll see different methods to treat missing values."
   ]
  },
  {
   "cell_type": "markdown",
   "metadata": {
    "id": "fFianov-0Isc"
   },
   "source": [
    "### **Now, let's again check the missing value count after the drop**"
   ]
  },
  {
   "cell_type": "code",
   "execution_count": null,
   "metadata": {
    "colab": {
     "base_uri": "https://localhost:8080/"
    },
    "executionInfo": {
     "elapsed": 5301,
     "status": "ok",
     "timestamp": 1620798409802,
     "user": {
      "displayName": "Nishant Singh",
      "photoUrl": "https://lh3.googleusercontent.com/a-/AOh14GjUQCrk-faKBPHBYQ7dZiV7cSiHeQ0NWSVihFrxwA=s64",
      "userId": "15030016934842181675"
     },
     "user_tz": -330
    },
    "id": "PClKLz0bzvq_",
    "outputId": "369b13e2-2371-4a84-97ba-36799a0c4696"
   },
   "outputs": [
    {
     "data": {
      "text/plain": [
       "instant       0\n",
       "date          0\n",
       "season        0\n",
       "year          0\n",
       "month         0\n",
       "hour          0\n",
       "holiday       0\n",
       "weekday       0\n",
       "weather       0\n",
       "temp          0\n",
       "atemp         0\n",
       "humidity      0\n",
       "windspeed     0\n",
       "casual        0\n",
       "registered    0\n",
       "count         0\n",
       "dtype: int64"
      ]
     },
     "execution_count": 34,
     "metadata": {},
     "output_type": "execute_result"
    }
   ],
   "source": [
    "final_data.isna().sum(axis=0)"
   ]
  },
  {
   "cell_type": "markdown",
   "metadata": {
    "id": "JvhO_koVba15"
   },
   "source": [
    "#### **Perform sanity checks on the dataset**\n",
    "\n",
    "- It verifies the logical correctness of the data points"
   ]
  },
  {
   "cell_type": "markdown",
   "metadata": {
    "id": "GisC2anBba15"
   },
   "source": [
    "### **Check if `casual` + `registered` is always equal to `count`**"
   ]
  },
  {
   "cell_type": "code",
   "execution_count": null,
   "metadata": {
    "colab": {
     "base_uri": "https://localhost:8080/"
    },
    "executionInfo": {
     "elapsed": 5290,
     "status": "ok",
     "timestamp": 1620798409803,
     "user": {
      "displayName": "Nishant Singh",
      "photoUrl": "https://lh3.googleusercontent.com/a-/AOh14GjUQCrk-faKBPHBYQ7dZiV7cSiHeQ0NWSVihFrxwA=s64",
      "userId": "15030016934842181675"
     },
     "user_tz": -330
    },
    "id": "n0pfDDuuba16",
    "outputId": "7a3fdce6-2b9a-4092-86ea-ca702e7910e1"
   },
   "outputs": [
    {
     "data": {
      "text/plain": [
       "0"
      ]
     },
     "execution_count": 35,
     "metadata": {},
     "output_type": "execute_result"
    }
   ],
   "source": [
    "np.sum(final_data['casual'] + final_data['registered'] - final_data['count'])"
   ]
  },
  {
   "cell_type": "markdown",
   "metadata": {
    "id": "yhW1ckHjba19"
   },
   "source": [
    "### **Month values should be in the range of 1-12**\n",
    "\n",
    "- We will use the `unique()` function to find the elements of an array"
   ]
  },
  {
   "cell_type": "code",
   "execution_count": null,
   "metadata": {
    "colab": {
     "base_uri": "https://localhost:8080/"
    },
    "executionInfo": {
     "elapsed": 5277,
     "status": "ok",
     "timestamp": 1620798409805,
     "user": {
      "displayName": "Nishant Singh",
      "photoUrl": "https://lh3.googleusercontent.com/a-/AOh14GjUQCrk-faKBPHBYQ7dZiV7cSiHeQ0NWSVihFrxwA=s64",
      "userId": "15030016934842181675"
     },
     "user_tz": -330
    },
    "id": "jtSNEW73ba19",
    "outputId": "a9d423a3-3566-4375-e5da-91aee47e3473"
   },
   "outputs": [
    {
     "data": {
      "text/plain": [
       "array([1, 2])"
      ]
     },
     "execution_count": 36,
     "metadata": {},
     "output_type": "execute_result"
    }
   ],
   "source": [
    "np.unique(final_data.month)"
   ]
  },
  {
   "cell_type": "markdown",
   "metadata": {
    "id": "qaTv27nzba2A"
   },
   "source": [
    "### **Hour should be in the range of 1-24**"
   ]
  },
  {
   "cell_type": "code",
   "execution_count": null,
   "metadata": {
    "colab": {
     "base_uri": "https://localhost:8080/"
    },
    "executionInfo": {
     "elapsed": 5264,
     "status": "ok",
     "timestamp": 1620798409806,
     "user": {
      "displayName": "Nishant Singh",
      "photoUrl": "https://lh3.googleusercontent.com/a-/AOh14GjUQCrk-faKBPHBYQ7dZiV7cSiHeQ0NWSVihFrxwA=s64",
      "userId": "15030016934842181675"
     },
     "user_tz": -330
    },
    "id": "Tpcsji6Fba2B",
    "outputId": "cfeebaf8-d6b1-49a4-829c-f62dae6cf892"
   },
   "outputs": [
    {
     "data": {
      "text/plain": [
       "array([ 0,  1,  2,  3,  4,  5,  6,  7,  8,  9, 10, 11, 12, 13, 14, 15, 16,\n",
       "       17, 18, 19, 20, 21, 22, 23])"
      ]
     },
     "execution_count": 37,
     "metadata": {},
     "output_type": "execute_result"
    }
   ],
   "source": [
    "np.unique(final_data.hour)"
   ]
  },
  {
   "cell_type": "markdown",
   "metadata": {
    "id": "xOqWZiq_ba2D"
   },
   "source": [
    "### **Print the statistical summary of the data**\n",
    "\n",
    "- We will use the `describe()` function to see the stastical summary of the dataset"
   ]
  },
  {
   "cell_type": "code",
   "execution_count": null,
   "metadata": {
    "colab": {
     "base_uri": "https://localhost:8080/"
    },
    "executionInfo": {
     "elapsed": 5251,
     "status": "ok",
     "timestamp": 1620798409807,
     "user": {
      "displayName": "Nishant Singh",
      "photoUrl": "https://lh3.googleusercontent.com/a-/AOh14GjUQCrk-faKBPHBYQ7dZiV7cSiHeQ0NWSVihFrxwA=s64",
      "userId": "15030016934842181675"
     },
     "user_tz": -330
    },
    "id": "5Ccua1uGba2E",
    "outputId": "a5cc266d-2613-468f-920f-6216dc76e646"
   },
   "outputs": [
    {
     "name": "stdout",
     "output_type": "stream",
     "text": [
      "           instant  season   year       month        hour     weekday  \\\n",
      "count   989.000000   989.0  989.0  989.000000  989.000000  989.000000   \n",
      "mean    505.622851     1.0    0.0    1.315470   11.753286    2.991911   \n",
      "std     286.274765     0.0    0.0    0.464938    6.891129    2.084727   \n",
      "min       1.000000     1.0    0.0    1.000000    0.000000    0.000000   \n",
      "25%     259.000000     1.0    0.0    1.000000    6.000000    1.000000   \n",
      "50%     506.000000     1.0    0.0    1.000000   12.000000    3.000000   \n",
      "75%     753.000000     1.0    0.0    2.000000   18.000000    5.000000   \n",
      "max    1000.000000     1.0    0.0    2.000000   23.000000    6.000000   \n",
      "\n",
      "          weather        temp       atemp    humidity   windspeed      casual  \\\n",
      "count  989.000000  989.000000  989.000000  989.000000  989.000000  989.000000   \n",
      "mean     1.479272    0.204712    0.211958    0.581769    0.194609    4.921132   \n",
      "std      0.651085    0.077789    0.076703    0.187706    0.129225    7.666231   \n",
      "min      1.000000    0.020000    0.000000    0.210000    0.000000    0.000000   \n",
      "25%      1.000000    0.160000    0.166700    0.440000    0.104500    0.000000   \n",
      "50%      1.000000    0.200000    0.212100    0.550000    0.164200    3.000000   \n",
      "75%      2.000000    0.240000    0.257600    0.700000    0.283600    6.000000   \n",
      "max      4.000000    0.460000    0.454500    1.000000    0.582100   62.000000   \n",
      "\n",
      "       registered       count  \n",
      "count  989.000000  989.000000  \n",
      "mean    53.689585   58.610718  \n",
      "std     48.019224   51.120572  \n",
      "min      0.000000    1.000000  \n",
      "25%     15.000000   16.000000  \n",
      "50%     46.000000   50.000000  \n",
      "75%     75.000000   84.000000  \n",
      "max    247.000000  249.000000  \n"
     ]
    }
   ],
   "source": [
    "print(final_data.describe())"
   ]
  },
  {
   "cell_type": "markdown",
   "metadata": {
    "id": "nhuu8OXVD2vf"
   },
   "source": [
    "**`Note: We have seen almost all the methods of data wrangling, now let's see explicitly outlier detection and removing`**"
   ]
  },
  {
   "cell_type": "markdown",
   "metadata": {
    "id": "hvdLvbQbEQNq"
   },
   "source": [
    "### **Import the Libraries**\n",
    "\n",
    "- Apart from the Pandas and NumPy, this time we are also calling Scikit-learn\n",
    "\n",
    "- Scikit-learn (sklearn) is an open-source module that has some inbuilt datasets, like boston and iris \n",
    "\n",
    "- Each dataset has a corresponding function used to load the dataset\n",
    "\n",
    "- These functions follow the same format: “load_DATASET()”, where DATASET refers to the name of the dataset\n",
    "\n",
    "- We are importing two datasets from `sklearn.datasets` in the cell below"
   ]
  },
  {
   "cell_type": "code",
   "execution_count": null,
   "metadata": {
    "id": "YNKAj8NYEb1b"
   },
   "outputs": [],
   "source": [
    "import numpy as np\n",
    "import pandas as pd\n",
    "from sklearn.datasets import load_boston, load_iris"
   ]
  },
  {
   "cell_type": "markdown",
   "metadata": {
    "id": "h8OrccEOEfbJ"
   },
   "source": [
    "### **Load the Data**\n",
    "\n",
    "- Since these datasets are directly importing from Scikit Learn, the load functions (such as load_boston()) do not return data in the tabular format \n",
    "\n",
    "- The data is stored in the form of keys (words) and values (definition) like the dictionary structure\n",
    "\n",
    "- Let’s load the dataset and store it in a variable called boston\n",
    "\n",
    "- Now, we are going to call the keys for boston dataset `print(boston.keys())`"
   ]
  },
  {
   "cell_type": "code",
   "execution_count": null,
   "metadata": {
    "colab": {
     "base_uri": "https://localhost:8080/"
    },
    "executionInfo": {
     "elapsed": 5232,
     "status": "ok",
     "timestamp": 1620798409809,
     "user": {
      "displayName": "Nishant Singh",
      "photoUrl": "https://lh3.googleusercontent.com/a-/AOh14GjUQCrk-faKBPHBYQ7dZiV7cSiHeQ0NWSVihFrxwA=s64",
      "userId": "15030016934842181675"
     },
     "user_tz": -330
    },
    "id": "3giePzKXEj3A",
    "outputId": "f005a641-8145-421b-ae03-47c91671eb3b"
   },
   "outputs": [
    {
     "name": "stdout",
     "output_type": "stream",
     "text": [
      "dict_keys(['data', 'target', 'feature_names', 'DESCR', 'filename'])\n"
     ]
    }
   ],
   "source": [
    "boston = load_boston()\n",
    "\n",
    "#Find the dic keys\n",
    "print(boston.keys())"
   ]
  },
  {
   "cell_type": "markdown",
   "metadata": {
    "id": "Zq4asVzRMNz2"
   },
   "source": [
    "#### **Observations**:\n",
    "\n",
    "- We get the keys such as data, target, feature_names, DESCR, and filename\n",
    "\n",
    "- The first two keys 'data' and 'target' has the only actual data, rest serve a descriptive purpose\n",
    "\n",
    "- `data` has all the input features of the dataset in a NumPy array and `target` has the output feature based on which we do the prediction. `target` is in the NumPy array \n",
    "\n",
    "- `feature_names` has all the column names of the dataset in a NumPy array and `DESCR` is the description of the dataset `filename` that has the file path in CSV format"
   ]
  },
  {
   "cell_type": "markdown",
   "metadata": {
    "id": "0cTWqVQZEnje"
   },
   "source": [
    "### **Find features name**\n",
    "\n",
    "- Let's see the columns in the dataset"
   ]
  },
  {
   "cell_type": "code",
   "execution_count": null,
   "metadata": {
    "colab": {
     "base_uri": "https://localhost:8080/"
    },
    "executionInfo": {
     "elapsed": 5220,
     "status": "ok",
     "timestamp": 1620798409811,
     "user": {
      "displayName": "Nishant Singh",
      "photoUrl": "https://lh3.googleusercontent.com/a-/AOh14GjUQCrk-faKBPHBYQ7dZiV7cSiHeQ0NWSVihFrxwA=s64",
      "userId": "15030016934842181675"
     },
     "user_tz": -330
    },
    "id": "rmgWbssREm9f",
    "outputId": "7b564570-0c92-41c0-e05b-cbbf95577b2e"
   },
   "outputs": [
    {
     "data": {
      "text/plain": [
       "array(['CRIM', 'ZN', 'INDUS', 'CHAS', 'NOX', 'RM', 'AGE', 'DIS', 'RAD',\n",
       "       'TAX', 'PTRATIO', 'B', 'LSTAT'], dtype='<U7')"
      ]
     },
     "execution_count": 41,
     "metadata": {},
     "output_type": "execute_result"
    }
   ],
   "source": [
    "#Find features and target\n",
    "x = boston.data\n",
    "y = boston.target\n",
    "\n",
    "columns = boston.feature_names\n",
    "columns"
   ]
  },
  {
   "cell_type": "markdown",
   "metadata": {
    "id": "KnuSb6ZBEyKE"
   },
   "source": [
    "### **Description of dataset**"
   ]
  },
  {
   "cell_type": "code",
   "execution_count": null,
   "metadata": {
    "colab": {
     "base_uri": "https://localhost:8080/"
    },
    "executionInfo": {
     "elapsed": 5209,
     "status": "ok",
     "timestamp": 1620798409813,
     "user": {
      "displayName": "Nishant Singh",
      "photoUrl": "https://lh3.googleusercontent.com/a-/AOh14GjUQCrk-faKBPHBYQ7dZiV7cSiHeQ0NWSVihFrxwA=s64",
      "userId": "15030016934842181675"
     },
     "user_tz": -330
    },
    "id": "l_igm6lHba2G",
    "outputId": "735057de-d28b-4ec9-e8eb-9244533dd344"
   },
   "outputs": [
    {
     "name": "stdout",
     "output_type": "stream",
     "text": [
      ".. _boston_dataset:\n",
      "\n",
      "Boston house prices dataset\n",
      "---------------------------\n",
      "\n",
      "**Data Set Characteristics:**  \n",
      "\n",
      "    :Number of Instances: 506 \n",
      "\n",
      "    :Number of Attributes: 13 numeric/categorical predictive. Median Value (attribute 14) is usually the target.\n",
      "\n",
      "    :Attribute Information (in order):\n",
      "        - CRIM     per capita crime rate by town\n",
      "        - ZN       proportion of residential land zoned for lots over 25,000 sq.ft.\n",
      "        - INDUS    proportion of non-retail business acres per town\n",
      "        - CHAS     Charles River dummy variable (= 1 if tract bounds river; 0 otherwise)\n",
      "        - NOX      nitric oxides concentration (parts per 10 million)\n",
      "        - RM       average number of rooms per dwelling\n",
      "        - AGE      proportion of owner-occupied units built prior to 1940\n",
      "        - DIS      weighted distances to five Boston employment centres\n",
      "        - RAD      index of accessibility to radial highways\n",
      "        - TAX      full-value property-tax rate per $10,000\n",
      "        - PTRATIO  pupil-teacher ratio by town\n",
      "        - B        1000(Bk - 0.63)^2 where Bk is the proportion of black people by town\n",
      "        - LSTAT    % lower status of the population\n",
      "        - MEDV     Median value of owner-occupied homes in $1000's\n",
      "\n",
      "    :Missing Attribute Values: None\n",
      "\n",
      "    :Creator: Harrison, D. and Rubinfeld, D.L.\n",
      "\n",
      "This is a copy of UCI ML housing dataset.\n",
      "https://archive.ics.uci.edu/ml/machine-learning-databases/housing/\n",
      "\n",
      "\n",
      "This dataset was taken from the StatLib library which is maintained at Carnegie Mellon University.\n",
      "\n",
      "The Boston house-price data of Harrison, D. and Rubinfeld, D.L. 'Hedonic\n",
      "prices and the demand for clean air', J. Environ. Economics & Management,\n",
      "vol.5, 81-102, 1978.   Used in Belsley, Kuh & Welsch, 'Regression diagnostics\n",
      "...', Wiley, 1980.   N.B. Various transformations are used in the table on\n",
      "pages 244-261 of the latter.\n",
      "\n",
      "The Boston house-price data has been used in many machine learning papers that address regression\n",
      "problems.   \n",
      "     \n",
      ".. topic:: References\n",
      "\n",
      "   - Belsley, Kuh & Welsch, 'Regression diagnostics: Identifying Influential Data and Sources of Collinearity', Wiley, 1980. 244-261.\n",
      "   - Quinlan,R. (1993). Combining Instance-Based and Model-Based Learning. In Proceedings on the Tenth International Conference of Machine Learning, 236-243, University of Massachusetts, Amherst. Morgan Kaufmann.\n",
      "\n"
     ]
    }
   ],
   "source": [
    "print(boston.DESCR)"
   ]
  },
  {
   "cell_type": "markdown",
   "metadata": {
    "id": "WpliO1lzMNz3"
   },
   "source": [
    "### **Let's convert the array to a DataFrame i.e into tabular structure**\n",
    "\n",
    "- Since both data and target are in a NumPy array, we need to convert it to a DataFrame"
   ]
  },
  {
   "cell_type": "code",
   "execution_count": null,
   "metadata": {
    "colab": {
     "base_uri": "https://localhost:8080/"
    },
    "executionInfo": {
     "elapsed": 5197,
     "status": "ok",
     "timestamp": 1620798409814,
     "user": {
      "displayName": "Nishant Singh",
      "photoUrl": "https://lh3.googleusercontent.com/a-/AOh14GjUQCrk-faKBPHBYQ7dZiV7cSiHeQ0NWSVihFrxwA=s64",
      "userId": "15030016934842181675"
     },
     "user_tz": -330
    },
    "id": "oR7cU-JFE2kI",
    "outputId": "c86f8da8-d704-437a-ee7d-97ce9ffb1da9"
   },
   "outputs": [
    {
     "name": "stdout",
     "output_type": "stream",
     "text": [
      "(506, 14)\n",
      "(506, 14)\n"
     ]
    }
   ],
   "source": [
    "boston_df = pd.DataFrame(boston.data)\n",
    "boston_df.columns = columns\n",
    "boston_df[\"MEDV\"] = y\n",
    "boston_df_o = boston_df\n",
    "print(boston_df.shape)\n",
    "print(boston_df_o.shape)"
   ]
  },
  {
   "cell_type": "markdown",
   "metadata": {
    "id": "CI-R4zG4MNz3"
   },
   "source": [
    "#### **Observation:**\n",
    "\n",
    "- `boston_df` has 506 rows and 14 columns"
   ]
  },
  {
   "cell_type": "code",
   "execution_count": null,
   "metadata": {
    "colab": {
     "base_uri": "https://localhost:8080/"
    },
    "executionInfo": {
     "elapsed": 5185,
     "status": "ok",
     "timestamp": 1620798409816,
     "user": {
      "displayName": "Nishant Singh",
      "photoUrl": "https://lh3.googleusercontent.com/a-/AOh14GjUQCrk-faKBPHBYQ7dZiV7cSiHeQ0NWSVihFrxwA=s64",
      "userId": "15030016934842181675"
     },
     "user_tz": -330
    },
    "id": "cn9ezDg93t72",
    "outputId": "86826cf0-2c28-4bd9-de2f-1fae06b2e734"
   },
   "outputs": [
    {
     "name": "stdout",
     "output_type": "stream",
     "text": [
      "             CRIM          ZN       INDUS        CHAS         NOX          RM  \\\n",
      "count  506.000000  506.000000  506.000000  506.000000  506.000000  506.000000   \n",
      "mean     3.613524   11.363636   11.136779    0.069170    0.554695    6.284634   \n",
      "std      8.601545   23.322453    6.860353    0.253994    0.115878    0.702617   \n",
      "min      0.006320    0.000000    0.460000    0.000000    0.385000    3.561000   \n",
      "25%      0.082045    0.000000    5.190000    0.000000    0.449000    5.885500   \n",
      "50%      0.256510    0.000000    9.690000    0.000000    0.538000    6.208500   \n",
      "75%      3.677083   12.500000   18.100000    0.000000    0.624000    6.623500   \n",
      "max     88.976200  100.000000   27.740000    1.000000    0.871000    8.780000   \n",
      "\n",
      "              AGE         DIS         RAD         TAX     PTRATIO           B  \\\n",
      "count  506.000000  506.000000  506.000000  506.000000  506.000000  506.000000   \n",
      "mean    68.574901    3.795043    9.549407  408.237154   18.455534  356.674032   \n",
      "std     28.148861    2.105710    8.707259  168.537116    2.164946   91.294864   \n",
      "min      2.900000    1.129600    1.000000  187.000000   12.600000    0.320000   \n",
      "25%     45.025000    2.100175    4.000000  279.000000   17.400000  375.377500   \n",
      "50%     77.500000    3.207450    5.000000  330.000000   19.050000  391.440000   \n",
      "75%     94.075000    5.188425   24.000000  666.000000   20.200000  396.225000   \n",
      "max    100.000000   12.126500   24.000000  711.000000   22.000000  396.900000   \n",
      "\n",
      "            LSTAT        MEDV  \n",
      "count  506.000000  506.000000  \n",
      "mean    12.653063   22.532806  \n",
      "std      7.141062    9.197104  \n",
      "min      1.730000    5.000000  \n",
      "25%      6.950000   17.025000  \n",
      "50%     11.360000   21.200000  \n",
      "75%     16.955000   25.000000  \n",
      "max     37.970000   50.000000  \n"
     ]
    }
   ],
   "source": [
    "print(boston_df.describe())"
   ]
  },
  {
   "cell_type": "code",
   "execution_count": null,
   "metadata": {
    "colab": {
     "base_uri": "https://localhost:8080/",
     "height": 204
    },
    "executionInfo": {
     "elapsed": 5172,
     "status": "ok",
     "timestamp": 1620798409818,
     "user": {
      "displayName": "Nishant Singh",
      "photoUrl": "https://lh3.googleusercontent.com/a-/AOh14GjUQCrk-faKBPHBYQ7dZiV7cSiHeQ0NWSVihFrxwA=s64",
      "userId": "15030016934842181675"
     },
     "user_tz": -330
    },
    "id": "5G6eRffqYZU_",
    "outputId": "d2ce9a7a-87e3-481a-f0c3-dfdd76a0fdec"
   },
   "outputs": [
    {
     "data": {
      "text/html": [
       "<div>\n",
       "<style scoped>\n",
       "    .dataframe tbody tr th:only-of-type {\n",
       "        vertical-align: middle;\n",
       "    }\n",
       "\n",
       "    .dataframe tbody tr th {\n",
       "        vertical-align: top;\n",
       "    }\n",
       "\n",
       "    .dataframe thead th {\n",
       "        text-align: right;\n",
       "    }\n",
       "</style>\n",
       "<table border=\"1\" class=\"dataframe\">\n",
       "  <thead>\n",
       "    <tr style=\"text-align: right;\">\n",
       "      <th></th>\n",
       "      <th>CRIM</th>\n",
       "      <th>ZN</th>\n",
       "      <th>INDUS</th>\n",
       "      <th>CHAS</th>\n",
       "      <th>NOX</th>\n",
       "      <th>RM</th>\n",
       "      <th>AGE</th>\n",
       "      <th>DIS</th>\n",
       "      <th>RAD</th>\n",
       "      <th>TAX</th>\n",
       "      <th>PTRATIO</th>\n",
       "      <th>B</th>\n",
       "      <th>LSTAT</th>\n",
       "      <th>MEDV</th>\n",
       "    </tr>\n",
       "  </thead>\n",
       "  <tbody>\n",
       "    <tr>\n",
       "      <th>0</th>\n",
       "      <td>0.00632</td>\n",
       "      <td>18.0</td>\n",
       "      <td>2.31</td>\n",
       "      <td>0.0</td>\n",
       "      <td>0.538</td>\n",
       "      <td>6.575</td>\n",
       "      <td>65.2</td>\n",
       "      <td>4.0900</td>\n",
       "      <td>1.0</td>\n",
       "      <td>296.0</td>\n",
       "      <td>15.3</td>\n",
       "      <td>396.90</td>\n",
       "      <td>4.98</td>\n",
       "      <td>24.0</td>\n",
       "    </tr>\n",
       "    <tr>\n",
       "      <th>1</th>\n",
       "      <td>0.02731</td>\n",
       "      <td>0.0</td>\n",
       "      <td>7.07</td>\n",
       "      <td>0.0</td>\n",
       "      <td>0.469</td>\n",
       "      <td>6.421</td>\n",
       "      <td>78.9</td>\n",
       "      <td>4.9671</td>\n",
       "      <td>2.0</td>\n",
       "      <td>242.0</td>\n",
       "      <td>17.8</td>\n",
       "      <td>396.90</td>\n",
       "      <td>9.14</td>\n",
       "      <td>21.6</td>\n",
       "    </tr>\n",
       "    <tr>\n",
       "      <th>2</th>\n",
       "      <td>0.02729</td>\n",
       "      <td>0.0</td>\n",
       "      <td>7.07</td>\n",
       "      <td>0.0</td>\n",
       "      <td>0.469</td>\n",
       "      <td>7.185</td>\n",
       "      <td>61.1</td>\n",
       "      <td>4.9671</td>\n",
       "      <td>2.0</td>\n",
       "      <td>242.0</td>\n",
       "      <td>17.8</td>\n",
       "      <td>392.83</td>\n",
       "      <td>4.03</td>\n",
       "      <td>34.7</td>\n",
       "    </tr>\n",
       "    <tr>\n",
       "      <th>3</th>\n",
       "      <td>0.03237</td>\n",
       "      <td>0.0</td>\n",
       "      <td>2.18</td>\n",
       "      <td>0.0</td>\n",
       "      <td>0.458</td>\n",
       "      <td>6.998</td>\n",
       "      <td>45.8</td>\n",
       "      <td>6.0622</td>\n",
       "      <td>3.0</td>\n",
       "      <td>222.0</td>\n",
       "      <td>18.7</td>\n",
       "      <td>394.63</td>\n",
       "      <td>2.94</td>\n",
       "      <td>33.4</td>\n",
       "    </tr>\n",
       "    <tr>\n",
       "      <th>4</th>\n",
       "      <td>0.06905</td>\n",
       "      <td>0.0</td>\n",
       "      <td>2.18</td>\n",
       "      <td>0.0</td>\n",
       "      <td>0.458</td>\n",
       "      <td>7.147</td>\n",
       "      <td>54.2</td>\n",
       "      <td>6.0622</td>\n",
       "      <td>3.0</td>\n",
       "      <td>222.0</td>\n",
       "      <td>18.7</td>\n",
       "      <td>396.90</td>\n",
       "      <td>5.33</td>\n",
       "      <td>36.2</td>\n",
       "    </tr>\n",
       "  </tbody>\n",
       "</table>\n",
       "</div>"
      ],
      "text/plain": [
       "      CRIM    ZN  INDUS  CHAS    NOX     RM   AGE     DIS  RAD    TAX  \\\n",
       "0  0.00632  18.0   2.31   0.0  0.538  6.575  65.2  4.0900  1.0  296.0   \n",
       "1  0.02731   0.0   7.07   0.0  0.469  6.421  78.9  4.9671  2.0  242.0   \n",
       "2  0.02729   0.0   7.07   0.0  0.469  7.185  61.1  4.9671  2.0  242.0   \n",
       "3  0.03237   0.0   2.18   0.0  0.458  6.998  45.8  6.0622  3.0  222.0   \n",
       "4  0.06905   0.0   2.18   0.0  0.458  7.147  54.2  6.0622  3.0  222.0   \n",
       "\n",
       "   PTRATIO       B  LSTAT  MEDV  \n",
       "0     15.3  396.90   4.98  24.0  \n",
       "1     17.8  396.90   9.14  21.6  \n",
       "2     17.8  392.83   4.03  34.7  \n",
       "3     18.7  394.63   2.94  33.4  \n",
       "4     18.7  396.90   5.33  36.2  "
      ]
     },
     "execution_count": 45,
     "metadata": {},
     "output_type": "execute_result"
    }
   ],
   "source": [
    "boston_df.head()"
   ]
  },
  {
   "cell_type": "markdown",
   "metadata": {
    "id": "j0Q3eqEmE6BW"
   },
   "source": [
    "### **Outlier Detection - Univarite - Boxplot**\n",
    "\n",
    "- Boxplot is a graphical method for representing the values in the data\n",
    "\n",
    "- It shows how the values are spread and skewed"
   ]
  },
  {
   "cell_type": "code",
   "execution_count": null,
   "metadata": {
    "colab": {
     "base_uri": "https://localhost:8080/",
     "height": 282
    },
    "executionInfo": {
     "elapsed": 5873,
     "status": "ok",
     "timestamp": 1620798410537,
     "user": {
      "displayName": "Nishant Singh",
      "photoUrl": "https://lh3.googleusercontent.com/a-/AOh14GjUQCrk-faKBPHBYQ7dZiV7cSiHeQ0NWSVihFrxwA=s64",
      "userId": "15030016934842181675"
     },
     "user_tz": -330
    },
    "id": "VQf4unHs56nE",
    "outputId": "a4cb7338-c7fe-4102-cfaa-1f00db0356ba"
   },
   "outputs": [
    {
     "data": {
      "text/plain": [
       "<AxesSubplot:>"
      ]
     },
     "execution_count": 46,
     "metadata": {},
     "output_type": "execute_result"
    },
    {
     "data": {
      "image/png": "[encoded data removed]",
      "text/plain": [
       "<Figure size 432x288 with 1 Axes>"
      ]
     },
     "metadata": {
      "needs_background": "light"
     },
     "output_type": "display_data"
    }
   ],
   "source": [
    "boston_df.boxplot()"
   ]
  },
  {
   "cell_type": "markdown",
   "metadata": {
    "id": "uspqh4wgMNz4"
   },
   "source": [
    "#### **Observations:**\n",
    "\n",
    "- Since the values are different from each other, it is not right to put every column in the same scale of measurement"
   ]
  },
  {
   "cell_type": "markdown",
   "metadata": {
    "id": "jgnv5iJbMNz5"
   },
   "source": [
    "#### **Let's import the libraries like matplotlib and seaborn**\n",
    "\n",
    "- Matplotlib is a data visualizing and graphical plotting library for Python \n",
    "\n",
    "- Seaborn is also a data visualization library built on top of Matplotlib, which is used for making statistical graphics"
   ]
  },
  {
   "cell_type": "code",
   "execution_count": null,
   "metadata": {
    "colab": {
     "base_uri": "https://localhost:8080/",
     "height": 296
    },
    "executionInfo": {
     "elapsed": 5857,
     "status": "ok",
     "timestamp": 1620798410538,
     "user": {
      "displayName": "Nishant Singh",
      "photoUrl": "https://lh3.googleusercontent.com/a-/AOh14GjUQCrk-faKBPHBYQ7dZiV7cSiHeQ0NWSVihFrxwA=s64",
      "userId": "15030016934842181675"
     },
     "user_tz": -330
    },
    "id": "JDD86XdIE85W",
    "outputId": "62e47d94-9fe5-48c1-b567-c055d1526b5c"
   },
   "outputs": [
    {
     "data": {
      "text/plain": [
       "<AxesSubplot:xlabel='DIS'>"
      ]
     },
     "execution_count": 47,
     "metadata": {},
     "output_type": "execute_result"
    },
    {
     "data": {
      "image/png": "[encoded data removed]",
      "text/plain": [
       "<Figure size 432x288 with 1 Axes>"
      ]
     },
     "metadata": {
      "needs_background": "light"
     },
     "output_type": "display_data"
    }
   ],
   "source": [
    "import matplotlib.pyplot as plt\n",
    "import seaborn as sns\n",
    "\n",
    "%matplotlib inline\n",
    "sns.boxplot(x=boston_df['DIS'])"
   ]
  },
  {
   "cell_type": "markdown",
   "metadata": {
    "id": "PsRGJ_CNMNz5"
   },
   "source": [
    "#### **IQR (Interquartile range ) technique for outlier treatment**"
   ]
  },
  {
   "cell_type": "code",
   "execution_count": null,
   "metadata": {
    "id": "TTKgZ-lP-pc6"
   },
   "outputs": [],
   "source": [
    "def outlier_treatment(col):\n",
    "    sorted(col)\n",
    "    Q1,Q3 = np.percentile(col , [25,75])\n",
    "    IQR = Q3 - Q1\n",
    "    lower_range = Q1 - (1.5 * IQR)\n",
    "    upper_range = Q3 + (1.5 * IQR)\n",
    "    return lower_range,upper_range"
   ]
  },
  {
   "cell_type": "markdown",
   "metadata": {
    "id": "-YLvFizcMNz5"
   },
   "source": [
    "#### **Observations:**\n",
    "\n",
    "- In this technique, we divide our dataset under percentiles like 25th  and 75th of a sample\n",
    "\n",
    "- After that, we find the IQR between these two percentiles\n",
    "\n",
    "- Now, to remove the outliers, we calculate the lower and upper range by using the given formula\n",
    "\n",
    "- All the values which are beyond these ranges are considered outliers and must be removed"
   ]
  },
  {
   "cell_type": "code",
   "execution_count": null,
   "metadata": {
    "colab": {
     "base_uri": "https://localhost:8080/"
    },
    "executionInfo": {
     "elapsed": 5841,
     "status": "ok",
     "timestamp": 1620798410541,
     "user": {
      "displayName": "Nishant Singh",
      "photoUrl": "https://lh3.googleusercontent.com/a-/AOh14GjUQCrk-faKBPHBYQ7dZiV7cSiHeQ0NWSVihFrxwA=s64",
      "userId": "15030016934842181675"
     },
     "user_tz": -330
    },
    "id": "RoCrGYRl-sZs",
    "outputId": "1b098f4c-e3a8-4829-b991-4be1be798c0b"
   },
   "outputs": [
    {
     "name": "stdout",
     "output_type": "stream",
     "text": [
      "Lower Range: -2.5322000000000005\n",
      "Upper Range: 9.820800000000002\n"
     ]
    }
   ],
   "source": [
    "lower_range,upper_range = outlier_treatment(boston_df['DIS'])\n",
    "print(\"Lower Range:\",lower_range)\n",
    "print(\"Upper Range:\",upper_range)"
   ]
  },
  {
   "cell_type": "markdown",
   "metadata": {
    "id": "NlC1zFpBMNz6"
   },
   "source": [
    "#### **Observation:**\n",
    "\n",
    "- We have calculated the lower and upper ranges for `DIS` feature of our `boston_df`"
   ]
  },
  {
   "cell_type": "code",
   "execution_count": null,
   "metadata": {
    "colab": {
     "base_uri": "https://localhost:8080/",
     "height": 49
    },
    "executionInfo": {
     "elapsed": 5821,
     "status": "ok",
     "timestamp": 1620798410542,
     "user": {
      "displayName": "Nishant Singh",
      "photoUrl": "https://lh3.googleusercontent.com/a-/AOh14GjUQCrk-faKBPHBYQ7dZiV7cSiHeQ0NWSVihFrxwA=s64",
      "userId": "15030016934842181675"
     },
     "user_tz": -330
    },
    "id": "OfDXL78JAvbJ",
    "outputId": "9cb33833-60f1-469e-9f0c-f8276b4a3f05"
   },
   "outputs": [
    {
     "data": {
      "text/html": [
       "<div>\n",
       "<style scoped>\n",
       "    .dataframe tbody tr th:only-of-type {\n",
       "        vertical-align: middle;\n",
       "    }\n",
       "\n",
       "    .dataframe tbody tr th {\n",
       "        vertical-align: top;\n",
       "    }\n",
       "\n",
       "    .dataframe thead th {\n",
       "        text-align: right;\n",
       "    }\n",
       "</style>\n",
       "<table border=\"1\" class=\"dataframe\">\n",
       "  <thead>\n",
       "    <tr style=\"text-align: right;\">\n",
       "      <th></th>\n",
       "      <th>CRIM</th>\n",
       "      <th>ZN</th>\n",
       "      <th>INDUS</th>\n",
       "      <th>CHAS</th>\n",
       "      <th>NOX</th>\n",
       "      <th>RM</th>\n",
       "      <th>AGE</th>\n",
       "      <th>DIS</th>\n",
       "      <th>RAD</th>\n",
       "      <th>TAX</th>\n",
       "      <th>PTRATIO</th>\n",
       "      <th>B</th>\n",
       "      <th>LSTAT</th>\n",
       "      <th>MEDV</th>\n",
       "    </tr>\n",
       "  </thead>\n",
       "  <tbody>\n",
       "  </tbody>\n",
       "</table>\n",
       "</div>"
      ],
      "text/plain": [
       "Empty DataFrame\n",
       "Columns: [CRIM, ZN, INDUS, CHAS, NOX, RM, AGE, DIS, RAD, TAX, PTRATIO, B, LSTAT, MEDV]\n",
       "Index: []"
      ]
     },
     "execution_count": 50,
     "metadata": {},
     "output_type": "execute_result"
    }
   ],
   "source": [
    "lower_boston_df = boston_df[boston_df[\"DIS\"].values < lower_range]\n",
    "lower_boston_df"
   ]
  },
  {
   "cell_type": "markdown",
   "metadata": {
    "id": "CYJt2jUrMNz7"
   },
   "source": [
    "### **Let us show the values which are beyond upper and lower range in our dataset**"
   ]
  },
  {
   "cell_type": "code",
   "execution_count": null,
   "metadata": {
    "colab": {
     "base_uri": "https://localhost:8080/",
     "height": 204
    },
    "executionInfo": {
     "elapsed": 5805,
     "status": "ok",
     "timestamp": 1620798410543,
     "user": {
      "displayName": "Nishant Singh",
      "photoUrl": "https://lh3.googleusercontent.com/a-/AOh14GjUQCrk-faKBPHBYQ7dZiV7cSiHeQ0NWSVihFrxwA=s64",
      "userId": "15030016934842181675"
     },
     "user_tz": -330
    },
    "id": "XoKPxNcQA5TS",
    "outputId": "83d4a2e5-a84f-4b66-efd4-33bdeb0970c8"
   },
   "outputs": [
    {
     "data": {
      "text/html": [
       "<div>\n",
       "<style scoped>\n",
       "    .dataframe tbody tr th:only-of-type {\n",
       "        vertical-align: middle;\n",
       "    }\n",
       "\n",
       "    .dataframe tbody tr th {\n",
       "        vertical-align: top;\n",
       "    }\n",
       "\n",
       "    .dataframe thead th {\n",
       "        text-align: right;\n",
       "    }\n",
       "</style>\n",
       "<table border=\"1\" class=\"dataframe\">\n",
       "  <thead>\n",
       "    <tr style=\"text-align: right;\">\n",
       "      <th></th>\n",
       "      <th>CRIM</th>\n",
       "      <th>ZN</th>\n",
       "      <th>INDUS</th>\n",
       "      <th>CHAS</th>\n",
       "      <th>NOX</th>\n",
       "      <th>RM</th>\n",
       "      <th>AGE</th>\n",
       "      <th>DIS</th>\n",
       "      <th>RAD</th>\n",
       "      <th>TAX</th>\n",
       "      <th>PTRATIO</th>\n",
       "      <th>B</th>\n",
       "      <th>LSTAT</th>\n",
       "      <th>MEDV</th>\n",
       "    </tr>\n",
       "  </thead>\n",
       "  <tbody>\n",
       "    <tr>\n",
       "      <th>351</th>\n",
       "      <td>0.07950</td>\n",
       "      <td>60.0</td>\n",
       "      <td>1.69</td>\n",
       "      <td>0.0</td>\n",
       "      <td>0.411</td>\n",
       "      <td>6.579</td>\n",
       "      <td>35.9</td>\n",
       "      <td>10.7103</td>\n",
       "      <td>4.0</td>\n",
       "      <td>411.0</td>\n",
       "      <td>18.3</td>\n",
       "      <td>370.78</td>\n",
       "      <td>5.49</td>\n",
       "      <td>24.1</td>\n",
       "    </tr>\n",
       "    <tr>\n",
       "      <th>352</th>\n",
       "      <td>0.07244</td>\n",
       "      <td>60.0</td>\n",
       "      <td>1.69</td>\n",
       "      <td>0.0</td>\n",
       "      <td>0.411</td>\n",
       "      <td>5.884</td>\n",
       "      <td>18.5</td>\n",
       "      <td>10.7103</td>\n",
       "      <td>4.0</td>\n",
       "      <td>411.0</td>\n",
       "      <td>18.3</td>\n",
       "      <td>392.33</td>\n",
       "      <td>7.79</td>\n",
       "      <td>18.6</td>\n",
       "    </tr>\n",
       "    <tr>\n",
       "      <th>353</th>\n",
       "      <td>0.01709</td>\n",
       "      <td>90.0</td>\n",
       "      <td>2.02</td>\n",
       "      <td>0.0</td>\n",
       "      <td>0.410</td>\n",
       "      <td>6.728</td>\n",
       "      <td>36.1</td>\n",
       "      <td>12.1265</td>\n",
       "      <td>5.0</td>\n",
       "      <td>187.0</td>\n",
       "      <td>17.0</td>\n",
       "      <td>384.46</td>\n",
       "      <td>4.50</td>\n",
       "      <td>30.1</td>\n",
       "    </tr>\n",
       "    <tr>\n",
       "      <th>354</th>\n",
       "      <td>0.04301</td>\n",
       "      <td>80.0</td>\n",
       "      <td>1.91</td>\n",
       "      <td>0.0</td>\n",
       "      <td>0.413</td>\n",
       "      <td>5.663</td>\n",
       "      <td>21.9</td>\n",
       "      <td>10.5857</td>\n",
       "      <td>4.0</td>\n",
       "      <td>334.0</td>\n",
       "      <td>22.0</td>\n",
       "      <td>382.80</td>\n",
       "      <td>8.05</td>\n",
       "      <td>18.2</td>\n",
       "    </tr>\n",
       "    <tr>\n",
       "      <th>355</th>\n",
       "      <td>0.10659</td>\n",
       "      <td>80.0</td>\n",
       "      <td>1.91</td>\n",
       "      <td>0.0</td>\n",
       "      <td>0.413</td>\n",
       "      <td>5.936</td>\n",
       "      <td>19.5</td>\n",
       "      <td>10.5857</td>\n",
       "      <td>4.0</td>\n",
       "      <td>334.0</td>\n",
       "      <td>22.0</td>\n",
       "      <td>376.04</td>\n",
       "      <td>5.57</td>\n",
       "      <td>20.6</td>\n",
       "    </tr>\n",
       "  </tbody>\n",
       "</table>\n",
       "</div>"
      ],
      "text/plain": [
       "        CRIM    ZN  INDUS  CHAS    NOX     RM   AGE      DIS  RAD    TAX  \\\n",
       "351  0.07950  60.0   1.69   0.0  0.411  6.579  35.9  10.7103  4.0  411.0   \n",
       "352  0.07244  60.0   1.69   0.0  0.411  5.884  18.5  10.7103  4.0  411.0   \n",
       "353  0.01709  90.0   2.02   0.0  0.410  6.728  36.1  12.1265  5.0  187.0   \n",
       "354  0.04301  80.0   1.91   0.0  0.413  5.663  21.9  10.5857  4.0  334.0   \n",
       "355  0.10659  80.0   1.91   0.0  0.413  5.936  19.5  10.5857  4.0  334.0   \n",
       "\n",
       "     PTRATIO       B  LSTAT  MEDV  \n",
       "351     18.3  370.78   5.49  24.1  \n",
       "352     18.3  392.33   7.79  18.6  \n",
       "353     17.0  384.46   4.50  30.1  \n",
       "354     22.0  382.80   8.05  18.2  \n",
       "355     22.0  376.04   5.57  20.6  "
      ]
     },
     "execution_count": 51,
     "metadata": {},
     "output_type": "execute_result"
    }
   ],
   "source": [
    "upper_boston_df = boston_df[boston_df[\"DIS\"].values > upper_range]\n",
    "upper_boston_df\n"
   ]
  },
  {
   "cell_type": "markdown",
   "metadata": {
    "id": "PpnyCL67MNz7"
   },
   "source": [
    "#### **Observations:**\n",
    "\n",
    "- There are no rows that are lesser than the lower range, but there are five rows that are greater than our upper range"
   ]
  },
  {
   "cell_type": "code",
   "execution_count": null,
   "metadata": {
    "colab": {
     "base_uri": "https://localhost:8080/"
    },
    "executionInfo": {
     "elapsed": 5792,
     "status": "ok",
     "timestamp": 1620798410544,
     "user": {
      "displayName": "Nishant Singh",
      "photoUrl": "https://lh3.googleusercontent.com/a-/AOh14GjUQCrk-faKBPHBYQ7dZiV7cSiHeQ0NWSVihFrxwA=s64",
      "userId": "15030016934842181675"
     },
     "user_tz": -330
    },
    "id": "v7X1TwHtCK64",
    "outputId": "8e74885a-a9ae-47a2-be85-3c1be7947c22"
   },
   "outputs": [
    {
     "name": "stdout",
     "output_type": "stream",
     "text": [
      "Total Number of Outliers: 5\n"
     ]
    }
   ],
   "source": [
    "\n",
    "lower_outliers = lower_boston_df.value_counts().sum(axis=0)\n",
    "upper_outliers = upper_boston_df.value_counts().sum(axis=0)\n",
    "total_outliers = lower_outliers + upper_outliers\n",
    "\n",
    "print(\"Total Number of Outliers:\",total_outliers)"
   ]
  },
  {
   "cell_type": "markdown",
   "metadata": {
    "id": "cuiolbA8MNz8"
   },
   "source": [
    "#### **Observation:**\n",
    "\n",
    "- With the given code, we are summing up the total number of outlier rows"
   ]
  },
  {
   "cell_type": "markdown",
   "metadata": {
    "id": "dGfjprg4MNz8"
   },
   "source": [
    "### **Let us list down the row numbers that contain outliers:**"
   ]
  },
  {
   "cell_type": "code",
   "execution_count": null,
   "metadata": {
    "colab": {
     "base_uri": "https://localhost:8080/"
    },
    "executionInfo": {
     "elapsed": 5782,
     "status": "ok",
     "timestamp": 1620798410548,
     "user": {
      "displayName": "Nishant Singh",
      "photoUrl": "https://lh3.googleusercontent.com/a-/AOh14GjUQCrk-faKBPHBYQ7dZiV7cSiHeQ0NWSVihFrxwA=s64",
      "userId": "15030016934842181675"
     },
     "user_tz": -330
    },
    "id": "uDLlpndPSQJ8",
    "outputId": "50edc247-a24f-4e23-8e39-cc5042f0a3df"
   },
   "outputs": [
    {
     "name": "stdout",
     "output_type": "stream",
     "text": [
      "[351, 352, 353, 354, 355]\n"
     ]
    }
   ],
   "source": [
    "\n",
    "lower_index = list(boston_df[ boston_df['DIS'] < lower_range ].index)\n",
    "\n",
    "upper_index = list(boston_df[ boston_df['DIS'] > upper_range ].index)\n",
    "\n",
    "total_index = list(lower_index + upper_index)\n",
    "\n",
    "print(total_index)\n"
   ]
  },
  {
   "cell_type": "markdown",
   "metadata": {
    "id": "4Vu2hkAkMNz9"
   },
   "source": [
    "### **Drop the outlier rows**"
   ]
  },
  {
   "cell_type": "code",
   "execution_count": null,
   "metadata": {
    "colab": {
     "base_uri": "https://localhost:8080/"
    },
    "executionInfo": {
     "elapsed": 5770,
     "status": "ok",
     "timestamp": 1620798410549,
     "user": {
      "displayName": "Nishant Singh",
      "photoUrl": "https://lh3.googleusercontent.com/a-/AOh14GjUQCrk-faKBPHBYQ7dZiV7cSiHeQ0NWSVihFrxwA=s64",
      "userId": "15030016934842181675"
     },
     "user_tz": -330
    },
    "id": "PegQERafVxcG",
    "outputId": "fa84a7dd-2e5e-4d53-d381-9d033ec49b5a"
   },
   "outputs": [
    {
     "name": "stdout",
     "output_type": "stream",
     "text": [
      "Shape Before Dropping Outlier Rows: (506, 14)\n",
      "Shape After Dropping Outlier Rows: (501, 14)\n"
     ]
    }
   ],
   "source": [
    "print(\"Shape Before Dropping Outlier Rows:\", boston_df.shape)\n",
    "\n",
    "boston_df.drop(total_index, inplace = True)\n",
    "\n",
    "print(\"Shape After Dropping Outlier Rows:\", boston_df.shape)"
   ]
  },
  {
   "cell_type": "markdown",
   "metadata": {
    "id": "LIhMC6SEMNz-"
   },
   "source": [
    "#### **Observation:**\n",
    "\n",
    "- In the given code, we checked the shape of the dataset before and after dropping outliers rows\n",
    "\n",
    "- You can see that the rows before dropping the outliers were 506 and after dropping it became 501. Thus, we have successfully dropped the unwanted rows"
   ]
  },
  {
   "cell_type": "code",
   "execution_count": null,
   "metadata": {
    "colab": {
     "base_uri": "https://localhost:8080/"
    },
    "executionInfo": {
     "elapsed": 5758,
     "status": "ok",
     "timestamp": 1620798410550,
     "user": {
      "displayName": "Nishant Singh",
      "photoUrl": "https://lh3.googleusercontent.com/a-/AOh14GjUQCrk-faKBPHBYQ7dZiV7cSiHeQ0NWSVihFrxwA=s64",
      "userId": "15030016934842181675"
     },
     "user_tz": -330
    },
    "id": "XtSKhkIZ4EN7",
    "outputId": "e7d48939-1a17-4503-d20f-2aa0d20c4c35"
   },
   "outputs": [
    {
     "name": "stdout",
     "output_type": "stream",
     "text": [
      "CRIM         3.648951\n",
      "ZN          10.738523\n",
      "INDUS       11.229521\n",
      "CHAS         0.069860\n",
      "NOX          0.556123\n",
      "RM           6.285898\n",
      "AGE         68.996008\n",
      "DIS          3.723699\n",
      "RAD          9.602794\n",
      "TAX        408.964072\n",
      "PTRATIO     18.444910\n",
      "B          356.428443\n",
      "LSTAT       12.716667\n",
      "MEDV        22.534930\n",
      "dtype: float64\n"
     ]
    }
   ],
   "source": [
    "print(boston_df.mean())"
   ]
  },
  {
   "cell_type": "markdown",
   "metadata": {
    "id": "9_QZ9eI48GYa"
   },
   "source": [
    "### **Let's check the skewness of the data**\n",
    "\n",
    "- Skewness is a way of checking the outliers' position in the dataset. If the data is right-skewed, it means that most of the outliers are at the right side of the distribution and vice-versa."
   ]
  },
  {
   "cell_type": "code",
   "execution_count": null,
   "metadata": {
    "colab": {
     "base_uri": "https://localhost:8080/"
    },
    "executionInfo": {
     "elapsed": 5746,
     "status": "ok",
     "timestamp": 1620798410551,
     "user": {
      "displayName": "Nishant Singh",
      "photoUrl": "https://lh3.googleusercontent.com/a-/AOh14GjUQCrk-faKBPHBYQ7dZiV7cSiHeQ0NWSVihFrxwA=s64",
      "userId": "15030016934842181675"
     },
     "user_tz": -330
    },
    "id": "vyBqCDds5st5",
    "outputId": "c345840b-81ca-4eb2-c972-f3949a1233ff"
   },
   "outputs": [
    {
     "data": {
      "text/plain": [
       "CRIM       5.199083\n",
       "ZN         2.333143\n",
       "INDUS      0.286236\n",
       "CHAS       3.384961\n",
       "NOX        0.724482\n",
       "RM         0.399880\n",
       "AGE       -0.624705\n",
       "DIS        0.843752\n",
       "RAD        0.989519\n",
       "TAX        0.662769\n",
       "PTRATIO   -0.814678\n",
       "B         -2.871741\n",
       "LSTAT      0.894723\n",
       "MEDV       1.105009\n",
       "dtype: float64"
      ]
     },
     "execution_count": 56,
     "metadata": {},
     "output_type": "execute_result"
    }
   ],
   "source": [
    "boston_df.skew(axis = 0, skipna = True)"
   ]
  },
  {
   "cell_type": "code",
   "execution_count": null,
   "metadata": {
    "colab": {
     "base_uri": "https://localhost:8080/",
     "height": 282
    },
    "executionInfo": {
     "elapsed": 5731,
     "status": "ok",
     "timestamp": 1620798410553,
     "user": {
      "displayName": "Nishant Singh",
      "photoUrl": "https://lh3.googleusercontent.com/a-/AOh14GjUQCrk-faKBPHBYQ7dZiV7cSiHeQ0NWSVihFrxwA=s64",
      "userId": "15030016934842181675"
     },
     "user_tz": -330
    },
    "id": "NdEK0VPA5ONd",
    "outputId": "551adde5-2ad0-4aab-a9a6-e071e0cf531d"
   },
   "outputs": [
    {
     "data": {
      "text/plain": [
       "<AxesSubplot:>"
      ]
     },
     "execution_count": 57,
     "metadata": {},
     "output_type": "execute_result"
    },
    {
     "data": {
      "image/png": "[encoded data removed]",
      "text/plain": [
       "<Figure size 432x288 with 1 Axes>"
      ]
     },
     "metadata": {
      "needs_background": "light"
     },
     "output_type": "display_data"
    }
   ],
   "source": [
    "boston_df.skew(axis = 0, skipna = True).plot()"
   ]
  },
  {
   "cell_type": "markdown",
   "metadata": {
    "id": "UaKDb3GoXx2X"
   },
   "source": [
    "## **Correlation**\n",
    "\n",
    "- Correlation is a statistical term that refers to how close two variables are to form a linear relationship with one another.\n",
    "\n",
    "- High correlation features are more linearly dependent and therefore have almost the same effect on the dependent variable. When two features have a high correlation, we can drop one of them."
   ]
  },
  {
   "cell_type": "code",
   "execution_count": null,
   "metadata": {
    "colab": {
     "base_uri": "https://localhost:8080/",
     "height": 483
    },
    "executionInfo": {
     "elapsed": 5715,
     "status": "ok",
     "timestamp": 1620798410554,
     "user": {
      "displayName": "Nishant Singh",
      "photoUrl": "https://lh3.googleusercontent.com/a-/AOh14GjUQCrk-faKBPHBYQ7dZiV7cSiHeQ0NWSVihFrxwA=s64",
      "userId": "15030016934842181675"
     },
     "user_tz": -330
    },
    "id": "F7aaeBCU6c4X",
    "outputId": "04842970-de99-4d99-856c-a050d489b758"
   },
   "outputs": [
    {
     "data": {
      "text/html": [
       "<div>\n",
       "<style scoped>\n",
       "    .dataframe tbody tr th:only-of-type {\n",
       "        vertical-align: middle;\n",
       "    }\n",
       "\n",
       "    .dataframe tbody tr th {\n",
       "        vertical-align: top;\n",
       "    }\n",
       "\n",
       "    .dataframe thead th {\n",
       "        text-align: right;\n",
       "    }\n",
       "</style>\n",
       "<table border=\"1\" class=\"dataframe\">\n",
       "  <thead>\n",
       "    <tr style=\"text-align: right;\">\n",
       "      <th></th>\n",
       "      <th>CRIM</th>\n",
       "      <th>ZN</th>\n",
       "      <th>INDUS</th>\n",
       "      <th>CHAS</th>\n",
       "      <th>NOX</th>\n",
       "      <th>RM</th>\n",
       "      <th>AGE</th>\n",
       "      <th>DIS</th>\n",
       "      <th>RAD</th>\n",
       "      <th>TAX</th>\n",
       "      <th>PTRATIO</th>\n",
       "      <th>B</th>\n",
       "      <th>LSTAT</th>\n",
       "      <th>MEDV</th>\n",
       "    </tr>\n",
       "  </thead>\n",
       "  <tbody>\n",
       "    <tr>\n",
       "      <th>CRIM</th>\n",
       "      <td>1.000000</td>\n",
       "      <td>-0.197045</td>\n",
       "      <td>0.405070</td>\n",
       "      <td>-0.057085</td>\n",
       "      <td>0.419441</td>\n",
       "      <td>-0.220593</td>\n",
       "      <td>0.350953</td>\n",
       "      <td>-0.389244</td>\n",
       "      <td>0.624689</td>\n",
       "      <td>0.582689</td>\n",
       "      <td>0.293911</td>\n",
       "      <td>-0.384430</td>\n",
       "      <td>0.454222</td>\n",
       "      <td>-0.389168</td>\n",
       "    </tr>\n",
       "    <tr>\n",
       "      <th>ZN</th>\n",
       "      <td>-0.197045</td>\n",
       "      <td>1.000000</td>\n",
       "      <td>-0.522068</td>\n",
       "      <td>-0.036798</td>\n",
       "      <td>-0.506471</td>\n",
       "      <td>0.329664</td>\n",
       "      <td>-0.556961</td>\n",
       "      <td>0.632905</td>\n",
       "      <td>-0.307898</td>\n",
       "      <td>-0.313254</td>\n",
       "      <td>-0.424341</td>\n",
       "      <td>0.174996</td>\n",
       "      <td>-0.405733</td>\n",
       "      <td>0.374678</td>\n",
       "    </tr>\n",
       "    <tr>\n",
       "      <th>INDUS</th>\n",
       "      <td>0.405070</td>\n",
       "      <td>-0.522068</td>\n",
       "      <td>1.000000</td>\n",
       "      <td>0.059823</td>\n",
       "      <td>0.759689</td>\n",
       "      <td>-0.398559</td>\n",
       "      <td>0.637736</td>\n",
       "      <td>-0.710742</td>\n",
       "      <td>0.593388</td>\n",
       "      <td>0.723164</td>\n",
       "      <td>0.395794</td>\n",
       "      <td>-0.356755</td>\n",
       "      <td>0.599738</td>\n",
       "      <td>-0.489142</td>\n",
       "    </tr>\n",
       "    <tr>\n",
       "      <th>CHAS</th>\n",
       "      <td>-0.057085</td>\n",
       "      <td>-0.036798</td>\n",
       "      <td>0.059823</td>\n",
       "      <td>1.000000</td>\n",
       "      <td>0.088550</td>\n",
       "      <td>0.090968</td>\n",
       "      <td>0.083442</td>\n",
       "      <td>-0.095687</td>\n",
       "      <td>-0.009062</td>\n",
       "      <td>-0.036855</td>\n",
       "      <td>-0.120921</td>\n",
       "      <td>0.049561</td>\n",
       "      <td>-0.056617</td>\n",
       "      <td>0.175463</td>\n",
       "    </tr>\n",
       "    <tr>\n",
       "      <th>NOX</th>\n",
       "      <td>0.419441</td>\n",
       "      <td>-0.506471</td>\n",
       "      <td>0.759689</td>\n",
       "      <td>0.088550</td>\n",
       "      <td>1.000000</td>\n",
       "      <td>-0.307300</td>\n",
       "      <td>0.726982</td>\n",
       "      <td>-0.779518</td>\n",
       "      <td>0.609673</td>\n",
       "      <td>0.669190</td>\n",
       "      <td>0.197554</td>\n",
       "      <td>-0.379776</td>\n",
       "      <td>0.586774</td>\n",
       "      <td>-0.431362</td>\n",
       "    </tr>\n",
       "    <tr>\n",
       "      <th>RM</th>\n",
       "      <td>-0.220593</td>\n",
       "      <td>0.329664</td>\n",
       "      <td>-0.398559</td>\n",
       "      <td>0.090968</td>\n",
       "      <td>-0.307300</td>\n",
       "      <td>1.000000</td>\n",
       "      <td>-0.247881</td>\n",
       "      <td>0.223962</td>\n",
       "      <td>-0.211945</td>\n",
       "      <td>-0.292789</td>\n",
       "      <td>-0.352913</td>\n",
       "      <td>0.129013</td>\n",
       "      <td>-0.618199</td>\n",
       "      <td>0.694797</td>\n",
       "    </tr>\n",
       "    <tr>\n",
       "      <th>AGE</th>\n",
       "      <td>0.350953</td>\n",
       "      <td>-0.556961</td>\n",
       "      <td>0.637736</td>\n",
       "      <td>0.083442</td>\n",
       "      <td>0.726982</td>\n",
       "      <td>-0.247881</td>\n",
       "      <td>1.000000</td>\n",
       "      <td>-0.750649</td>\n",
       "      <td>0.452882</td>\n",
       "      <td>0.507512</td>\n",
       "      <td>0.275461</td>\n",
       "      <td>-0.272692</td>\n",
       "      <td>0.598830</td>\n",
       "      <td>-0.383383</td>\n",
       "    </tr>\n",
       "    <tr>\n",
       "      <th>DIS</th>\n",
       "      <td>-0.389244</td>\n",
       "      <td>0.632905</td>\n",
       "      <td>-0.710742</td>\n",
       "      <td>-0.095687</td>\n",
       "      <td>-0.779518</td>\n",
       "      <td>0.223962</td>\n",
       "      <td>-0.750649</td>\n",
       "      <td>1.000000</td>\n",
       "      <td>-0.504962</td>\n",
       "      <td>-0.552740</td>\n",
       "      <td>-0.264611</td>\n",
       "      <td>0.300387</td>\n",
       "      <td>-0.498097</td>\n",
       "      <td>0.265689</td>\n",
       "    </tr>\n",
       "    <tr>\n",
       "      <th>RAD</th>\n",
       "      <td>0.624689</td>\n",
       "      <td>-0.307898</td>\n",
       "      <td>0.593388</td>\n",
       "      <td>-0.009062</td>\n",
       "      <td>0.609673</td>\n",
       "      <td>-0.211945</td>\n",
       "      <td>0.452882</td>\n",
       "      <td>-0.504962</td>\n",
       "      <td>1.000000</td>\n",
       "      <td>0.911417</td>\n",
       "      <td>0.471650</td>\n",
       "      <td>-0.443783</td>\n",
       "      <td>0.486202</td>\n",
       "      <td>-0.383126</td>\n",
       "    </tr>\n",
       "    <tr>\n",
       "      <th>TAX</th>\n",
       "      <td>0.582689</td>\n",
       "      <td>-0.313254</td>\n",
       "      <td>0.723164</td>\n",
       "      <td>-0.036855</td>\n",
       "      <td>0.669190</td>\n",
       "      <td>-0.292789</td>\n",
       "      <td>0.507512</td>\n",
       "      <td>-0.552740</td>\n",
       "      <td>0.911417</td>\n",
       "      <td>1.000000</td>\n",
       "      <td>0.465659</td>\n",
       "      <td>-0.441691</td>\n",
       "      <td>0.543021</td>\n",
       "      <td>-0.468504</td>\n",
       "    </tr>\n",
       "    <tr>\n",
       "      <th>PTRATIO</th>\n",
       "      <td>0.293911</td>\n",
       "      <td>-0.424341</td>\n",
       "      <td>0.395794</td>\n",
       "      <td>-0.120921</td>\n",
       "      <td>0.197554</td>\n",
       "      <td>-0.352913</td>\n",
       "      <td>0.275461</td>\n",
       "      <td>-0.264611</td>\n",
       "      <td>0.471650</td>\n",
       "      <td>0.465659</td>\n",
       "      <td>1.000000</td>\n",
       "      <td>-0.179641</td>\n",
       "      <td>0.381429</td>\n",
       "      <td>-0.508040</td>\n",
       "    </tr>\n",
       "    <tr>\n",
       "      <th>B</th>\n",
       "      <td>-0.384430</td>\n",
       "      <td>0.174996</td>\n",
       "      <td>-0.356755</td>\n",
       "      <td>0.049561</td>\n",
       "      <td>-0.379776</td>\n",
       "      <td>0.129013</td>\n",
       "      <td>-0.272692</td>\n",
       "      <td>0.300387</td>\n",
       "      <td>-0.443783</td>\n",
       "      <td>-0.441691</td>\n",
       "      <td>-0.179641</td>\n",
       "      <td>1.000000</td>\n",
       "      <td>-0.365431</td>\n",
       "      <td>0.334114</td>\n",
       "    </tr>\n",
       "    <tr>\n",
       "      <th>LSTAT</th>\n",
       "      <td>0.454222</td>\n",
       "      <td>-0.405733</td>\n",
       "      <td>0.599738</td>\n",
       "      <td>-0.056617</td>\n",
       "      <td>0.586774</td>\n",
       "      <td>-0.618199</td>\n",
       "      <td>0.598830</td>\n",
       "      <td>-0.498097</td>\n",
       "      <td>0.486202</td>\n",
       "      <td>0.543021</td>\n",
       "      <td>0.381429</td>\n",
       "      <td>-0.365431</td>\n",
       "      <td>1.000000</td>\n",
       "      <td>-0.740998</td>\n",
       "    </tr>\n",
       "    <tr>\n",
       "      <th>MEDV</th>\n",
       "      <td>-0.389168</td>\n",
       "      <td>0.374678</td>\n",
       "      <td>-0.489142</td>\n",
       "      <td>0.175463</td>\n",
       "      <td>-0.431362</td>\n",
       "      <td>0.694797</td>\n",
       "      <td>-0.383383</td>\n",
       "      <td>0.265689</td>\n",
       "      <td>-0.383126</td>\n",
       "      <td>-0.468504</td>\n",
       "      <td>-0.508040</td>\n",
       "      <td>0.334114</td>\n",
       "      <td>-0.740998</td>\n",
       "      <td>1.000000</td>\n",
       "    </tr>\n",
       "  </tbody>\n",
       "</table>\n",
       "</div>"
      ],
      "text/plain": [
       "             CRIM        ZN     INDUS      CHAS       NOX        RM       AGE  \\\n",
       "CRIM     1.000000 -0.197045  0.405070 -0.057085  0.419441 -0.220593  0.350953   \n",
       "ZN      -0.197045  1.000000 -0.522068 -0.036798 -0.506471  0.329664 -0.556961   \n",
       "INDUS    0.405070 -0.522068  1.000000  0.059823  0.759689 -0.398559  0.637736   \n",
       "CHAS    -0.057085 -0.036798  0.059823  1.000000  0.088550  0.090968  0.083442   \n",
       "NOX      0.419441 -0.506471  0.759689  0.088550  1.000000 -0.307300  0.726982   \n",
       "RM      -0.220593  0.329664 -0.398559  0.090968 -0.307300  1.000000 -0.247881   \n",
       "AGE      0.350953 -0.556961  0.637736  0.083442  0.726982 -0.247881  1.000000   \n",
       "DIS     -0.389244  0.632905 -0.710742 -0.095687 -0.779518  0.223962 -0.750649   \n",
       "RAD      0.624689 -0.307898  0.593388 -0.009062  0.609673 -0.211945  0.452882   \n",
       "TAX      0.582689 -0.313254  0.723164 -0.036855  0.669190 -0.292789  0.507512   \n",
       "PTRATIO  0.293911 -0.424341  0.395794 -0.120921  0.197554 -0.352913  0.275461   \n",
       "B       -0.384430  0.174996 -0.356755  0.049561 -0.379776  0.129013 -0.272692   \n",
       "LSTAT    0.454222 -0.405733  0.599738 -0.056617  0.586774 -0.618199  0.598830   \n",
       "MEDV    -0.389168  0.374678 -0.489142  0.175463 -0.431362  0.694797 -0.383383   \n",
       "\n",
       "              DIS       RAD       TAX   PTRATIO         B     LSTAT      MEDV  \n",
       "CRIM    -0.389244  0.624689  0.582689  0.293911 -0.384430  0.454222 -0.389168  \n",
       "ZN       0.632905 -0.307898 -0.313254 -0.424341  0.174996 -0.405733  0.374678  \n",
       "INDUS   -0.710742  0.593388  0.723164  0.395794 -0.356755  0.599738 -0.489142  \n",
       "CHAS    -0.095687 -0.009062 -0.036855 -0.120921  0.049561 -0.056617  0.175463  \n",
       "NOX     -0.779518  0.609673  0.669190  0.197554 -0.379776  0.586774 -0.431362  \n",
       "RM       0.223962 -0.211945 -0.292789 -0.352913  0.129013 -0.618199  0.694797  \n",
       "AGE     -0.750649  0.452882  0.507512  0.275461 -0.272692  0.598830 -0.383383  \n",
       "DIS      1.000000 -0.504962 -0.552740 -0.264611  0.300387 -0.498097  0.265689  \n",
       "RAD     -0.504962  1.000000  0.911417  0.471650 -0.443783  0.486202 -0.383126  \n",
       "TAX     -0.552740  0.911417  1.000000  0.465659 -0.441691  0.543021 -0.468504  \n",
       "PTRATIO -0.264611  0.471650  0.465659  1.000000 -0.179641  0.381429 -0.508040  \n",
       "B        0.300387 -0.443783 -0.441691 -0.179641  1.000000 -0.365431  0.334114  \n",
       "LSTAT   -0.498097  0.486202  0.543021  0.381429 -0.365431  1.000000 -0.740998  \n",
       "MEDV     0.265689 -0.383126 -0.468504 -0.508040  0.334114 -0.740998  1.000000  "
      ]
     },
     "execution_count": 58,
     "metadata": {},
     "output_type": "execute_result"
    }
   ],
   "source": [
    "pearsoncorr = boston_df.corr(method='pearson')\n",
    "pearsoncorr"
   ]
  },
  {
   "cell_type": "markdown",
   "metadata": {
    "id": "z22hLPXZdIR2"
   },
   "source": [
    "#### **Observations:**\n",
    "\n",
    "\n",
    "*   The correlation coefficient value lies between -1 to +1.\n",
    "*   The attributes closer to 1 are more positively correlated.\n",
    "*   Values close to -1 are more negatively correlated.\n",
    "*   We can see more detail about correlation in Heatmap with a better visualization."
   ]
  },
  {
   "cell_type": "markdown",
   "metadata": {
    "id": "zfzfQlVnVjZZ"
   },
   "source": [
    "\n",
    "## **Pearson Coefficient**\n",
    "\n",
    "- The Pearson coefficient is a measure of the intensity and direction of a linear relationship between two variables that allows no assumptions about causality. It represents correlation rather than causation and has a scale of +1 to -1, with +1 representing a positive correlation, -1 representing a negative correlation, and 0 representing no relationship.\n",
    "\n",
    "### **Pearson Correlation Calculation**\n",
    "\n",
    "We use **method = pearson** for the **boston_df.corr** for calculating the pearson coefficient of correlation."
   ]
  },
  {
   "cell_type": "code",
   "execution_count": null,
   "metadata": {
    "colab": {
     "base_uri": "https://localhost:8080/",
     "height": 838
    },
    "executionInfo": {
     "elapsed": 7893,
     "status": "ok",
     "timestamp": 1620798412749,
     "user": {
      "displayName": "Nishant Singh",
      "photoUrl": "https://lh3.googleusercontent.com/a-/AOh14GjUQCrk-faKBPHBYQ7dZiV7cSiHeQ0NWSVihFrxwA=s64",
      "userId": "15030016934842181675"
     },
     "user_tz": -330
    },
    "id": "E_q3_6sFE_iA",
    "outputId": "02ab916f-a2f3-4984-f979-e8cdfa68b0c9",
    "scrolled": true
   },
   "outputs": [
    {
     "data": {
      "text/plain": [
       "<AxesSubplot:>"
      ]
     },
     "execution_count": 59,
     "metadata": {},
     "output_type": "execute_result"
    },
    {
     "data": {
      "image/png": "[encoded data removed]",
      "text/plain": [
       "<Figure size 1000x1000 with 2 Axes>"
      ]
     },
     "metadata": {
      "needs_background": "light"
     },
     "output_type": "display_data"
    }
   ],
   "source": [
    "import matplotlib.pyplot as plt\n",
    "import seaborn as sns\n",
    "%matplotlib inline\n",
    "\n",
    "plt.figure(figsize= (10,10), dpi=100)\n",
    "#sns.heatmap(boston_df.corr(), annot=True)\n",
    "sns.heatmap(pearsoncorr,\n",
    "xticklabels=pearsoncorr.columns,\n",
    "yticklabels=pearsoncorr.columns,\n",
    "annot=True,\n",
    "linewidth=0.5)"
   ]
  },
  {
   "cell_type": "markdown",
   "metadata": {
    "id": "MUJ3Vg8_jes-"
   },
   "source": [
    "## **Heatmap Observations:**\n",
    "\n",
    "- Each square represents the correlation between the variables on each axis, ranging from -1 to +1.\n",
    "\n",
    "- There is no linear relationship between the two variables when the values are close to zero.\n",
    "\n",
    "- The attributes closer to 1 are more positively correlated. If one increases, so does the other, and the closer they are to 1, the stronger their relationship.\n",
    "\n",
    "- Values close to -1 are more negatively correlated. When one increases, the other decreases, and the closer they are to -1, the weaker their relationship.\n",
    "\n",
    "- The diagonals are all 1 (light peach in color), as the squares are correlating each variable to itself (so it's a perfect correlation).\n",
    "\n",
    "- For the others, the larger the number and brighter the color, the stronger is the correlation between the two variables.\n",
    "\n",
    "- Since the same two variables are paired together in squares of the diagonal, the plot is therefore symmetrical around it."
   ]
  },
  {
   "cell_type": "code",
   "execution_count": null,
   "metadata": {
    "colab": {
     "base_uri": "https://localhost:8080/"
    },
    "executionInfo": {
     "elapsed": 7883,
     "status": "ok",
     "timestamp": 1620798412753,
     "user": {
      "displayName": "Nishant Singh",
      "photoUrl": "https://lh3.googleusercontent.com/a-/AOh14GjUQCrk-faKBPHBYQ7dZiV7cSiHeQ0NWSVihFrxwA=s64",
      "userId": "15030016934842181675"
     },
     "user_tz": -330
    },
    "id": "bWJV_jCA7xAd",
    "outputId": "28a0b862-765f-4321-aa58-043fb1a8a00a"
   },
   "outputs": [
    {
     "data": {
      "text/plain": [
       "RM         0.694797\n",
       "PTRATIO    0.508040\n",
       "LSTAT      0.740998\n",
       "MEDV       1.000000\n",
       "Name: MEDV, dtype: float64"
      ]
     },
     "execution_count": 60,
     "metadata": {},
     "output_type": "execute_result"
    }
   ],
   "source": [
    "#Correlation with output variable\n",
    "cor_target = abs(pearsoncorr[\"MEDV\"]) #Selecting highly correlated features\n",
    "relevant_features = cor_target[cor_target>0.5]\n",
    "relevant_features"
   ]
  },
  {
   "cell_type": "markdown",
   "metadata": {
    "id": "vx2avBwvVTAb"
   },
   "source": [
    "## **Relative feature observations**\n",
    "\n",
    "- The features RM, PTRATIO, and LSTAT are strongly correlated with the output variable MEDV (target variable) per above analysis. \n",
    "\n",
    "- As a result, we will remove all other features except these. \n",
    "\n",
    "- However, one of the assumptions of linear regression is that the independent variables are not correlated to one another. \n",
    "\n",
    "- If these variables are correlated with one another, we can hold just one and discard the others."
   ]
  },
  {
   "cell_type": "code",
   "execution_count": null,
   "metadata": {
    "colab": {
     "base_uri": "https://localhost:8080/"
    },
    "executionInfo": {
     "elapsed": 7871,
     "status": "ok",
     "timestamp": 1620798412755,
     "user": {
      "displayName": "Nishant Singh",
      "photoUrl": "https://lh3.googleusercontent.com/a-/AOh14GjUQCrk-faKBPHBYQ7dZiV7cSiHeQ0NWSVihFrxwA=s64",
      "userId": "15030016934842181675"
     },
     "user_tz": -330
    },
    "id": "mQEHezcq9j69",
    "outputId": "e71efcd2-5e48-45c3-f5ee-eb07c933d5dd"
   },
   "outputs": [
    {
     "name": "stdout",
     "output_type": "stream",
     "text": [
      "            LSTAT   PTRATIO\n",
      "LSTAT    1.000000  0.381429\n",
      "PTRATIO  0.381429  1.000000\n",
      "\n",
      "               RM   PTRATIO\n",
      "RM       1.000000 -0.352913\n",
      "PTRATIO -0.352913  1.000000\n",
      "\n",
      "             RM     LSTAT\n",
      "RM     1.000000 -0.618199\n",
      "LSTAT -0.618199  1.000000\n"
     ]
    }
   ],
   "source": [
    "print(boston_df[[\"LSTAT\",\"PTRATIO\"]].corr())\n",
    "print()\n",
    "print(boston_df[[\"RM\",\"PTRATIO\"]].corr())\n",
    "print()\n",
    "print(boston_df[[\"RM\",\"LSTAT\"]].corr())"
   ]
  },
  {
   "cell_type": "markdown",
   "metadata": {
    "id": "NxcrJ0oC-G0l"
   },
   "source": [
    "## **Correlation observations:**\n",
    "\n",
    "- From the above analysis, it is visible that the variables LSTAT and RM are highly correlated with each other (-0.618199). Hence, we will keep only one variable and drop the other. We will keep LSTAT since its correlation with MEDV is higher than that of RM.\n",
    "\n",
    "- After **dropping RM**, we are left with two features, **LSTAT** and **PTRATIO**. These are the final features given by Pearson correlation."
   ]
  },
  {
   "cell_type": "code",
   "execution_count": null,
   "metadata": {
    "id": "qjaUqkTg_I9s"
   },
   "outputs": [],
   "source": [
    "boston_df.drop(columns = [\"RM\"], inplace = True)"
   ]
  },
  {
   "cell_type": "code",
   "execution_count": null,
   "metadata": {
    "colab": {
     "base_uri": "https://localhost:8080/"
    },
    "executionInfo": {
     "elapsed": 7852,
     "status": "ok",
     "timestamp": 1620798412757,
     "user": {
      "displayName": "Nishant Singh",
      "photoUrl": "https://lh3.googleusercontent.com/a-/AOh14GjUQCrk-faKBPHBYQ7dZiV7cSiHeQ0NWSVihFrxwA=s64",
      "userId": "15030016934842181675"
     },
     "user_tz": -330
    },
    "id": "VvLiEBHmNXW0",
    "outputId": "908bbbe5-e450-43ec-df41-c964dc8deaeb"
   },
   "outputs": [
    {
     "data": {
      "text/plain": [
       "Index(['CRIM', 'ZN', 'INDUS', 'CHAS', 'NOX', 'AGE', 'DIS', 'RAD', 'TAX',\n",
       "       'PTRATIO', 'B', 'LSTAT', 'MEDV'],\n",
       "      dtype='object')"
      ]
     },
     "execution_count": 63,
     "metadata": {},
     "output_type": "execute_result"
    }
   ],
   "source": [
    "boston_df.columns"
   ]
  },
  {
   "cell_type": "markdown",
   "metadata": {
    "id": "Yp1YvpSnFE0O"
   },
   "source": [
    "### **Multivariate Outlier Analysis**\n",
    "\n",
    "\n",
    "\n",
    "*   We will draw a scatter plot between `INDUS` and `TAX` columns to check how the values are placed\n",
    "*   We will see the dependency of one cloumn over other\n",
    "*   We will also see that some of the results do not match the patterns that others do, which we refer to as outliers\n",
    "\n"
   ]
  },
  {
   "cell_type": "code",
   "execution_count": null,
   "metadata": {
    "colab": {
     "base_uri": "https://localhost:8080/",
     "height": 497
    },
    "executionInfo": {
     "elapsed": 7841,
     "status": "ok",
     "timestamp": 1620798412759,
     "user": {
      "displayName": "Nishant Singh",
      "photoUrl": "https://lh3.googleusercontent.com/a-/AOh14GjUQCrk-faKBPHBYQ7dZiV7cSiHeQ0NWSVihFrxwA=s64",
      "userId": "15030016934842181675"
     },
     "user_tz": -330
    },
    "id": "WTdocrafFH60",
    "outputId": "7e24efc5-cb60-48f4-d6ba-d9bb31efdd20"
   },
   "outputs": [
    {
     "data": {
      "image/png": "[encoded data removed]",
      "text/plain": [
       "<Figure size 1152x576 with 1 Axes>"
      ]
     },
     "metadata": {
      "needs_background": "light"
     },
     "output_type": "display_data"
    }
   ],
   "source": [
    "fig, ax = plt.subplots(figsize=(16,8))\n",
    "ax.scatter(boston_df['INDUS'], boston_df['TAX'])\n",
    "ax.set_xlabel('Proportion of non-retail business acres per town')\n",
    "ax.set_ylabel('Full-value property-tax rate per $10,000')\n",
    "plt.show()"
   ]
  },
  {
   "cell_type": "markdown",
   "metadata": {
    "id": "nMVKL2lyMN0D"
   },
   "source": [
    "### **Outliers detection using Z-Score**\n",
    "\n",
    "- Z-score indicates how many standard deviations away a data point is\n",
    "\n",
    "- Standard deviation measures the amount of variation of a set of values from its mean\n",
    "\n",
    "- We can drop the rows which lie beyond our threshold, i.e., z=3"
   ]
  },
  {
   "cell_type": "code",
   "execution_count": null,
   "metadata": {
    "colab": {
     "base_uri": "https://localhost:8080/"
    },
    "executionInfo": {
     "elapsed": 7828,
     "status": "ok",
     "timestamp": 1620798412760,
     "user": {
      "displayName": "Nishant Singh",
      "photoUrl": "https://lh3.googleusercontent.com/a-/AOh14GjUQCrk-faKBPHBYQ7dZiV7cSiHeQ0NWSVihFrxwA=s64",
      "userId": "15030016934842181675"
     },
     "user_tz": -330
    },
    "id": "l5FFLbGQFMQ1",
    "outputId": "49899927-a73f-48c5-9f5a-9dc501fa705f"
   },
   "outputs": [
    {
     "name": "stdout",
     "output_type": "stream",
     "text": [
      "[[0.4221648  0.32239913 1.30704424 ... 0.44172158 1.08363554 0.15884649]\n",
      " [0.41973215 0.47677497 0.60952577 ... 0.44172158 0.5009655  0.10136743]\n",
      " [0.41973447 0.47677497 0.60952577 ... 0.39730009 1.21669721 1.31896687]\n",
      " ...\n",
      " [0.41585544 0.47677497 0.10264644 ... 0.44172158 0.9911927  0.14800424]\n",
      " [0.41019626 0.47677497 0.10264644 ... 0.404067   0.87353817 0.05799844]\n",
      " [0.41740265 0.47677497 0.10264644 ... 0.44172158 0.67744729 1.15306535]]\n"
     ]
    }
   ],
   "source": [
    "from scipy import stats\n",
    "import numpy as np\n",
    "z = np.abs(stats.zscore(boston_df))\n",
    "print(z)"
   ]
  },
  {
   "cell_type": "code",
   "execution_count": null,
   "metadata": {
    "colab": {
     "base_uri": "https://localhost:8080/"
    },
    "executionInfo": {
     "elapsed": 8435,
     "status": "ok",
     "timestamp": 1620798413381,
     "user": {
      "displayName": "Nishant Singh",
      "photoUrl": "https://lh3.googleusercontent.com/a-/AOh14GjUQCrk-faKBPHBYQ7dZiV7cSiHeQ0NWSVihFrxwA=s64",
      "userId": "15030016934842181675"
     },
     "user_tz": -330
    },
    "id": "LF_9_sLiFOPL",
    "outputId": "4bbe2345-0b48-470f-b141-c4cf96580e48"
   },
   "outputs": [
    {
     "data": {
      "text/plain": [
       "(501, 13)"
      ]
     },
     "execution_count": 66,
     "metadata": {},
     "output_type": "execute_result"
    }
   ],
   "source": [
    "z.shape"
   ]
  },
  {
   "cell_type": "markdown",
   "metadata": {
    "id": "RtGxwjLnjDhh"
   },
   "source": [
    "### **We will now print the rows whose z value is greater than the threshold**"
   ]
  },
  {
   "cell_type": "code",
   "execution_count": null,
   "metadata": {
    "colab": {
     "base_uri": "https://localhost:8080/"
    },
    "executionInfo": {
     "elapsed": 8422,
     "status": "ok",
     "timestamp": 1620798413382,
     "user": {
      "displayName": "Nishant Singh",
      "photoUrl": "https://lh3.googleusercontent.com/a-/AOh14GjUQCrk-faKBPHBYQ7dZiV7cSiHeQ0NWSVihFrxwA=s64",
      "userId": "15030016934842181675"
     },
     "user_tz": -330
    },
    "id": "N50FulNdFQG-",
    "outputId": "e2d0c262-f10c-4142-9e09-6842da0b0820"
   },
   "outputs": [
    {
     "name": "stdout",
     "output_type": "stream",
     "text": [
      "(array([ 55,  56,  57,  65,  66, 102, 141, 142, 152, 154, 155, 160, 162,\n",
      "       163, 195, 196, 197, 198, 199, 200, 201, 202, 203, 204, 208, 209,\n",
      "       210, 211, 212, 216, 218, 219, 220, 221, 222, 234, 236, 254, 255,\n",
      "       256, 269, 273, 274, 276, 277, 282, 283, 283, 284, 286, 290, 291,\n",
      "       292, 347, 348, 351, 352, 353, 358, 359, 364, 365, 367, 368, 369,\n",
      "       375, 393, 399, 400, 405, 405, 406, 407, 407, 409, 409, 410, 411,\n",
      "       413, 413, 414, 418, 419, 420, 421, 422, 422, 424, 426, 431, 432,\n",
      "       433, 440, 445, 449, 450, 451, 452, 461]), array([ 1,  1,  1,  1,  1, 10, 11,  3,  3,  3,  3,  3,  3,  3,  1,  1,  1,\n",
      "        1,  1,  1,  1,  1,  1,  1,  3,  3,  3,  3,  3,  3,  3,  3,  3,  3,\n",
      "        3,  3,  3,  1,  1,  1,  3,  3,  3,  3,  3,  3,  1,  3,  1,  1,  1,\n",
      "        1,  1,  1,  1,  3,  3,  3,  3,  3,  3,  3,  3, 11, 11,  0,  0,  0,\n",
      "        0,  0, 10, 10, 10, 11,  0, 11, 10, 10,  0, 10, 10, 10, 10, 10, 10,\n",
      "        0, 10, 10, 10, 10, 10, 10, 10, 10, 10, 10, 10, 10, 10]))\n"
     ]
    }
   ],
   "source": [
    "threshold = 3\n",
    "print(np.where(z > 3))"
   ]
  },
  {
   "cell_type": "code",
   "execution_count": null,
   "metadata": {
    "colab": {
     "base_uri": "https://localhost:8080/"
    },
    "executionInfo": {
     "elapsed": 8408,
     "status": "ok",
     "timestamp": 1620798413382,
     "user": {
      "displayName": "Nishant Singh",
      "photoUrl": "https://lh3.googleusercontent.com/a-/AOh14GjUQCrk-faKBPHBYQ7dZiV7cSiHeQ0NWSVihFrxwA=s64",
      "userId": "15030016934842181675"
     },
     "user_tz": -330
    },
    "id": "dx6JMD-qFR_g",
    "outputId": "cee5aaae-1894-4f7f-e3ae-68d7a375a102"
   },
   "outputs": [
    {
     "name": "stdout",
     "output_type": "stream",
     "text": [
      "3.519095537179635\n"
     ]
    }
   ],
   "source": [
    "print(z[55][1])"
   ]
  },
  {
   "cell_type": "markdown",
   "metadata": {
    "id": "OYkJBHcjFYCW"
   },
   "source": [
    "**Removing Outliers**\n",
    "\n",
    "- Taking only those rows which lies under our threshold"
   ]
  },
  {
   "cell_type": "code",
   "execution_count": null,
   "metadata": {
    "id": "duAamDCxFayF"
   },
   "outputs": [],
   "source": [
    "boston_df_o = boston_df_o[(z < 3).all(axis=1)]"
   ]
  },
  {
   "cell_type": "code",
   "execution_count": null,
   "metadata": {
    "colab": {
     "base_uri": "https://localhost:8080/"
    },
    "executionInfo": {
     "elapsed": 8387,
     "status": "ok",
     "timestamp": 1620798413383,
     "user": {
      "displayName": "Nishant Singh",
      "photoUrl": "https://lh3.googleusercontent.com/a-/AOh14GjUQCrk-faKBPHBYQ7dZiV7cSiHeQ0NWSVihFrxwA=s64",
      "userId": "15030016934842181675"
     },
     "user_tz": -330
    },
    "id": "GkcYRZ_9FcOc",
    "outputId": "52019530-cfe6-407e-e2fd-acfb7724c94b"
   },
   "outputs": [
    {
     "data": {
      "text/plain": [
       "(501, 13)"
      ]
     },
     "execution_count": 70,
     "metadata": {},
     "output_type": "execute_result"
    }
   ],
   "source": [
    "boston_df.shape"
   ]
  },
  {
   "cell_type": "code",
   "execution_count": null,
   "metadata": {
    "colab": {
     "base_uri": "https://localhost:8080/"
    },
    "executionInfo": {
     "elapsed": 8375,
     "status": "ok",
     "timestamp": 1620798413384,
     "user": {
      "displayName": "Nishant Singh",
      "photoUrl": "https://lh3.googleusercontent.com/a-/AOh14GjUQCrk-faKBPHBYQ7dZiV7cSiHeQ0NWSVihFrxwA=s64",
      "userId": "15030016934842181675"
     },
     "user_tz": -330
    },
    "id": "9roYfFDvFdt6",
    "outputId": "2a70daf5-939a-419a-df14-c9705b47f697"
   },
   "outputs": [
    {
     "data": {
      "text/plain": [
       "(408, 13)"
      ]
     },
     "execution_count": 71,
     "metadata": {},
     "output_type": "execute_result"
    }
   ],
   "source": [
    "boston_df_o.shape"
   ]
  },
  {
   "cell_type": "code",
   "execution_count": null,
   "metadata": {
    "id": "zxtw3LPZFf9j"
   },
   "outputs": [],
   "source": [
    "boston_df_o1 = boston_df"
   ]
  },
  {
   "cell_type": "markdown",
   "metadata": {
    "id": "G6qHJ_0AMN0F"
   },
   "source": [
    "**Now, let us use IQR (Interquartile range ) technique once again to remove outliers** "
   ]
  },
  {
   "cell_type": "code",
   "execution_count": null,
   "metadata": {
    "colab": {
     "base_uri": "https://localhost:8080/"
    },
    "executionInfo": {
     "elapsed": 8358,
     "status": "ok",
     "timestamp": 1620798413385,
     "user": {
      "displayName": "Nishant Singh",
      "photoUrl": "https://lh3.googleusercontent.com/a-/AOh14GjUQCrk-faKBPHBYQ7dZiV7cSiHeQ0NWSVihFrxwA=s64",
      "userId": "15030016934842181675"
     },
     "user_tz": -330
    },
    "id": "qnUPjcZsFhtr",
    "outputId": "b9a89739-6d14-48f6-d0e3-ec46c77433ea"
   },
   "outputs": [
    {
     "name": "stdout",
     "output_type": "stream",
     "text": [
      "CRIM         3.61046\n",
      "ZN          12.50000\n",
      "INDUS       12.91000\n",
      "CHAS         0.00000\n",
      "NOX          0.17100\n",
      "AGE         48.40000\n",
      "DIS          3.02850\n",
      "RAD         20.00000\n",
      "TAX        387.00000\n",
      "PTRATIO      2.80000\n",
      "B           20.91000\n",
      "LSTAT        9.97000\n",
      "MEDV         8.20000\n",
      "dtype: float64\n"
     ]
    }
   ],
   "source": [
    "Q1 = boston_df_o1.quantile(0.25)\n",
    "Q3 = boston_df_o1.quantile(0.75)\n",
    "IQR = Q3 - Q1\n",
    "print(IQR)"
   ]
  },
  {
   "cell_type": "code",
   "execution_count": null,
   "metadata": {
    "colab": {
     "base_uri": "https://localhost:8080/"
    },
    "executionInfo": {
     "elapsed": 8345,
     "status": "ok",
     "timestamp": 1620798413385,
     "user": {
      "displayName": "Nishant Singh",
      "photoUrl": "https://lh3.googleusercontent.com/a-/AOh14GjUQCrk-faKBPHBYQ7dZiV7cSiHeQ0NWSVihFrxwA=s64",
      "userId": "15030016934842181675"
     },
     "user_tz": -330
    },
    "id": "bBY9k9mUa8ck",
    "outputId": "4aeb267b-288f-4b4d-b153-8024a3755e63"
   },
   "outputs": [
    {
     "data": {
      "text/plain": [
       "3.61046"
      ]
     },
     "execution_count": 74,
     "metadata": {},
     "output_type": "execute_result"
    }
   ],
   "source": [
    "IQR[\"CRIM\"]"
   ]
  },
  {
   "cell_type": "code",
   "execution_count": null,
   "metadata": {
    "colab": {
     "base_uri": "https://localhost:8080/"
    },
    "executionInfo": {
     "elapsed": 8333,
     "status": "ok",
     "timestamp": 1620798413386,
     "user": {
      "displayName": "Nishant Singh",
      "photoUrl": "https://lh3.googleusercontent.com/a-/AOh14GjUQCrk-faKBPHBYQ7dZiV7cSiHeQ0NWSVihFrxwA=s64",
      "userId": "15030016934842181675"
     },
     "user_tz": -330
    },
    "id": "ZqpfMdS9Fj0q",
    "outputId": "cedaa5d1-7142-4b5b-ad88-3d065f44ffeb"
   },
   "outputs": [
    {
     "data": {
      "text/plain": [
       "(408, 13)"
      ]
     },
     "execution_count": 75,
     "metadata": {},
     "output_type": "execute_result"
    }
   ],
   "source": [
    "boston_df_o.shape"
   ]
  },
  {
   "cell_type": "code",
   "execution_count": null,
   "metadata": {
    "id": "RccXHeqFYi_g"
   },
   "outputs": [],
   "source": [
    "# Custom function to find and remove outliers based on each column\n",
    "def multi_outlier_treatment(data):\n",
    "    columns = data.drop(columns=[\"MEDV\"]).columns  # Getting the names of each row except the target row for Analysis\n",
    "    Q1 = boston_df_o1.quantile(0.25)\n",
    "    Q3 = boston_df_o1.quantile(0.75)\n",
    "    IQR = Q3 - Q1\n",
    "    row_index_list = list()\n",
    "    print()\n",
    "\n",
    "    for col in columns:\n",
    "      lower_range = Q1[col] - (1.5 * IQR[col])\n",
    "      upper_range = Q3[col] + (1.5 * IQR[col])\n",
    "\n",
    "      lower_data_df = data[data[col].values < lower_range]\n",
    "      upper_data_df = data[data[col].values > upper_range]\n",
    "\n",
    "      lower_outliers = lower_data_df.value_counts().sum(axis=0)\n",
    "      upper_outliers = upper_data_df.value_counts().sum(axis=0)\n",
    "      total_outliers = lower_outliers + upper_outliers\n",
    "      print(\"Total Number of Outliers in \"+str(col)+\" column:\",total_outliers)\n",
    "\n",
    "      lower_index = list(data[ data[col] < lower_range ].index)\n",
    "      upper_index = list(data[ data[col] > upper_range ].index)\n",
    "      total_index = list(lower_index + upper_index)\n",
    "\n",
    "      row_index_list = list(row_index_list + total_index)\n",
    "\n",
    "    row_index_list = list(set(row_index_list))\n",
    "    row_index_list.sort()\n",
    "    total_rows_count = len(row_index_list)\n",
    "    print()\n",
    "    print(\"Total number of unique rows to delete:\",total_rows_count)\n",
    "    print()\n",
    "    print(\"Unique rows to delete:\\n\", row_index_list)\n",
    "    print()\n",
    "    return data.drop(row_index_list)\n"
   ]
  },
  {
   "cell_type": "markdown",
   "metadata": {
    "id": "JqkMmuQuMN0G"
   },
   "source": [
    "### **Let's drop all the rows which do not lie between the upper and lower range**\n",
    "\n",
    "- We are going to drop 120 rows from our dataset that contains outliers"
   ]
  },
  {
   "cell_type": "code",
   "execution_count": null,
   "metadata": {
    "colab": {
     "base_uri": "https://localhost:8080/"
    },
    "executionInfo": {
     "elapsed": 8313,
     "status": "ok",
     "timestamp": 1620798413387,
     "user": {
      "displayName": "Nishant Singh",
      "photoUrl": "https://lh3.googleusercontent.com/a-/AOh14GjUQCrk-faKBPHBYQ7dZiV7cSiHeQ0NWSVihFrxwA=s64",
      "userId": "15030016934842181675"
     },
     "user_tz": -330
    },
    "id": "esFM0brFYijB",
    "outputId": "d73327f1-6d26-4b0a-f0cd-c31e0f923a6a"
   },
   "outputs": [
    {
     "name": "stdout",
     "output_type": "stream",
     "text": [
      "Shape before dropping outlier rows: (408, 13)\n",
      "\n",
      "Total Number of Outliers in CRIM column: 42\n",
      "Total Number of Outliers in ZN column: 34\n",
      "Total Number of Outliers in INDUS column: 0\n",
      "Total Number of Outliers in CHAS column: 0\n",
      "Total Number of Outliers in NOX column: 0\n",
      "Total Number of Outliers in AGE column: 0\n",
      "Total Number of Outliers in DIS column: 0\n",
      "Total Number of Outliers in RAD column: 0\n",
      "Total Number of Outliers in TAX column: 0\n",
      "Total Number of Outliers in PTRATIO column: 12\n",
      "Total Number of Outliers in B column: 44\n",
      "Total Number of Outliers in LSTAT column: 0\n",
      "\n",
      "Total number of unique rows to delete: 120\n",
      "\n",
      "Unique rows to delete:\n",
      " [18, 25, 27, 32, 34, 39, 40, 54, 118, 134, 145, 146, 151, 153, 156, 165, 167, 168, 169, 170, 187, 188, 189, 190, 191, 192, 193, 194, 257, 258, 259, 260, 261, 262, 263, 264, 265, 266, 267, 268, 275, 278, 285, 287, 288, 289, 298, 299, 300, 301, 302, 303, 304, 305, 306, 307, 331, 332, 341, 343, 344, 349, 350, 366, 367, 371, 375, 376, 377, 378, 379, 381, 382, 384, 385, 386, 387, 388, 392, 394, 399, 400, 401, 402, 403, 406, 407, 408, 409, 413, 417, 420, 421, 422, 428, 430, 432, 433, 434, 435, 439, 440, 441, 443, 444, 446, 447, 448, 449, 458, 460, 465, 467, 468, 469, 475, 477, 478, 479, 490]\n",
      "\n",
      "Shape after dropping outlier rows: (288, 13)\n"
     ]
    }
   ],
   "source": [
    "print(\"Shape before dropping outlier rows:\", boston_df_o.shape)\n",
    "boston_df_o = multi_outlier_treatment(boston_df_o)\n",
    "print(\"Shape after dropping outlier rows:\", boston_df_o.shape)"
   ]
  },
  {
   "cell_type": "markdown",
   "metadata": {
    "id": "WMrpmHDkmlJH"
   },
   "source": [
    "### **Conclusion**\n",
    "- The completed dataset, `boston_df_o`, can now be utilised to construct a model. As the dataset is so well-defined, the model will be more accurate."
   ]
  },
  {
   "cell_type": "code",
   "execution_count": null,
   "metadata": {
    "colab": {
     "base_uri": "https://localhost:8080/"
    },
    "executionInfo": {
     "elapsed": 8297,
     "status": "ok",
     "timestamp": 1620798413387,
     "user": {
      "displayName": "Nishant Singh",
      "photoUrl": "https://lh3.googleusercontent.com/a-/AOh14GjUQCrk-faKBPHBYQ7dZiV7cSiHeQ0NWSVihFrxwA=s64",
      "userId": "15030016934842181675"
     },
     "user_tz": -330
    },
    "id": "wmvw9Pu6eOe3",
    "outputId": "1c30b248-a263-48a9-bfff-fa2c43cfd796"
   },
   "outputs": [
    {
     "name": "stdout",
     "output_type": "stream",
     "text": [
      "CRIM       0\n",
      "ZN         0\n",
      "INDUS      0\n",
      "CHAS       0\n",
      "NOX        0\n",
      "AGE        0\n",
      "DIS        0\n",
      "RAD        0\n",
      "TAX        0\n",
      "PTRATIO    0\n",
      "B          0\n",
      "LSTAT      0\n",
      "MEDV       0\n",
      "dtype: int64\n"
     ]
    }
   ],
   "source": [
    "print(boston_df_o.isna().sum(axis=0))"
   ]
  },
  {
   "cell_type": "markdown",
   "metadata": {
    "id": "p5ItnbzwLhlU"
   },
   "source": [
    "**Note: In this notebook, we saw the use of the data wrangling methods, but in the second notbook of this lesson we are going to use one of these methods as a component for analyzing the data acquired with \"Web Scraping\".**"
   ]
  },
  {
   "cell_type": "markdown",
   "metadata": {
    "id": "SwMtDsuJFpC6"
   },
   "source": [
    "![Simplilearn_Logo](https://labcontent.simplicdn.net/data-content/content-assets/Data_and_AI/Logo_Powered_By_Simplilearn/SL_Logo_1.png)"
   ]
  }
 ],
 "metadata": {
  "colab": {
   "collapsed_sections": [],
   "name": "4.01_Data_Wrangling.ipynb",
   "provenance": []
  },
  "kernelspec": {
   "display_name": "Python 3 (ipykernel)",
   "language": "python",
   "name": "python3"
  },
  "language_info": {
   "codemirror_mode": {
    "name": "ipython",
    "version": 3
   },
   "file_extension": ".py",
   "mimetype": "text/x-python",
   "name": "python",
   "nbconvert_exporter": "python",
   "pygments_lexer": "ipython3",
   "version": "3.8.5"
  }
 },
 "nbformat": 4,
 "nbformat_minor": 1
}
